{
 "cells": [
  {
   "cell_type": "code",
   "execution_count": 1,
   "id": "5eaf615d-08ad-424b-88ad-15f6a9dc9e66",
   "metadata": {},
   "outputs": [],
   "source": [
    "import sys\n",
    "sys.path.append('..')\n",
    "import importlib\n",
    "import neural_policies\n",
    "import main\n",
    "import game_utils\n",
    "import policy_gradient\n",
    "\n",
    "import torch\n",
    "import yaml\n",
    "import numpy as np\n",
    "import pyspiel\n",
    "from types import SimpleNamespace\n",
    "\n",
    "importlib.reload(main)\n",
    "importlib.reload(neural_policies)\n",
    "importlib.reload(game_utils)\n",
    "importlib.reload(policy_gradient)\n",
    "\n",
    "seed = 1\n",
    "torch.random.manual_seed(seed)\n",
    "np.random.seed(seed)"
   ]
  },
  {
   "cell_type": "code",
   "execution_count": 2,
   "id": "bb42d324",
   "metadata": {},
   "outputs": [],
   "source": [
    "# game = game_utils.create_random_normal_game(5)\n",
    "# game = main.create_game(SimpleNamespace(game=\"rps\"))\n",
    "game = main.create_game(SimpleNamespace(game=\"kuhn_poker\"))\n",
    "# nn_config_file = \"../config/linear_mlp.yaml\"\n",
    "# nn_config_file = \"../config/kuhn_mlp.yaml\"\n",
    "nn_config_file = \"../config/kuhn_big.yaml\"\n",
    "reinforce_config_file = \"../config/reinforce_train.yaml\"\n",
    "nn_config = yaml.safe_load(open(nn_config_file, \"r\"))\n",
    "reinforce_config = yaml.safe_load(open(reinforce_config_file, \"r\"))"
   ]
  },
  {
   "cell_type": "code",
   "execution_count": 3,
   "id": "ccecd572",
   "metadata": {},
   "outputs": [
    {
     "name": "stdout",
     "output_type": "stream",
     "text": [
      "Exploitability: 0.06869879381715754\n",
      "<open_spiel.python.policy.TabularPolicy object at 0x7ff74025b760>\n",
      "nash value [-0.05311271  0.05311271]\n"
     ]
    }
   ],
   "source": [
    "nash_policy, nash_value = main.nash_equilibrium_policy_and_value(game)\n",
    "print(\"nash value\", nash_value)\n",
    "nn_player = 0\n",
    "nn_policy = neural_policies.create_policy_net(game, nn_config)\n",
    "nn_tab_policy = neural_policies.nn_to_tabular_policy(game, nn_policy, nn_player)"
   ]
  },
  {
   "cell_type": "markdown",
   "id": "b80ca92c",
   "metadata": {},
   "source": [
    "# ignore from here"
   ]
  },
  {
   "cell_type": "code",
   "execution_count": 4,
   "id": "80cc8c28",
   "metadata": {},
   "outputs": [],
   "source": [
    "# s = game_utils.all_game_states(game, 0)[0]\n",
    "# s.legal_actions_mask()\n",
    "# s.information_state_tensor()"
   ]
  },
  {
   "cell_type": "code",
   "execution_count": 5,
   "id": "77136e2d",
   "metadata": {},
   "outputs": [
    {
     "name": "stderr",
     "output_type": "stream",
     "text": [
      "  0%|          | 0/100000 [00:00<?, ?it/s]\n"
     ]
    },
    {
     "ename": "AttributeError",
     "evalue": "'HyperNetworkActionOutput' object has no attribute 'model_weight_output'",
     "output_type": "error",
     "traceback": [
      "\u001b[0;31m---------------------------------------------------------------------------\u001b[0m",
      "\u001b[0;31mAttributeError\u001b[0m                            Traceback (most recent call last)",
      "\u001b[1;32m/home/tobias/studium/cmu/semester3/game_solving/project/code/notebooks/explore hypernet.ipynb Cell 6\u001b[0m line \u001b[0;36m3\n\u001b[1;32m      <a href='vscode-notebook-cell:/home/tobias/studium/cmu/semester3/game_solving/project/code/notebooks/explore%20hypernet.ipynb#W5sZmlsZQ%3D%3D?line=0'>1</a>\u001b[0m \u001b[39mfrom\u001b[39;00m \u001b[39mpolicy_gradient\u001b[39;00m \u001b[39mimport\u001b[39;00m PolicyGradientHypernetTrainer\n\u001b[0;32m----> <a href='vscode-notebook-cell:/home/tobias/studium/cmu/semester3/game_solving/project/code/notebooks/explore%20hypernet.ipynb#W5sZmlsZQ%3D%3D?line=2'>3</a>\u001b[0m hypernet \u001b[39m=\u001b[39m main\u001b[39m.\u001b[39;49mtrain_hypernet_actionoutput(game, nn_config, nn_player, nn_policy, \u001b[39m\"\u001b[39;49m\u001b[39m../config/hypernet.yaml\u001b[39;49m\u001b[39m\"\u001b[39;49m, \u001b[39m\"\u001b[39;49m\u001b[39m../config/hypernet_reinforce_train.yaml\u001b[39;49m\u001b[39m\"\u001b[39;49m)\n\u001b[1;32m      <a href='vscode-notebook-cell:/home/tobias/studium/cmu/semester3/game_solving/project/code/notebooks/explore%20hypernet.ipynb#W5sZmlsZQ%3D%3D?line=4'>5</a>\u001b[0m hypernet_config \u001b[39m=\u001b[39m \u001b[39m\"\u001b[39m\u001b[39m../config/hypernet.yaml\u001b[39m\u001b[39m\"\u001b[39m\n\u001b[1;32m      <a href='vscode-notebook-cell:/home/tobias/studium/cmu/semester3/game_solving/project/code/notebooks/explore%20hypernet.ipynb#W5sZmlsZQ%3D%3D?line=5'>6</a>\u001b[0m hypernet_config \u001b[39m=\u001b[39m yaml\u001b[39m.\u001b[39msafe_load(\u001b[39mopen\u001b[39m(hypernet_config, \u001b[39m\"\u001b[39m\u001b[39mr\u001b[39m\u001b[39m\"\u001b[39m))\n",
      "File \u001b[0;32m~/studium/cmu/semester3/game_solving/project/code/notebooks/../main.py:62\u001b[0m, in \u001b[0;36mtrain_hypernet_actionoutput\u001b[0;34m(game, nn_config, nn_player, nn_policy, hypernet_config, train_config)\u001b[0m\n\u001b[1;32m     58\u001b[0m hypernet \u001b[39m=\u001b[39m neural_policies\u001b[39m.\u001b[39mcreate_hypernet_actionoutput(\n\u001b[1;32m     59\u001b[0m     game, nn_policy, hypernet_config\n\u001b[1;32m     60\u001b[0m )\n\u001b[1;32m     61\u001b[0m trainer \u001b[39m=\u001b[39m PolicyGradientHypernetTrainer(game, hypernet, train_config)\n\u001b[0;32m---> 62\u001b[0m trainer\u001b[39m.\u001b[39;49mtrain_best_response(nn_config, \u001b[39m1\u001b[39;49m \u001b[39m-\u001b[39;49m nn_player)\n\u001b[1;32m     63\u001b[0m \u001b[39mreturn\u001b[39;00m hypernet\n",
      "File \u001b[0;32m~/studium/cmu/semester3/game_solving/project/code/notebooks/../policy_gradient.py:232\u001b[0m, in \u001b[0;36mPolicyGradientHypernetTrainer.train_best_response\u001b[0;34m(self, opponent_config, br_player_id)\u001b[0m\n\u001b[1;32m    230\u001b[0m     loss \u001b[39m+\u001b[39m\u001b[39m=\u001b[39m new_loss\n\u001b[1;32m    231\u001b[0m loss \u001b[39m/\u001b[39m\u001b[39m=\u001b[39m cnt_per\n\u001b[0;32m--> 232\u001b[0m out_weights \u001b[39m=\u001b[39m \u001b[39mself\u001b[39;49m\u001b[39m.\u001b[39;49mpolicy_network\u001b[39m.\u001b[39;49mmodel_weight_output(opponent_network)\n\u001b[1;32m    233\u001b[0m weight_norm \u001b[39m=\u001b[39m torch\u001b[39m.\u001b[39mlinalg\u001b[39m.\u001b[39mnorm(out_weights, \u001b[39mord\u001b[39m\u001b[39m=\u001b[39m\u001b[39m1\u001b[39m) \u001b[39m*\u001b[39m \u001b[39m1e-1\u001b[39m\n\u001b[1;32m    234\u001b[0m loss \u001b[39m+\u001b[39m\u001b[39m=\u001b[39m weight_norm\n",
      "File \u001b[0;32m~/bin/anaconda3/envs/game_solving/lib/python3.9/site-packages/torch/nn/modules/module.py:1695\u001b[0m, in \u001b[0;36mModule.__getattr__\u001b[0;34m(self, name)\u001b[0m\n\u001b[1;32m   1693\u001b[0m     \u001b[39mif\u001b[39;00m name \u001b[39min\u001b[39;00m modules:\n\u001b[1;32m   1694\u001b[0m         \u001b[39mreturn\u001b[39;00m modules[name]\n\u001b[0;32m-> 1695\u001b[0m \u001b[39mraise\u001b[39;00m \u001b[39mAttributeError\u001b[39;00m(\u001b[39mf\u001b[39m\u001b[39m\"\u001b[39m\u001b[39m'\u001b[39m\u001b[39m{\u001b[39;00m\u001b[39mtype\u001b[39m(\u001b[39mself\u001b[39m)\u001b[39m.\u001b[39m\u001b[39m__name__\u001b[39m\u001b[39m}\u001b[39;00m\u001b[39m'\u001b[39m\u001b[39m object has no attribute \u001b[39m\u001b[39m'\u001b[39m\u001b[39m{\u001b[39;00mname\u001b[39m}\u001b[39;00m\u001b[39m'\u001b[39m\u001b[39m\"\u001b[39m)\n",
      "\u001b[0;31mAttributeError\u001b[0m: 'HyperNetworkActionOutput' object has no attribute 'model_weight_output'"
     ]
    }
   ],
   "source": [
    "from policy_gradient import PolicyGradientHypernetTrainer\n",
    "\n",
    "# hypernet = main.train_hypernet_actionoutput(game, nn_config, nn_player, nn_policy, \"../config/hypernet.yaml\", \"../config/hypernet_reinforce_train.yaml\")\n",
    "\n",
    "hypernet_config = \"../config/hypernet.yaml\"\n",
    "hypernet_config = yaml.safe_load(open(hypernet_config, \"r\"))\n",
    "hypernet_train_config = \"../config/hypernet_reinforce_train.yaml\"\n",
    "hypernet_train_config = yaml.safe_load(open(hypernet_train_config, \"r\"))\n",
    "\n",
    "mlp = neural_policies.create_policy_net(game, nn_config)\n",
    "# hypernet = neural_policies.create_hypernet_nn_output(game, mlp, hypernet_config)\n",
    "hypernet = neural_policies.create_hypernet_actionoutput(game, mlp, hypernet_config)\n",
    "trainer = PolicyGradientHypernetTrainer(game, hypernet, hypernet_train_config)"
   ]
  },
  {
   "cell_type": "code",
   "execution_count": 6,
   "id": "5c5c7625",
   "metadata": {},
   "outputs": [
    {
     "name": "stderr",
     "output_type": "stream",
     "text": [
      "  0%|          | 217/100000 [02:48<25:32:10,  1.09it/s]"
     ]
    },
    {
     "name": "stdout",
     "output_type": "stream",
     "text": [
      "[[0.67881411 0.32118592]\n",
      " [0.01395872 0.98604125]\n",
      " [0.64661425 0.35338572]\n",
      " [0.38737103 0.61262906]\n",
      " [0.763515   0.23648497]\n",
      " [0.68917471 0.31082529]\n",
      " [0.5        0.5       ]\n",
      " [0.5        0.5       ]\n",
      " [0.5        0.5       ]\n",
      " [0.5        0.5       ]\n",
      " [0.5        0.5       ]\n",
      " [0.5        0.5       ]]\n",
      "[[0.5 0.5]\n",
      " [0.5 0.5]\n",
      " [0.5 0.5]\n",
      " [0.5 0.5]\n",
      " [0.5 0.5]\n",
      " [0.5 0.5]\n",
      " [0.  1. ]\n",
      " [0.  1. ]\n",
      " [0.  1. ]\n",
      " [0.  1. ]\n",
      " [0.  1. ]\n",
      " [1.  0. ]]\n",
      "value of table br policy [-0.70484179  0.70484179]\n",
      "[[5.00000000e-01 5.00000000e-01]\n",
      " [5.00000000e-01 5.00000000e-01]\n",
      " [5.00000000e-01 5.00000000e-01]\n",
      " [5.00000000e-01 5.00000000e-01]\n",
      " [5.00000000e-01 5.00000000e-01]\n",
      " [5.00000000e-01 5.00000000e-01]\n",
      " [7.79365229e-24 1.00000000e+00]\n",
      " [2.26749266e-25 1.00000000e+00]\n",
      " [3.91736507e-01 6.08263493e-01]\n",
      " [6.25857541e-25 1.00000000e+00]\n",
      " [5.27535791e-25 1.00000000e+00]\n",
      " [2.37434585e-25 1.00000000e+00]]\n",
      "value of hypernet br policy [-0.53696586  0.53696586]\n",
      "(0.0, 1.0, 1.0, 0.0, 0.0, 1.0, 0.0, 0.0, 0.0, 0.0, 0.0) -10.0 -6.0 10 9\n",
      "(0.0, 1.0, 0.0, 1.0, 0.0, 1.0, 0.0, 0.0, 0.0, 0.0, 0.0) 5.0 20.0 15 16\n",
      "(0.0, 1.0, 0.0, 0.0, 1.0, 1.0, 0.0, 0.0, 0.0, 0.0, 0.0) 13.0 25.0 13 13\n",
      "(0.0, 1.0, 1.0, 0.0, 0.0, 0.0, 1.0, 0.0, 0.0, 0.0, 0.0) -6.0 -10.0 6 5\n",
      "(0.0, 1.0, 0.0, 1.0, 0.0, 0.0, 1.0, 0.0, 0.0, 0.0, 0.0) -3.0 -2.0 3 3\n",
      "(0.0, 1.0, 0.0, 0.0, 1.0, 0.0, 1.0, 0.0, 0.0, 0.0, 0.0) -3.0 8.0 3 4\n"
     ]
    },
    {
     "name": "stderr",
     "output_type": "stream",
     "text": [
      "  0%|          | 313/100000 [05:14<27:52:03,  1.01s/it] \n"
     ]
    },
    {
     "ename": "KeyboardInterrupt",
     "evalue": "",
     "output_type": "error",
     "traceback": [
      "\u001b[0;31m---------------------------------------------------------------------------\u001b[0m",
      "\u001b[0;31mKeyboardInterrupt\u001b[0m                         Traceback (most recent call last)",
      "\u001b[1;32m/home/tobias/studium/cmu/semester3/game_solving/project/code/notebooks/explore hypernet.ipynb Cell 7\u001b[0m line \u001b[0;36m1\n\u001b[0;32m----> <a href='vscode-notebook-cell:/home/tobias/studium/cmu/semester3/game_solving/project/code/notebooks/explore%20hypernet.ipynb#W6sZmlsZQ%3D%3D?line=0'>1</a>\u001b[0m trainer\u001b[39m.\u001b[39;49mtrain_best_response(nn_config, \u001b[39m1\u001b[39;49m \u001b[39m-\u001b[39;49m nn_player)\n",
      "File \u001b[0;32m~/studium/cmu/semester3/game_solving/project/code/notebooks/../policy_gradient.py:217\u001b[0m, in \u001b[0;36mPolicyGradientHypernetTrainer.train_best_response\u001b[0;34m(self, opponent_config, br_player_id)\u001b[0m\n\u001b[1;32m    215\u001b[0m loss_per_action \u001b[39m=\u001b[39m defaultdict(\u001b[39mlambda\u001b[39;00m : [[], []])\n\u001b[1;32m    216\u001b[0m \u001b[39mfor\u001b[39;00m _ \u001b[39min\u001b[39;00m \u001b[39mrange\u001b[39m(cnt_per):\n\u001b[0;32m--> 217\u001b[0m     experience, log_probs, reward, is_ratios \u001b[39m=\u001b[39m \u001b[39mself\u001b[39;49m\u001b[39m.\u001b[39;49mrun_episode(\n\u001b[1;32m    218\u001b[0m         \u001b[39mself\u001b[39;49m\u001b[39m.\u001b[39;49mgame, networks, br_player_id\n\u001b[1;32m    219\u001b[0m     )\n\u001b[1;32m    221\u001b[0m     \u001b[39m# loss = -log_probs * reward * is_ratios\u001b[39;00m\n\u001b[1;32m    222\u001b[0m     new_loss \u001b[39m=\u001b[39m \u001b[39m-\u001b[39mlog_probs \u001b[39m*\u001b[39m reward\n",
      "File \u001b[0;32m~/studium/cmu/semester3/game_solving/project/code/notebooks/../policy_gradient.py:128\u001b[0m, in \u001b[0;36mPolicyGradientHypernetTrainer.run_episode\u001b[0;34m(self, game, networks, br_player_id)\u001b[0m\n\u001b[1;32m    121\u001b[0m     probs \u001b[39m=\u001b[39m get_hypernet_probs(\n\u001b[1;32m    122\u001b[0m         networks[cur_player],\n\u001b[1;32m    123\u001b[0m         networks[\u001b[39m1\u001b[39m \u001b[39m-\u001b[39m cur_player],\n\u001b[1;32m    124\u001b[0m         state,\n\u001b[1;32m    125\u001b[0m         cur_player,\n\u001b[1;32m    126\u001b[0m     )\n\u001b[1;32m    127\u001b[0m     orig_probs \u001b[39m=\u001b[39m probs\n\u001b[0;32m--> 128\u001b[0m     probs \u001b[39m=\u001b[39m \u001b[39mself\u001b[39;49m\u001b[39m.\u001b[39;49mepsilon_random(probs, state, cur_player)\n\u001b[1;32m    129\u001b[0m \u001b[39melse\u001b[39;00m:\n\u001b[1;32m    130\u001b[0m     probs \u001b[39m=\u001b[39m get_nn_probs(networks[cur_player], state, cur_player)\n",
      "File \u001b[0;32m~/studium/cmu/semester3/game_solving/project/code/notebooks/../policy_gradient.py:97\u001b[0m, in \u001b[0;36mPolicyGradientHypernetTrainer.epsilon_random\u001b[0;34m(self, probs, state, cur_player)\u001b[0m\n\u001b[1;32m     95\u001b[0m uniform \u001b[39m=\u001b[39m uniform \u001b[39m/\u001b[39m uniform\u001b[39m.\u001b[39msum()\n\u001b[1;32m     96\u001b[0m res \u001b[39m=\u001b[39m (\u001b[39m1\u001b[39m \u001b[39m-\u001b[39m \u001b[39mself\u001b[39m\u001b[39m.\u001b[39mepsilon) \u001b[39m*\u001b[39m probs \u001b[39m+\u001b[39m uniform \u001b[39m*\u001b[39m \u001b[39mself\u001b[39m\u001b[39m.\u001b[39mepsilon\n\u001b[0;32m---> 97\u001b[0m \u001b[39massert\u001b[39;00m \u001b[39mabs\u001b[39;49m(res\u001b[39m.\u001b[39msum() \u001b[39m-\u001b[39m \u001b[39m1.0\u001b[39m) \u001b[39m<\u001b[39m \u001b[39m1e-6\u001b[39m\n\u001b[1;32m     98\u001b[0m \u001b[39mreturn\u001b[39;00m res\n",
      "File \u001b[0;32m~/studium/cmu/semester3/game_solving/project/code/notebooks/../policy_gradient.py:97\u001b[0m, in \u001b[0;36mPolicyGradientHypernetTrainer.epsilon_random\u001b[0;34m(self, probs, state, cur_player)\u001b[0m\n\u001b[1;32m     95\u001b[0m uniform \u001b[39m=\u001b[39m uniform \u001b[39m/\u001b[39m uniform\u001b[39m.\u001b[39msum()\n\u001b[1;32m     96\u001b[0m res \u001b[39m=\u001b[39m (\u001b[39m1\u001b[39m \u001b[39m-\u001b[39m \u001b[39mself\u001b[39m\u001b[39m.\u001b[39mepsilon) \u001b[39m*\u001b[39m probs \u001b[39m+\u001b[39m uniform \u001b[39m*\u001b[39m \u001b[39mself\u001b[39m\u001b[39m.\u001b[39mepsilon\n\u001b[0;32m---> 97\u001b[0m \u001b[39massert\u001b[39;00m \u001b[39mabs\u001b[39;49m(res\u001b[39m.\u001b[39msum() \u001b[39m-\u001b[39m \u001b[39m1.0\u001b[39m) \u001b[39m<\u001b[39m \u001b[39m1e-6\u001b[39m\n\u001b[1;32m     98\u001b[0m \u001b[39mreturn\u001b[39;00m res\n",
      "File \u001b[0;32m_pydevd_bundle/pydevd_cython.pyx:1457\u001b[0m, in \u001b[0;36m_pydevd_bundle.pydevd_cython.SafeCallWrapper.__call__\u001b[0;34m()\u001b[0m\n",
      "File \u001b[0;32m_pydevd_bundle/pydevd_cython.pyx:701\u001b[0m, in \u001b[0;36m_pydevd_bundle.pydevd_cython.PyDBFrame.trace_dispatch\u001b[0;34m()\u001b[0m\n",
      "File \u001b[0;32m_pydevd_bundle/pydevd_cython.pyx:1152\u001b[0m, in \u001b[0;36m_pydevd_bundle.pydevd_cython.PyDBFrame.trace_dispatch\u001b[0;34m()\u001b[0m\n",
      "File \u001b[0;32m_pydevd_bundle/pydevd_cython.pyx:1135\u001b[0m, in \u001b[0;36m_pydevd_bundle.pydevd_cython.PyDBFrame.trace_dispatch\u001b[0;34m()\u001b[0m\n",
      "File \u001b[0;32m_pydevd_bundle/pydevd_cython.pyx:312\u001b[0m, in \u001b[0;36m_pydevd_bundle.pydevd_cython.PyDBFrame.do_wait_suspend\u001b[0;34m()\u001b[0m\n",
      "File \u001b[0;32m~/bin/anaconda3/envs/game_solving/lib/python3.9/site-packages/debugpy/_vendored/pydevd/pydevd.py:2070\u001b[0m, in \u001b[0;36mPyDB.do_wait_suspend\u001b[0;34m(self, thread, frame, event, arg, exception_type)\u001b[0m\n\u001b[1;32m   2067\u001b[0m             from_this_thread\u001b[39m.\u001b[39mappend(frame_custom_thread_id)\n\u001b[1;32m   2069\u001b[0m     \u001b[39mwith\u001b[39;00m \u001b[39mself\u001b[39m\u001b[39m.\u001b[39m_threads_suspended_single_notification\u001b[39m.\u001b[39mnotify_thread_suspended(thread_id, thread, stop_reason):\n\u001b[0;32m-> 2070\u001b[0m         keep_suspended \u001b[39m=\u001b[39m \u001b[39mself\u001b[39;49m\u001b[39m.\u001b[39;49m_do_wait_suspend(thread, frame, event, arg, suspend_type, from_this_thread, frames_tracker)\n\u001b[1;32m   2072\u001b[0m frames_list \u001b[39m=\u001b[39m \u001b[39mNone\u001b[39;00m\n\u001b[1;32m   2074\u001b[0m \u001b[39mif\u001b[39;00m keep_suspended:\n\u001b[1;32m   2075\u001b[0m     \u001b[39m# This means that we should pause again after a set next statement.\u001b[39;00m\n",
      "File \u001b[0;32m~/bin/anaconda3/envs/game_solving/lib/python3.9/site-packages/debugpy/_vendored/pydevd/pydevd.py:2106\u001b[0m, in \u001b[0;36mPyDB._do_wait_suspend\u001b[0;34m(self, thread, frame, event, arg, suspend_type, from_this_thread, frames_tracker)\u001b[0m\n\u001b[1;32m   2103\u001b[0m         \u001b[39mself\u001b[39m\u001b[39m.\u001b[39m_call_input_hook()\n\u001b[1;32m   2105\u001b[0m     \u001b[39mself\u001b[39m\u001b[39m.\u001b[39mprocess_internal_commands()\n\u001b[0;32m-> 2106\u001b[0m     time\u001b[39m.\u001b[39;49msleep(\u001b[39m0.01\u001b[39;49m)\n\u001b[1;32m   2108\u001b[0m \u001b[39mself\u001b[39m\u001b[39m.\u001b[39mcancel_async_evaluation(get_current_thread_id(thread), \u001b[39mstr\u001b[39m(\u001b[39mid\u001b[39m(frame)))\n\u001b[1;32m   2110\u001b[0m \u001b[39m# process any stepping instructions\u001b[39;00m\n",
      "\u001b[0;31mKeyboardInterrupt\u001b[0m: "
     ]
    }
   ],
   "source": [
    "trainer.train_best_response(nn_config, 1 - nn_player)"
   ]
  },
  {
   "cell_type": "code",
   "execution_count": 6,
   "id": "de5aee97",
   "metadata": {},
   "outputs": [
    {
     "name": "stdout",
     "output_type": "stream",
     "text": [
      "nn policy with tabular br value [-0.1596228  0.1596228]\n",
      "value of nn br policy [-0.15929753  0.15929753]\n",
      "value of hypernet br policy [-0.04876066  0.04876066]\n"
     ]
    }
   ],
   "source": [
    "nn_policy = neural_policies.create_policy_net(game, nn_config)\n",
    "nn_tab_policy = neural_policies.nn_to_tabular_policy(game, nn_policy, nn_player)\n",
    "main.tabular_br(game, nn_player, nn_tab_policy)\n",
    "main.policy_gradient_br(\n",
    "    game, nn_config, reinforce_config, nn_player, nn_policy, nn_tab_policy\n",
    ")\n",
    "main.hypernet_br(game, hypernet, nn_player, nn_policy, nn_tab_policy)\n",
    "\n",
    "lst_policy = None"
   ]
  },
  {
   "cell_type": "code",
   "execution_count": 7,
   "id": "68c42880",
   "metadata": {},
   "outputs": [
    {
     "name": "stdout",
     "output_type": "stream",
     "text": [
      "None\n",
      "[[0.33333333 0.33333333 0.33333333]\n",
      " [1.         0.         0.        ]]\n"
     ]
    }
   ],
   "source": [
    "# print(game.row_utilities())\n",
    "\n",
    "new_input_nn = neural_policies.create_policy_net(game, nn_config)\n",
    "input_probs = neural_policies.nn_to_tabular_policy(game, new_input_nn, nn_player).action_probability_array\n",
    "# input_probs = neural_policies.get_nn_probs(new_input_nn, game.new_initial_state(), nn_player)\n",
    "# print(\"input probs\", input_probs)\n",
    "\n",
    "playable_states = game_utils.all_game_states(game, 1-nn_player)\n",
    "state = playable_states[0]\n",
    "\n",
    "# print(neural_policies.get_hypernet_probs(hypernet, new_input_nn, state, 1-nn_player))\n",
    "# print(hypernet(new_input_nn, torch.tensor(state.information_state_tensor(1-nn_player))))\n",
    "nn_response = neural_policies.nn_to_tabular_policy(game, hypernet, 1-nn_player, new_input_nn)\n",
    "# print(\"nn response\", nn_response.action_probability_array)\n",
    "br = main.compute_best_response_tabular_policy(game, nn_tab_policy, 1 - nn_player)\n",
    "print(lst_policy)\n",
    "if lst_policy is not None:\n",
    "    cur_policy = br.action_probability_array\n",
    "    # find rows that differ\n",
    "    diff = np.where(cur_policy != lst_policy)\n",
    "    print(\"diff\", diff)\n",
    "lst_policy = br.action_probability_array\n",
    "print(br.action_probability_array)\n",
    "\n",
    "# neural_br_policy = neural_policies.create_policy_net(game, nn_config)\n",
    "# trainer = policy_gradient.PolicyGradientTrainer(\n",
    "#     game, neural_br_policy, train_params=reinforce_config\n",
    "# )\n",
    "# trainer.train_best_response(nn_policy, 1-nn_player)\n",
    "# print(neural_br_policy(torch.tensor(game.new_initial_state().information_state_tensor(1-nn_player))))\n",
    "# print(neural_policies.get_nn_probs(neural_br_policy, game.new_initial_state(), 1-nn_player))"
   ]
  },
  {
   "cell_type": "code",
   "execution_count": null,
   "id": "404346e1",
   "metadata": {},
   "outputs": [],
   "source": [
    "from pprint import pprint\n",
    "# pprint(list(hypernet._model.get_weights()))\n",
    "mm = hypernet._model\n",
    "[l.bias for l in mm.layers]\n",
    "# mm.layers[-1].weight"
   ]
  },
  {
   "cell_type": "code",
   "execution_count": null,
   "id": "a3b3d109",
   "metadata": {},
   "outputs": [],
   "source": []
  },
  {
   "cell_type": "code",
   "execution_count": 7,
   "id": "385aa77d",
   "metadata": {},
   "outputs": [],
   "source": [
    "import input_net_data\n",
    "importlib.reload(input_net_data)\n",
    "# input_nets = input_net_data.read_all_nn(game, \"../nn_inputs/kuhn\")\n",
    "input_nets = input_net_data.read_all_nn(game, \"../nn_inputs/kuhn-0-big\")\n",
    "# input_nets = input_net_data.read_all_nn(game, \"../nn_inputs/rps\")"
   ]
  },
  {
   "cell_type": "code",
   "execution_count": 8,
   "id": "65ea0d19",
   "metadata": {},
   "outputs": [
    {
     "data": {
      "text/plain": [
       "0"
      ]
     },
     "execution_count": 8,
     "metadata": {},
     "output_type": "execute_result"
    }
   ],
   "source": [
    "ind = -1\n",
    "nn_player"
   ]
  },
  {
   "cell_type": "code",
   "execution_count": 51,
   "id": "fcaf9dd1",
   "metadata": {},
   "outputs": [
    {
     "name": "stdout",
     "output_type": "stream",
     "text": [
      "ind 4\n",
      "[[0.8914901  0.10850996]\n",
      " [0.06324194 0.9367581 ]\n",
      " [0.00770295 0.99229699]\n",
      " [0.00207829 0.99792176]\n",
      " [0.94578105 0.05421892]\n",
      " [0.31916466 0.68083537]\n",
      " [0.5        0.5       ]\n",
      " [0.5        0.5       ]\n",
      " [0.5        0.5       ]\n",
      " [0.5        0.5       ]\n",
      " [0.5        0.5       ]\n",
      " [0.5        0.5       ]]\n",
      "[[0.5 0.5]\n",
      " [0.5 0.5]\n",
      " [0.5 0.5]\n",
      " [0.5 0.5]\n",
      " [0.5 0.5]\n",
      " [0.5 0.5]\n",
      " [0.  1. ]\n",
      " [0.  1. ]\n",
      " [0.  1. ]\n",
      " [0.  1. ]\n",
      " [1.  0. ]\n",
      " [1.  0. ]]\n",
      "value of table br policy [-0.46546748  0.46546748]\n",
      "[[0.5        0.5       ]\n",
      " [0.5        0.5       ]\n",
      " [0.5        0.5       ]\n",
      " [0.5        0.5       ]\n",
      " [0.5        0.5       ]\n",
      " [0.5        0.5       ]\n",
      " [0.96017069 0.03982927]\n",
      " [0.90566278 0.09433722]\n",
      " [0.03334772 0.96665221]\n",
      " [0.33968946 0.66031045]\n",
      " [0.82986069 0.1701393 ]\n",
      " [0.74316478 0.25683516]]\n",
      "5.331690486520529\n",
      "value of table br policy [-0.0595021  0.0595021]\n"
     ]
    }
   ],
   "source": [
    "# nn_policy = neural_policies.create_policy_net(game, nn_config)\n",
    "ind = ind + 1\n",
    "# import random\n",
    "# ind = random.choice([i for i in range(5)])\n",
    "ind = ind % 5\n",
    "print(\"ind\", ind)\n",
    "# print(input_nets[ind].get_weights())\n",
    "nn_tab_policy = neural_policies.nn_to_tabular_policy(game, input_nets[ind], 0)\n",
    "# br_pol = main.tabular_br(game, nn_player, nn_tab_policy)\n",
    "print(nn_tab_policy.action_probability_array)\n",
    "\n",
    "# print(nn_tab_policy.action_probability_array)\n",
    "\n",
    "br = main.compute_best_response_tabular_policy(game, nn_tab_policy, 1)\n",
    "print(br.action_probability_array)\n",
    "combined_policy = main.combine_tabular_policies(game, nn_tab_policy, br)\n",
    "print(\"value of table br policy\", main.policy_value(game, combined_policy))\n",
    "\n",
    "nn_br = neural_policies.nn_to_tabular_policy(game, hypernet, 1-nn_player, input_nets[ind])\n",
    "print(nn_br.action_probability_array)\n",
    "diff = np.abs(br.action_probability_array - nn_br.action_probability_array).sum()\n",
    "print(diff)\n",
    "combined_policy = main.combine_tabular_policies(game, nn_tab_policy, nn_br)\n",
    "print(\"value of table br policy\", main.policy_value(game, combined_policy))"
   ]
  },
  {
   "cell_type": "code",
   "execution_count": 17,
   "id": "ecbacf03",
   "metadata": {},
   "outputs": [
    {
     "name": "stdout",
     "output_type": "stream",
     "text": [
      "[1.0, 0.0, 1.0, 0.0, 0.0, 0.0, 0.0, 0.0, 0.0, 0.0, 0.0] 0\n",
      "[1.0, 0.0, 1.0, 0.0, 0.0, 1.0, 0.0, 0.0, 1.0, 0.0, 0.0] 0pb\n",
      "[1.0, 0.0, 0.0, 1.0, 0.0, 0.0, 0.0, 0.0, 0.0, 0.0, 0.0] 1\n",
      "[1.0, 0.0, 0.0, 1.0, 0.0, 1.0, 0.0, 0.0, 1.0, 0.0, 0.0] 1pb\n",
      "[1.0, 0.0, 0.0, 0.0, 1.0, 0.0, 0.0, 0.0, 0.0, 0.0, 0.0] 2\n",
      "[1.0, 0.0, 0.0, 0.0, 1.0, 1.0, 0.0, 0.0, 1.0, 0.0, 0.0] 2pb\n",
      "[0.0, 1.0, 0.0, 1.0, 0.0, 1.0, 0.0, 0.0, 0.0, 0.0, 0.0] 1p\n",
      "[0.0, 1.0, 0.0, 1.0, 0.0, 0.0, 1.0, 0.0, 0.0, 0.0, 0.0] 1b\n",
      "[0.0, 1.0, 0.0, 0.0, 1.0, 1.0, 0.0, 0.0, 0.0, 0.0, 0.0] 2p\n",
      "[0.0, 1.0, 0.0, 0.0, 1.0, 0.0, 1.0, 0.0, 0.0, 0.0, 0.0] 2b\n",
      "[0.0, 1.0, 1.0, 0.0, 0.0, 1.0, 0.0, 0.0, 0.0, 0.0, 0.0] 0p\n",
      "[0.0, 1.0, 1.0, 0.0, 0.0, 0.0, 1.0, 0.0, 0.0, 0.0, 0.0] 0b\n"
     ]
    }
   ],
   "source": [
    "for s in combined_policy.states:\n",
    "    print(s.information_state_tensor(), s.information_state_string())"
   ]
  },
  {
   "cell_type": "code",
   "execution_count": null,
   "id": "9eb1e5ef",
   "metadata": {},
   "outputs": [],
   "source": []
  },
  {
   "cell_type": "code",
   "execution_count": null,
   "id": "f5e05cc4",
   "metadata": {},
   "outputs": [],
   "source": [
    "from nfn.common import state_dict_to_tensors\n",
    "state_dict_to_tensors(input_nets[0].state_dict())[0][0].shape"
   ]
  },
  {
   "cell_type": "code",
   "execution_count": null,
   "id": "0e4a8ffb",
   "metadata": {},
   "outputs": [],
   "source": [
    "nn = input_nets[0]\n",
    "w1 = list(nn.parameters())[0]"
   ]
  },
  {
   "cell_type": "code",
   "execution_count": null,
   "id": "93d7adb5",
   "metadata": {},
   "outputs": [],
   "source": []
  },
  {
   "cell_type": "code",
   "execution_count": null,
   "id": "05ca9f24",
   "metadata": {},
   "outputs": [],
   "source": []
  },
  {
   "cell_type": "markdown",
   "id": "4675cb12",
   "metadata": {},
   "source": [
    "# relevant from here, next two cells"
   ]
  },
  {
   "cell_type": "code",
   "execution_count": 4,
   "id": "cab2988a",
   "metadata": {},
   "outputs": [],
   "source": [
    "import policy_gradient\n",
    "importlib.reload(policy_gradient)\n",
    "importlib.reload(neural_policies)\n",
    "\n",
    "hypernet_config = \"../config/hypernet.yaml\"\n",
    "hypernet_config = yaml.safe_load(open(hypernet_config, \"r\"))\n",
    "hypernet_train_config = \"../config/hypernet_reinforce_train.yaml\"\n",
    "hypernet_train_config = yaml.safe_load(open(hypernet_train_config, \"r\"))\n",
    "\n",
    "mlp = neural_policies.create_policy_net(game, nn_config)\n",
    "hypernet_nn_output = neural_policies.create_hypernet_nn_output(game, mlp, hypernet_config)\n",
    "trainer = policy_gradient.PolicyGradientHypernetTrainer(game, hypernet_nn_output, hypernet_train_config)"
   ]
  },
  {
   "cell_type": "code",
   "execution_count": 5,
   "id": "7ca17333",
   "metadata": {},
   "outputs": [
    {
     "name": "stderr",
     "output_type": "stream",
     "text": [
      "  0%|          | 0/100000 [00:00<?, ?it/s]"
     ]
    },
    {
     "name": "stdout",
     "output_type": "stream",
     "text": [
      "[[0.33333333 0.33333333 0.33333333]\n",
      " [0.26185703 0.46273056 0.27541241]]\n",
      "[[0.         0.         1.        ]\n",
      " [0.33333333 0.33333333 0.33333333]]\n",
      "value of table br policy [ 0.20087352 -0.20087352]\n",
      "[[0.42134953 0.12136761 0.4572829 ]\n",
      " [0.33333333 0.33333333 0.33333333]]\n",
      "value of hypernet br policy [ 0.01128443 -0.01128443]\n",
      "[[0.35675135 0.27289236 0.37035629]\n",
      " [0.33333333 0.33333333 0.33333333]]\n",
      "[[0.33333333 0.33333333 0.33333333]\n",
      " [1.         0.         0.        ]]\n",
      "value of table br policy [-0.09746394  0.09746394]\n",
      "[[0.33333333 0.33333333 0.33333333]\n",
      " [0.37019143 0.12950855 0.50029999]]\n",
      "value of hypernet br policy [ 0.0076363 -0.0076363]\n",
      "[[0.33333333 0.33333333 0.33333333]\n",
      " [0.26185703 0.46273056 0.27541241]]\n",
      "[[0.         0.         1.        ]\n",
      " [0.33333333 0.33333333 0.33333333]]\n",
      "value of table br policy [ 0.20087352 -0.20087352]\n",
      "[[0.40974024 0.12008872 0.47017103]\n",
      " [0.33333333 0.33333333 0.33333333]]\n",
      "value of hypernet br policy [ 0.01606528 -0.01606528]\n",
      "[[0.35675135 0.27289236 0.37035629]\n",
      " [0.33333333 0.33333333 0.33333333]]\n",
      "[[0.33333333 0.33333333 0.33333333]\n",
      " [1.         0.         0.        ]]\n",
      "value of table br policy [-0.09746394  0.09746394]\n",
      "[[0.33333333 0.33333333 0.33333333]\n",
      " [0.35957178 0.12767643 0.51275176]]\n",
      "value of hypernet br policy [ 0.0096906 -0.0096906]\n"
     ]
    },
    {
     "name": "stderr",
     "output_type": "stream",
     "text": [
      "  0%|          | 261/100000 [00:06<39:18, 42.29it/s]  "
     ]
    },
    {
     "name": "stdout",
     "output_type": "stream",
     "text": [
      "[[3.33333333e-01 3.33333333e-01 3.33333333e-01]\n",
      " [6.78038239e-01 4.40306234e-04 3.21521401e-01]]\n",
      "[[0.         1.         0.        ]\n",
      " [0.33333333 0.33333333 0.33333333]]\n",
      "value of table br policy [ 0.35651684 -0.35651684]\n",
      "[[0.31381807 0.01667857 0.66950339]\n",
      " [0.33333333 0.33333333 0.33333333]]\n",
      "value of hypernet br policy [-0.34694687  0.34694687]\n",
      "[[0.31720075 0.01668318 0.66611606]\n",
      " [0.33333333 0.33333333 0.33333333]]\n",
      "[[0.33333333 0.33333333 0.33333333]\n",
      " [1.         0.         0.        ]]\n",
      "value of table br policy [-0.64943288  0.64943288]\n",
      "[[3.33333333e-01 3.33333333e-01 3.33333333e-01]\n",
      " [6.80067182e-01 4.38642543e-04 3.19494128e-01]]\n",
      "value of hypernet br policy [-0.34549134  0.34549134]\n",
      "[[3.33333333e-01 3.33333333e-01 3.33333333e-01]\n",
      " [7.03098178e-01 4.29598149e-04 2.96472222e-01]]\n",
      "[[0.         1.         0.        ]\n",
      " [0.33333333 0.33333333 0.33333333]]\n",
      "value of table br policy [ 0.40662596 -0.40662596]\n",
      "[[0.32554018 0.01904377 0.65541601]\n",
      " [0.33333333 0.33333333 0.33333333]]\n",
      "value of hypernet br policy [-0.35642278  0.35642278]\n",
      "[[0.32554018 0.01904377 0.65541601]\n",
      " [0.33333333 0.33333333 0.33333333]]\n",
      "[[0.33333333 0.33333333 0.33333333]\n",
      " [1.         0.         0.        ]]\n",
      "value of table br policy [-0.63637225  0.63637225]\n",
      "[[3.33333333e-01 3.33333333e-01 3.33333333e-01]\n",
      " [7.12101758e-01 4.19683696e-04 2.87478566e-01]]\n",
      "value of hypernet br policy [-0.3649122  0.3649122]\n"
     ]
    },
    {
     "name": "stderr",
     "output_type": "stream",
     "text": [
      "  1%|          | 506/100000 [00:08<14:31, 114.19it/s]"
     ]
    },
    {
     "name": "stdout",
     "output_type": "stream",
     "text": [
      "[[3.33333333e-01 3.33333333e-01 3.33333333e-01]\n",
      " [9.55188513e-01 5.82974681e-05 4.47532125e-02]]\n",
      "[[0.         1.         0.        ]\n",
      " [0.33333333 0.33333333 0.33333333]]\n",
      "value of table br policy [ 0.9104353 -0.9104353]\n",
      "[[0.01834636 0.95676517 0.02488848]\n",
      " [0.33333333 0.33333333 0.33333333]]\n",
      "value of hypernet br policy [ 0.84812104 -0.84812104]\n",
      "[[0.01814593 0.95728421 0.02456993]\n",
      " [0.33333333 0.33333333 0.33333333]]\n",
      "[[0.33333333 0.33333333 0.33333333]\n",
      " [0.         0.         1.        ]]\n",
      "value of table br policy [-0.93913828  0.93913828]\n",
      "[[3.33333333e-01 3.33333333e-01 3.33333333e-01]\n",
      " [9.55506325e-01 5.75050217e-05 4.44361530e-02]]\n",
      "value of hypernet br policy [ 0.84948307 -0.84948307]\n",
      "[[3.33333333e-01 3.33333333e-01 3.33333333e-01]\n",
      " [9.54806685e-01 5.79433799e-05 4.51353602e-02]]\n",
      "[[0.         1.         0.        ]\n",
      " [0.33333333 0.33333333 0.33333333]]\n",
      "value of table br policy [ 0.90967133 -0.90967133]\n",
      "[[0.0175471  0.95834297 0.02410987]\n",
      " [0.33333333 0.33333333 0.33333333]]\n",
      "value of hypernet br policy [ 0.84954923 -0.84954923]\n",
      "[[0.0175471  0.95834297 0.02410987]\n",
      " [0.33333333 0.33333333 0.33333333]]\n",
      "[[0.33333333 0.33333333 0.33333333]\n",
      " [0.         0.         1.        ]]\n",
      "value of table br policy [-0.94079587  0.94079587]\n",
      "[[3.33333333e-01 3.33333333e-01 3.33333333e-01]\n",
      " [9.54665661e-01 5.76909588e-05 4.52766530e-02]]\n",
      "value of hypernet br policy [ 0.84928455 -0.84928455]\n"
     ]
    },
    {
     "name": "stderr",
     "output_type": "stream",
     "text": [
      "  1%|          | 753/100000 [00:10<15:16, 108.32it/s]"
     ]
    },
    {
     "name": "stdout",
     "output_type": "stream",
     "text": [
      "[[3.33333333e-01 3.33333333e-01 3.33333333e-01]\n",
      " [9.35015142e-01 8.18934204e-05 6.49029836e-02]]\n",
      "[[0.         1.         0.        ]\n",
      " [0.33333333 0.33333333 0.33333333]]\n",
      "value of table br policy [ 0.87011216 -0.87011216]\n",
      "[[0.04578638 0.91258526 0.04162828]\n",
      " [0.33333333 0.33333333 0.33333333]]\n",
      "value of hypernet br policy [ 0.75809979 -0.75809979]\n",
      "[[0.04482014 0.91443443 0.0407454 ]\n",
      " [0.33333333 0.33333333 0.33333333]]\n",
      "[[0.33333333 0.33333333 0.33333333]\n",
      " [0.         0.         1.        ]]\n",
      "value of table br policy [-0.86961429  0.86961429]\n",
      "[[3.33333333e-01 3.33333333e-01 3.33333333e-01]\n",
      " [9.35318291e-01 8.07165561e-05 6.46009967e-02]]\n",
      "value of hypernet br policy [ 0.76099905 -0.76099905]\n",
      "[[3.33333333e-01 3.33333333e-01 3.33333333e-01]\n",
      " [9.31897938e-01 8.26761316e-05 6.80194274e-02]]\n",
      "[[0.         1.         0.        ]\n",
      " [0.33333333 0.33333333 0.33333333]]\n",
      "value of table br policy [ 0.86387851 -0.86387851]\n",
      "[[0.04437401 0.91390234 0.04172367]\n",
      " [0.33333333 0.33333333 0.33333333]]\n",
      "value of hypernet br policy [ 0.75363647 -0.75363647]\n",
      "[[0.04437401 0.91390234 0.04172367]\n",
      " [0.33333333 0.33333333 0.33333333]]\n",
      "[[0.33333333 0.33333333 0.33333333]\n",
      " [0.         0.         1.        ]]\n",
      "value of table br policy [-0.86952833  0.86952833]\n",
      "[[3.33333333e-01 3.33333333e-01 3.33333333e-01]\n",
      " [9.30456638e-01 8.34463208e-05 6.94599822e-02]]\n",
      "value of hypernet br policy [ 0.75112679 -0.75112679]\n"
     ]
    },
    {
     "name": "stderr",
     "output_type": "stream",
     "text": [
      "  1%|          | 1004/100000 [00:12<14:20, 115.07it/s]"
     ]
    },
    {
     "name": "stdout",
     "output_type": "stream",
     "text": [
      "[[3.33333333e-01 3.33333333e-01 3.33333333e-01]\n",
      " [8.81756186e-01 9.84225480e-05 1.18145399e-01]]\n",
      "[[0.         1.         0.        ]\n",
      " [0.33333333 0.33333333 0.33333333]]\n",
      "value of table br policy [ 0.76361079 -0.76361079]\n",
      "[[0.02986464 0.93366539 0.03646998]\n",
      " [0.33333333 0.33333333 0.33333333]]\n",
      "value of hypernet br policy [ 0.68432836 -0.68432836]\n",
      "[[0.02901862 0.9355123  0.03546909]\n",
      " [0.33333333 0.33333333 0.33333333]]\n",
      "[[0.33333333 0.33333333 0.33333333]\n",
      " [0.         0.         1.        ]]\n",
      "value of table br policy [-0.90649369  0.90649369]\n",
      "[[3.33333333e-01 3.33333333e-01 3.33333333e-01]\n",
      " [8.82018745e-01 9.78938551e-05 1.17883325e-01]]\n",
      "value of hypernet br policy [ 0.68699513 -0.68699513]\n",
      "[[3.33333333e-01 3.33333333e-01 3.33333333e-01]\n",
      " [8.82470191e-01 9.74482027e-05 1.17432460e-01]]\n",
      "[[0.         1.         0.        ]\n",
      " [0.33333333 0.33333333 0.33333333]]\n",
      "value of table br policy [ 0.76503773 -0.76503773]\n",
      "[[0.02802245 0.93754786 0.03442967]\n",
      " [0.33333333 0.33333333 0.33333333]]\n",
      "value of hypernet br policy [ 0.69016771 -0.69016771]\n",
      "[[0.02802245 0.93754786 0.03442967]\n",
      " [0.33333333 0.33333333 0.33333333]]\n",
      "[[0.33333333 0.33333333 0.33333333]\n",
      " [0.         0.         1.        ]]\n",
      "value of table br policy [-0.90952541  0.90952541]\n",
      "[[3.33333333e-01 3.33333333e-01 3.33333333e-01]\n",
      " [8.82415295e-01 9.68312015e-05 1.17487796e-01]]\n",
      "value of hypernet br policy [ 0.69006779 -0.69006779]\n"
     ]
    },
    {
     "name": "stderr",
     "output_type": "stream",
     "text": [
      "  1%|▏         | 1257/100000 [00:14<13:30, 121.78it/s]"
     ]
    },
    {
     "name": "stdout",
     "output_type": "stream",
     "text": [
      "[[3.33333333e-01 3.33333333e-01 3.33333333e-01]\n",
      " [8.38856757e-01 1.27060761e-04 1.61016181e-01]]\n",
      "[[0.         1.         0.        ]\n",
      " [0.33333333 0.33333333 0.33333333]]\n",
      "value of table br policy [ 0.67784058 -0.67784058]\n",
      "[[0.06044003 0.88216096 0.05739901]\n",
      " [0.33333333 0.33333333 0.33333333]]\n",
      "value of hypernet br policy [ 0.55954638 -0.55954638]\n",
      "[[0.07187523 0.86344504 0.06467968]\n",
      " [0.33333333 0.33333333 0.33333333]]\n",
      "[[0.33333333 0.33333333 0.33333333]\n",
      " [0.         0.         1.        ]]\n",
      "value of table br policy [-0.79156981  0.79156981]\n",
      "[[3.33333333e-01 3.33333333e-01 3.33333333e-01]\n",
      " [8.42669845e-01 1.30348431e-04 1.57199800e-01]]\n",
      "value of hypernet br policy [ 0.54865993 -0.54865993]\n",
      "[[3.33333333e-01 3.33333333e-01 3.33333333e-01]\n",
      " [8.42193365e-01 1.30624685e-04 1.57675982e-01]]\n",
      "[[0.         1.         0.        ]\n",
      " [0.33333333 0.33333333 0.33333333]]\n",
      "value of table br policy [ 0.68451738 -0.68451738]\n",
      "[[0.081029   0.84966916 0.06930179]\n",
      " [0.33333333 0.33333333 0.33333333]]\n",
      "value of hypernet br policy [ 0.5360226 -0.5360226]\n",
      "[[0.081029   0.84966916 0.06930179]\n",
      " [0.33333333 0.33333333 0.33333333]]\n",
      "[[0.33333333 0.33333333 0.33333333]\n",
      " [0.         0.         1.        ]]\n",
      "value of table br policy [-0.76864016  0.76864016]\n",
      "[[3.33333333e-01 3.33333333e-01 3.33333333e-01]\n",
      " [8.45807433e-01 1.32499903e-04 1.54060051e-01]]\n",
      "value of hypernet br policy [ 0.54162222 -0.54162222]\n"
     ]
    },
    {
     "name": "stderr",
     "output_type": "stream",
     "text": [
      "  2%|▏         | 1506/100000 [00:16<13:54, 118.07it/s]"
     ]
    },
    {
     "name": "stdout",
     "output_type": "stream",
     "text": [
      "[[3.33333333e-01 3.33333333e-01 3.33333333e-01]\n",
      " [8.32913160e-01 1.35864131e-04 1.66951045e-01]]\n",
      "[[0.         1.         0.        ]\n",
      " [0.33333333 0.33333333 0.33333333]]\n",
      "value of table br policy [ 0.66596211 -0.66596211]\n",
      "[[0.08085887 0.866606   0.05253515]\n",
      " [0.33333333 0.33333333 0.33333333]]\n",
      "value of hypernet br policy [ 0.54686517 -0.54686517]\n",
      "[[0.07480173 0.87606132 0.04913691]\n",
      " [0.33333333 0.33333333 0.33333333]]\n",
      "[[0.33333333 0.33333333 0.33333333]\n",
      " [0.         0.         1.        ]]\n",
      "value of table br policy [-0.80125959  0.80125959]\n",
      "[[3.33333333e-01 3.33333333e-01 3.33333333e-01]\n",
      " [8.31396699e-01 1.34157264e-04 1.68469101e-01]]\n",
      "value of hypernet br policy [ 0.55251129 -0.55251129]\n",
      "[[3.33333333e-01 3.33333333e-01 3.33333333e-01]\n",
      " [8.34553838e-01 1.33161273e-04 1.65313065e-01]]\n",
      "[[0.         1.         0.        ]\n",
      " [0.33333333 0.33333333 0.33333333]]\n",
      "value of table br policy [ 0.66924077 -0.66924077]\n",
      "[[0.0695813  0.88408875 0.04632998]\n",
      " [0.33333333 0.33333333 0.33333333]]\n",
      "value of hypernet br policy [ 0.56450298 -0.56450298]\n",
      "[[0.0695813  0.88408875 0.04632998]\n",
      " [0.33333333 0.33333333 0.33333333]]\n",
      "[[0.33333333 0.33333333 0.33333333]\n",
      " [0.         0.         1.        ]]\n",
      "value of table br policy [-0.81450745  0.81450745]\n",
      "[[3.33333333e-01 3.33333333e-01 3.33333333e-01]\n",
      " [8.32656980e-01 1.31784982e-04 1.67211115e-01]]\n",
      "value of hypernet br policy [ 0.56136792 -0.56136792]\n"
     ]
    },
    {
     "name": "stderr",
     "output_type": "stream",
     "text": [
      "  2%|▏         | 1755/100000 [00:18<14:19, 114.30it/s]"
     ]
    },
    {
     "name": "stdout",
     "output_type": "stream",
     "text": [
      "[[3.33333333e-01 3.33333333e-01 3.33333333e-01]\n",
      " [7.67415345e-01 1.37802781e-04 2.32446879e-01]]\n",
      "[[0.         1.         0.        ]\n",
      " [0.33333333 0.33333333 0.33333333]]\n",
      "value of table br policy [ 0.53496847 -0.53496847]\n",
      "[[0.04486408 0.91874391 0.03639206]\n",
      " [0.33333333 0.33333333 0.33333333]]\n",
      "value of hypernet br policy [ 0.47399854 -0.47399854]\n",
      "[[0.04446607 0.91940886 0.03612507]\n",
      " [0.33333333 0.33333333 0.33333333]]\n",
      "[[0.33333333 0.33333333 0.33333333]\n",
      " [0.         0.         1.        ]]\n",
      "value of table br policy [-0.87494279  0.87494279]\n",
      "[[3.33333333e-01 3.33333333e-01 3.33333333e-01]\n",
      " [7.66785204e-01 1.37659430e-04 2.33077094e-01]]\n",
      "value of hypernet br policy [ 0.47335867 -0.47335867]\n",
      "[[3.33333333e-01 3.33333333e-01 3.33333333e-01]\n",
      " [7.78849661e-01 1.35096736e-04 2.21015260e-01]]\n",
      "[[0.         1.         0.        ]\n",
      " [0.33333333 0.33333333 0.33333333]]\n",
      "value of table br policy [ 0.5578344 -0.5578344]\n",
      "[[0.04182237 0.92502308 0.03315453]\n",
      " [0.33333333 0.33333333 0.33333333]]\n",
      "value of hypernet br policy [ 0.49942951 -0.49942951]\n",
      "[[0.04182237 0.92502308 0.03315453]\n",
      " [0.33333333 0.33333333 0.33333333]]\n",
      "[[0.33333333 0.33333333 0.33333333]\n",
      " [0.         0.         1.        ]]\n",
      "value of table br policy [-0.88320071  0.88320071]\n",
      "[[3.33333333e-01 3.33333333e-01 3.33333333e-01]\n",
      " [7.78900564e-01 1.33301510e-04 2.20966101e-01]]\n",
      "value of hypernet br policy [ 0.49951834 -0.49951834]\n"
     ]
    },
    {
     "name": "stderr",
     "output_type": "stream",
     "text": [
      "  2%|▏         | 2003/100000 [00:21<15:48, 103.36it/s]"
     ]
    },
    {
     "name": "stdout",
     "output_type": "stream",
     "text": [
      "[[3.33333333e-01 3.33333333e-01 3.33333333e-01]\n",
      " [7.12294579e-01 1.49237210e-04 2.87556112e-01]]\n",
      "[[0.         1.         0.        ]\n",
      " [0.33333333 0.33333333 0.33333333]]\n",
      "value of table br policy [ 0.42473847 -0.42473847]\n",
      "[[0.04766781 0.91523397 0.03709823]\n",
      " [0.33333333 0.33333333 0.33333333]]\n",
      "value of hypernet br policy [ 0.3760158 -0.3760158]\n",
      "[[0.04649705 0.91720545 0.03629753]\n",
      " [0.33333333 0.33333333 0.33333333]]\n",
      "[[0.33333333 0.33333333 0.33333333]\n",
      " [0.         0.         1.        ]]\n",
      "value of table br policy [-0.8707084  0.8707084]\n",
      "[[3.33333333e-01 3.33333333e-01 3.33333333e-01]\n",
      " [7.11357534e-01 1.48698877e-04 2.88493812e-01]]\n",
      "value of hypernet br policy [ 0.37544499 -0.37544499]\n",
      "[[3.33333333e-01 3.33333333e-01 3.33333333e-01]\n",
      " [7.14117348e-01 1.48286519e-04 2.85734385e-01]]\n",
      "[[0.         1.         0.        ]\n",
      " [0.33333333 0.33333333 0.33333333]]\n",
      "value of table br policy [ 0.42838296 -0.42838296]\n",
      "[[0.04532332 0.91924983 0.03542675]\n",
      " [0.33333333 0.33333333 0.33333333]]\n",
      "value of hypernet br policy [ 0.38144108 -0.38144108]\n",
      "[[0.04532332 0.91924983 0.03542675]\n",
      " [0.33333333 0.33333333 0.33333333]]\n",
      "[[0.33333333 0.33333333 0.33333333]\n",
      " [0.         0.         1.        ]]\n",
      "value of table br policy [-0.87392651  0.87392651]\n",
      "[[3.33333333e-01 3.33333333e-01 3.33333333e-01]\n",
      " [7.13013768e-01 1.47714934e-04 2.86838442e-01]]\n",
      "value of hypernet br policy [ 0.37950085 -0.37950085]\n"
     ]
    },
    {
     "name": "stderr",
     "output_type": "stream",
     "text": [
      "  2%|▏         | 2263/100000 [00:23<14:34, 111.80it/s]"
     ]
    },
    {
     "name": "stdout",
     "output_type": "stream",
     "text": [
      "[[3.33333333e-01 3.33333333e-01 3.33333333e-01]\n",
      " [7.15600371e-01 1.67042323e-04 2.84232616e-01]]\n",
      "[[0.         1.         0.        ]\n",
      " [0.33333333 0.33333333 0.33333333]]\n",
      "value of table br policy [ 0.43136775 -0.43136775]\n",
      "[[0.09173117 0.86537504 0.04289379]\n",
      " [0.33333333 0.33333333 0.33333333]]\n",
      "value of hypernet br policy [ 0.36866491 -0.36866491]\n",
      "[[0.09469132 0.86185288 0.04345575]\n",
      " [0.33333333 0.33333333 0.33333333]]\n",
      "[[0.33333333 0.33333333 0.33333333]\n",
      " [0.         0.         1.        ]]\n",
      "value of table br policy [-0.76716156  0.76716156]\n",
      "[[3.33333333e-01 3.33333333e-01 3.33333333e-01]\n",
      " [7.18804181e-01 1.67627702e-04 2.81028211e-01]]\n",
      "value of hypernet br policy [ 0.37266465 -0.37266465]\n",
      "[[3.33333333e-01 3.33333333e-01 3.33333333e-01]\n",
      " [7.25893557e-01 1.66152968e-04 2.73940325e-01]]\n",
      "[[0.         1.         0.        ]\n",
      " [0.33333333 0.33333333 0.33333333]]\n",
      "value of table br policy [ 0.45195323 -0.45195323]\n",
      "[[0.09324946 0.86514479 0.04160579]\n",
      " [0.33333333 0.33333333 0.33333333]]\n",
      "value of hypernet br policy [ 0.38633981 -0.38633981]\n",
      "[[0.09324946 0.86514479 0.04160579]\n",
      " [0.33333333 0.33333333 0.33333333]]\n",
      "[[0.33333333 0.33333333 0.33333333]\n",
      " [0.         0.         1.        ]]\n",
      "value of table br policy [-0.77189533  0.77189533]\n",
      "[[3.33333333e-01 3.33333333e-01 3.33333333e-01]\n",
      " [7.26965606e-01 1.65209582e-04 2.72869229e-01]]\n",
      "value of hypernet br policy [ 0.38804951 -0.38804951]\n"
     ]
    },
    {
     "name": "stderr",
     "output_type": "stream",
     "text": [
      "  3%|▎         | 2505/100000 [00:25<14:12, 114.43it/s]"
     ]
    },
    {
     "name": "stdout",
     "output_type": "stream",
     "text": [
      "[[3.33333333e-01 3.33333333e-01 3.33333333e-01]\n",
      " [6.48222566e-01 1.69194202e-04 3.51608247e-01]]\n",
      "[[1.         0.         0.        ]\n",
      " [0.33333333 0.33333333 0.33333333]]\n",
      "value of table br policy [ 0.35143905 -0.35143905]\n",
      "[[0.07419953 0.8894093  0.0363911 ]\n",
      " [0.33333333 0.33333333 0.33333333]]\n",
      "value of hypernet br policy [ 0.26630477 -0.26630477]\n",
      "[[0.07316016 0.89081168 0.03602808]\n",
      " [0.33333333 0.33333333 0.33333333]]\n",
      "[[0.33333333 0.33333333 0.33333333]\n",
      " [0.         0.         1.        ]]\n",
      "value of table br policy [-0.81765153  0.81765153]\n",
      "[[3.33333333e-01 3.33333333e-01 3.33333333e-01]\n",
      " [6.47178829e-01 1.68826431e-04 3.52652282e-01]]\n",
      "value of hypernet br policy [ 0.26484491 -0.26484491]\n",
      "[[3.33333333e-01 3.33333333e-01 3.33333333e-01]\n",
      " [6.48254335e-01 1.68689323e-04 3.51576954e-01]]\n",
      "[[1.         0.         0.        ]\n",
      " [0.33333333 0.33333333 0.33333333]]\n",
      "value of table br policy [ 0.35140826 -0.35140826]\n",
      "[[0.07228052 0.89200497 0.03571446]\n",
      " [0.33333333 0.33333333 0.33333333]]\n",
      "value of hypernet br policy [ 0.26689164 -0.26689164]\n",
      "[[0.07228052 0.89200497 0.03571446]\n",
      " [0.33333333 0.33333333 0.33333333]]\n",
      "[[0.33333333 0.33333333 0.33333333]\n",
      " [0.         0.         1.        ]]\n",
      "value of table br policy [-0.81972445  0.81972445]\n",
      "[[3.33333333e-01 3.33333333e-01 3.33333333e-01]\n",
      " [6.47307873e-01 1.68384082e-04 3.52523714e-01]]\n",
      "value of hypernet br policy [ 0.26530512 -0.26530512]\n"
     ]
    },
    {
     "name": "stderr",
     "output_type": "stream",
     "text": [
      "  3%|▎         | 2764/100000 [00:27<15:34, 104.03it/s]"
     ]
    },
    {
     "name": "stdout",
     "output_type": "stream",
     "text": [
      "[[3.33333333e-01 3.33333333e-01 3.33333333e-01]\n",
      " [6.47291005e-01 1.76674090e-04 3.52532327e-01]]\n",
      "[[1.         0.         0.        ]\n",
      " [0.33333333 0.33333333 0.33333333]]\n",
      "value of table br policy [ 0.35235565 -0.35235565]\n",
      "[[0.09642535 0.8690604  0.03451427]\n",
      " [0.33333333 0.33333333 0.33333333]]\n",
      "value of hypernet br policy [ 0.26780444 -0.26780444]\n",
      "[[0.09888207 0.8665235  0.03459439]\n",
      " [0.33333333 0.33333333 0.33333333]]\n",
      "[[0.33333333 0.33333333 0.33333333]\n",
      " [0.         0.         1.        ]]\n",
      "value of table br policy [-0.76764143  0.76764143]\n",
      "[[3.33333333e-01 3.33333333e-01 3.33333333e-01]\n",
      " [6.50076985e-01 1.77166512e-04 3.49745870e-01]]\n",
      "value of hypernet br policy [ 0.27232716 -0.27232716]\n",
      "[[3.33333333e-01 3.33333333e-01 3.33333333e-01]\n",
      " [6.50077105e-01 1.77166541e-04 3.49745780e-01]]\n",
      "[[1.         0.         0.        ]\n",
      " [0.33333333 0.33333333 0.33333333]]\n",
      "value of table br policy [ 0.34956861 -0.34956861]\n",
      "[[0.09974989 0.86571562 0.03453445]\n",
      " [0.33333333 0.33333333 0.33333333]]\n",
      "value of hypernet br policy [ 0.27242701 -0.27242701]\n",
      "[[0.09974989 0.86571562 0.03453445]\n",
      " [0.33333333 0.33333333 0.33333333]]\n",
      "[[0.33333333 0.33333333 0.33333333]\n",
      " [0.         0.         1.        ]]\n",
      "value of table br policy [-0.76596574  0.76596574]\n",
      "[[3.33333333e-01 3.33333333e-01 3.33333333e-01]\n",
      " [6.51321173e-01 1.77303242e-04 3.48501444e-01]]\n",
      "value of hypernet br policy [ 0.27441417 -0.27441417]\n"
     ]
    },
    {
     "name": "stderr",
     "output_type": "stream",
     "text": [
      "  3%|▎         | 3019/100000 [00:29<13:42, 117.87it/s]"
     ]
    },
    {
     "name": "stdout",
     "output_type": "stream",
     "text": [
      "[[3.33333333e-01 3.33333333e-01 3.33333333e-01]\n",
      " [6.47118151e-01 1.91279978e-04 3.52690548e-01]]\n",
      "[[1.         0.         0.        ]\n",
      " [0.33333333 0.33333333 0.33333333]]\n",
      "value of table br policy [ 0.35249927 -0.35249927]\n",
      "[[0.14333434 0.82079142 0.03587429]\n",
      " [0.33333333 0.33333333 0.33333333]]\n",
      "value of hypernet br policy [ 0.26898086 -0.26898086]\n",
      "[[0.13953085 0.82514095 0.03532817]\n",
      " [0.33333333 0.33333333 0.33333333]]\n",
      "[[0.33333333 0.33333333 0.33333333]\n",
      " [0.         0.         1.        ]]\n",
      "value of table br policy [-0.6856101  0.6856101]\n",
      "[[3.33333333e-01 3.33333333e-01 3.33333333e-01]\n",
      " [6.43943727e-01 1.90435909e-04 3.55865806e-01]]\n",
      "value of hypernet br policy [ 0.26458995 -0.26458995]\n",
      "[[3.33333333e-01 3.33333333e-01 3.33333333e-01]\n",
      " [6.49042010e-01 1.89817642e-04 3.50768149e-01]]\n",
      "[[1.         0.         0.        ]\n",
      " [0.33333333 0.33333333 0.33333333]]\n",
      "value of table br policy [ 0.35057833 -0.35057833]\n",
      "[[0.13537964 0.83020884 0.03441149]\n",
      " [0.33333333 0.33333333 0.33333333]]\n",
      "value of hypernet br policy [ 0.2727628 -0.2727628]\n",
      "[[0.13537964 0.83020884 0.03441149]\n",
      " [0.33333333 0.33333333 0.33333333]]\n",
      "[[0.33333333 0.33333333 0.33333333]\n",
      " [0.         0.         1.        ]]\n",
      "value of table br policy [-0.6948292  0.6948292]\n",
      "[[3.33333333e-01 3.33333333e-01 3.33333333e-01]\n",
      " [6.45709515e-01 1.88843376e-04 3.54101658e-01]]\n",
      "value of hypernet br policy [ 0.26779468 -0.26779468]\n"
     ]
    },
    {
     "name": "stderr",
     "output_type": "stream",
     "text": [
      "  3%|▎         | 3254/100000 [00:31<14:19, 112.54it/s]"
     ]
    },
    {
     "name": "stdout",
     "output_type": "stream",
     "text": [
      "[[3.33333333e-01 3.33333333e-01 3.33333333e-01]\n",
      " [6.42913222e-01 1.96056964e-04 3.56890738e-01]]\n",
      "[[1.         0.         0.        ]\n",
      " [0.33333333 0.33333333 0.33333333]]\n",
      "value of table br policy [ 0.35669468 -0.35669468]\n",
      "[[0.15658489 0.81011707 0.03329803]\n",
      " [0.33333333 0.33333333 0.33333333]]\n",
      "value of hypernet br policy [ 0.26616348 -0.26616348]\n",
      "[[0.15619959 0.81100339 0.032797  ]\n",
      " [0.33333333 0.33333333 0.33333333]]\n",
      "[[0.33333333 0.33333333 0.33333333]\n",
      " [0.         0.         1.        ]]\n",
      "value of table br policy [-0.6548038  0.6548038]\n",
      "[[3.33333333e-01 3.33333333e-01 3.33333333e-01]\n",
      " [6.43562198e-01 1.95862958e-04 3.56241912e-01]]\n",
      "value of hypernet br policy [ 0.26753149 -0.26753149]\n",
      "[[3.33333333e-01 3.33333333e-01 3.33333333e-01]\n",
      " [6.46774650e-01 1.96929075e-04 3.53028387e-01]]\n",
      "[[1.         0.         0.        ]\n",
      " [0.33333333 0.33333333 0.33333333]]\n",
      "value of table br policy [ 0.35283146 -0.35283146]\n",
      "[[0.15832809 0.80893302 0.03273885]\n",
      " [0.33333333 0.33333333 0.33333333]]\n",
      "value of hypernet br policy [ 0.27231597 -0.27231597]\n",
      "[[0.15832809 0.80893302 0.03273885]\n",
      " [0.33333333 0.33333333 0.33333333]]\n",
      "[[0.33333333 0.33333333 0.33333333]\n",
      " [0.         0.         1.        ]]\n",
      "value of table br policy [-0.65060493  0.65060493]\n",
      "[[3.33333333e-01 3.33333333e-01 3.33333333e-01]\n",
      " [6.48659766e-01 1.99840681e-04 3.51140440e-01]]\n",
      "value of hypernet br policy [ 0.27500713 -0.27500713]\n"
     ]
    },
    {
     "name": "stderr",
     "output_type": "stream",
     "text": [
      "  4%|▎         | 3504/100000 [00:34<13:48, 116.50it/s]"
     ]
    },
    {
     "name": "stdout",
     "output_type": "stream",
     "text": [
      "[[3.33333333e-01 3.33333333e-01 3.33333333e-01]\n",
      " [6.11513019e-01 1.91408151e-04 3.88295621e-01]]\n",
      "[[1.         0.         0.        ]\n",
      " [0.33333333 0.33333333 0.33333333]]\n",
      "value of table br policy [ 0.38810421 -0.38810421]\n",
      "[[0.13247964 0.83901602 0.02850441]\n",
      " [0.33333333 0.33333333 0.33333333]]\n",
      "value of hypernet br policy [ 0.22127352 -0.22127352]\n",
      "[[0.14255099 0.82820094 0.02924804]\n",
      " [0.33333333 0.33333333 0.33333333]]\n",
      "[[0.33333333 0.33333333 0.33333333]\n",
      " [0.         0.         1.        ]]\n",
      "value of table br policy [-0.68564995  0.68564995]\n",
      "[[3.33333333e-01 3.33333333e-01 3.33333333e-01]\n",
      " [6.20919943e-01 1.93707150e-04 3.78886342e-01]]\n",
      "value of hypernet br policy [ 0.23628044 -0.23628044]\n",
      "[[3.33333333e-01 3.33333333e-01 3.33333333e-01]\n",
      " [6.31339610e-01 1.92619395e-04 3.68467808e-01]]\n",
      "[[1.         0.         0.        ]\n",
      " [0.33333333 0.33333333 0.33333333]]\n",
      "value of table br policy [ 0.36827519 -0.36827519]\n",
      "[[0.14272811 0.82956964 0.02770235]\n",
      " [0.33333333 0.33333333 0.33333333]]\n",
      "value of hypernet br policy [ 0.25314943 -0.25314943]\n",
      "[[0.14272811 0.82956964 0.02770235]\n",
      " [0.33333333 0.33333333 0.33333333]]\n",
      "[[0.33333333 0.33333333 0.33333333]\n",
      " [0.         0.         1.        ]]\n",
      "value of table br policy [-0.68684153  0.68684153]\n",
      "[[3.33333333e-01 3.33333333e-01 3.33333333e-01]\n",
      " [6.32591188e-01 1.99499758e-04 3.67209315e-01]]\n",
      "value of hypernet br policy [ 0.25501663 -0.25501663]\n"
     ]
    },
    {
     "name": "stderr",
     "output_type": "stream",
     "text": [
      "  4%|▍         | 3763/100000 [00:36<14:36, 109.75it/s]"
     ]
    },
    {
     "name": "stdout",
     "output_type": "stream",
     "text": [
      "[[0.33333333 0.33333333 0.33333333]\n",
      " [0.68397504 0.00192839 0.31409651]]\n",
      "[[0.         1.         0.        ]\n",
      " [0.33333333 0.33333333 0.33333333]]\n",
      "value of table br policy [ 0.36987853 -0.36987853]\n",
      "[[0.4933058  0.43383503 0.07285914]\n",
      " [0.33333333 0.33333333 0.33333333]]\n",
      "value of hypernet br policy [ 0.26476728 -0.26476728]\n",
      "[[0.47859243 0.44898316 0.07242446]\n",
      " [0.33333333 0.33333333 0.33333333]]\n",
      "[[0.33333333 0.33333333 0.33333333]\n",
      " [0.         1.         0.        ]]\n",
      "value of table br policy [-0.40616796  0.40616796]\n",
      "[[0.33333333 0.33333333 0.33333333]\n",
      " [0.68127799 0.00203183 0.31669018]]\n",
      "value of hypernet br policy [ 0.26509285 -0.26509285]\n",
      "[[0.33333333 0.33333333 0.33333333]\n",
      " [0.71147132 0.00197261 0.28655612]]\n",
      "[[0.         1.         0.        ]\n",
      " [0.33333333 0.33333333 0.33333333]]\n",
      "value of table br policy [ 0.42491519 -0.42491519]\n",
      "[[0.45707121 0.47676346 0.06616531]\n",
      " [0.33333333 0.33333333 0.33333333]]\n",
      "value of hypernet br policy [ 0.28571477 -0.28571477]\n",
      "[[0.45707121 0.47676346 0.06616531]\n",
      " [0.33333333 0.33333333 0.33333333]]\n",
      "[[0.33333333 0.33333333 0.33333333]\n",
      " [0.         1.         0.        ]]\n",
      "value of table br policy [-0.39090591  0.39090591]\n",
      "[[0.33333333 0.33333333 0.33333333]\n",
      " [0.70038033 0.00211212 0.29750752]]\n",
      "value of hypernet br policy [ 0.28089064 -0.28089064]\n"
     ]
    },
    {
     "name": "stderr",
     "output_type": "stream",
     "text": [
      "  4%|▍         | 4007/100000 [00:38<12:58, 123.30it/s]"
     ]
    },
    {
     "name": "stdout",
     "output_type": "stream",
     "text": [
      "[[0.33333333 0.33333333 0.33333333]\n",
      " [0.68789381 0.00296608 0.30914009]]\n",
      "[[0.         1.         0.        ]\n",
      " [0.33333333 0.33333333 0.33333333]]\n",
      "value of table br policy [ 0.37875372 -0.37875372]\n",
      "[[0.49324605 0.43464711 0.07210678]\n",
      " [0.33333333 0.33333333 0.33333333]]\n",
      "value of hypernet br policy [ 0.2662554 -0.2662554]\n",
      "[[0.48416016 0.4443703  0.07146952]\n",
      " [0.33333333 0.33333333 0.33333333]]\n",
      "[[0.33333333 0.33333333 0.33333333]\n",
      " [0.         1.         0.        ]]\n",
      "value of table br policy [-0.41269063  0.41269063]\n",
      "[[0.33333333 0.33333333 0.33333333]\n",
      " [0.68344873 0.00285277 0.31369847]]\n",
      "value of hypernet br policy [ 0.26616327 -0.26616327]\n",
      "[[0.33333333 0.33333333 0.33333333]\n",
      " [0.68788135 0.00286104 0.3092576 ]]\n",
      "[[0.         1.         0.        ]\n",
      " [0.33333333 0.33333333 0.33333333]]\n",
      "value of table br policy [ 0.37862375 -0.37862375]\n",
      "[[0.47253427 0.45730338 0.07016231]\n",
      " [0.33333333 0.33333333 0.33333333]]\n",
      "value of hypernet br policy [ 0.26986618 -0.26986618]\n",
      "[[0.47253427 0.45730338 0.07016231]\n",
      " [0.33333333 0.33333333 0.33333333]]\n",
      "[[0.33333333 0.33333333 0.33333333]\n",
      " [0.         1.         0.        ]]\n",
      "value of table br policy [-0.40237196  0.40237196]\n",
      "[[0.33333333 0.33333333 0.33333333]\n",
      " [0.68359792 0.0027653  0.31363675]]\n",
      "value of hypernet br policy [ 0.26831312 -0.26831312]\n"
     ]
    },
    {
     "name": "stderr",
     "output_type": "stream",
     "text": [
      "  4%|▍         | 4254/100000 [00:40<13:55, 114.61it/s]"
     ]
    },
    {
     "name": "stdout",
     "output_type": "stream",
     "text": [
      "[[0.33333333 0.33333333 0.33333333]\n",
      " [0.7048921  0.0072132  0.28789467]]\n",
      "[[0.         1.         0.        ]\n",
      " [0.33333333 0.33333333 0.33333333]]\n",
      "value of table br policy [ 0.41699743 -0.41699743]\n",
      "[[0.61564779 0.29807749 0.08627471]\n",
      " [0.33333333 0.33333333 0.33333333]]\n",
      "value of hypernet br policy [ 0.23690643 -0.23690643]\n",
      "[[0.61430025 0.29992658 0.08577323]\n",
      " [0.33333333 0.33333333 0.33333333]]\n",
      "[[0.33333333 0.33333333 0.33333333]\n",
      " [0.         1.         0.        ]]\n",
      "value of table br policy [-0.52852702  0.52852702]\n",
      "[[0.33333333 0.33333333 0.33333333]\n",
      " [0.70486104 0.00737998 0.28775889]]\n",
      "value of hypernet br policy [ 0.23751165 -0.23751165]\n",
      "[[0.33333333 0.33333333 0.33333333]\n",
      " [0.69166023 0.00748086 0.30085897]]\n",
      "[[0.         1.         0.        ]\n",
      " [0.33333333 0.33333333 0.33333333]]\n",
      "value of table br policy [ 0.39080125 -0.39080125]\n",
      "[[0.62474805 0.28517315 0.09007872]\n",
      " [0.33333333 0.33333333 0.33333333]]\n",
      "value of hypernet br policy [ 0.23310343 -0.23310343]\n",
      "[[0.62474805 0.28517315 0.09007872]\n",
      " [0.33333333 0.33333333 0.33333333]]\n",
      "[[0.33333333 0.33333333 0.33333333]\n",
      " [0.         1.         0.        ]]\n",
      "value of table br policy [-0.53466933  0.53466933]\n",
      "[[0.33333333 0.33333333 0.33333333]\n",
      " [0.6973334  0.00748775 0.29517889]]\n",
      "value of hypernet br policy [ 0.23227773 -0.23227773]\n"
     ]
    },
    {
     "name": "stderr",
     "output_type": "stream",
     "text": [
      "  5%|▍         | 4504/100000 [00:42<14:11, 112.09it/s]"
     ]
    },
    {
     "name": "stdout",
     "output_type": "stream",
     "text": [
      "[[0.33333333 0.33333333 0.33333333]\n",
      " [0.73960686 0.02787022 0.23252285]]\n",
      "[[0.         1.         0.        ]\n",
      " [0.33333333 0.33333333 0.33333333]]\n",
      "value of table br policy [ 0.50708401 -0.50708401]\n",
      "[[0.751791   0.14998294 0.09822611]\n",
      " [0.33333333 0.33333333 0.33333333]]\n",
      "value of hypernet br policy [ 0.15999884 -0.15999884]\n",
      "[[0.75051439 0.15105398 0.0984317 ]\n",
      " [0.33333333 0.33333333 0.33333333]]\n",
      "[[0.33333333 0.33333333 0.33333333]\n",
      " [0.         1.         0.        ]]\n",
      "value of table br policy [-0.65208269  0.65208269]\n",
      "[[0.33333333 0.33333333 0.33333333]\n",
      " [0.73914903 0.02783361 0.23301736]]\n",
      "value of hypernet br policy [ 0.16043057 -0.16043057]\n",
      "[[0.33333333 0.33333333 0.33333333]\n",
      " [0.73581725 0.0279629  0.23621991]]\n",
      "[[0.         1.         0.        ]\n",
      " [0.33333333 0.33333333 0.33333333]]\n",
      "value of table br policy [ 0.49959734 -0.49959734]\n",
      "[[0.75131243 0.1491539  0.09953365]\n",
      " [0.33333333 0.33333333 0.33333333]]\n",
      "value of hypernet br policy [ 0.16052765 -0.16052765]\n",
      "[[0.75131243 0.1491539  0.09953365]\n",
      " [0.33333333 0.33333333 0.33333333]]\n",
      "[[0.33333333 0.33333333 0.33333333]\n",
      " [0.         1.         0.        ]]\n",
      "value of table br policy [-0.65177879  0.65177879]\n",
      "[[0.33333333 0.33333333 0.33333333]\n",
      " [0.73718268 0.02774219 0.23507521]]\n",
      "value of hypernet br policy [ 0.16004996 -0.16004996]\n"
     ]
    },
    {
     "name": "stderr",
     "output_type": "stream",
     "text": [
      "  5%|▍         | 4756/100000 [00:44<13:53, 114.34it/s]"
     ]
    },
    {
     "name": "stdout",
     "output_type": "stream",
     "text": [
      "[[0.33333333 0.33333333 0.33333333]\n",
      " [0.71799439 0.01869193 0.26331365]]\n",
      "[[0.         1.         0.        ]\n",
      " [0.33333333 0.33333333 0.33333333]]\n",
      "value of table br policy [ 0.45468074 -0.45468074]\n",
      "[[0.67499709 0.2307763  0.09422661]\n",
      " [0.33333333 0.33333333 0.33333333]]\n",
      "value of hypernet br policy [ 0.20415558 -0.20415558]\n",
      "[[0.67788583 0.2283085  0.09380572]\n",
      " [0.33333333 0.33333333 0.33333333]]\n",
      "[[0.33333333 0.33333333 0.33333333]\n",
      " [0.         1.         0.        ]]\n",
      "value of table br policy [-0.58408011  0.58408011]\n",
      "[[0.33333333 0.33333333 0.33333333]\n",
      " [0.71909779 0.01890009 0.26200217]]\n",
      "value of hypernet br policy [ 0.20347172 -0.20347172]\n",
      "[[0.33333333 0.33333333 0.33333333]\n",
      " [0.70713693 0.01926732 0.27359572]]\n",
      "[[0.         1.         0.        ]\n",
      " [0.33333333 0.33333333 0.33333333]]\n",
      "value of table br policy [ 0.43354121 -0.43354121]\n",
      "[[0.68628168 0.21639356 0.09732474]\n",
      " [0.33333333 0.33333333 0.33333333]]\n",
      "value of hypernet br policy [ 0.20140972 -0.20140972]\n",
      "[[0.68628168 0.21639356 0.09732474]\n",
      " [0.33333333 0.33333333 0.33333333]]\n",
      "[[0.33333333 0.33333333 0.33333333]\n",
      " [0.         1.         0.        ]]\n",
      "value of table br policy [-0.58895694  0.58895694]\n",
      "[[0.33333333 0.33333333 0.33333333]\n",
      " [0.71328741 0.01925498 0.2674576 ]]\n",
      "value of hypernet br policy [ 0.19926509 -0.19926509]\n"
     ]
    },
    {
     "name": "stderr",
     "output_type": "stream",
     "text": [
      "  5%|▌         | 5006/100000 [00:47<13:36, 116.40it/s]"
     ]
    },
    {
     "name": "stdout",
     "output_type": "stream",
     "text": [
      "[[0.33333333 0.33333333 0.33333333]\n",
      " [0.73067898 0.03460055 0.23472051]]\n",
      "[[0.         1.         0.        ]\n",
      " [0.33333333 0.33333333 0.33333333]]\n",
      "value of table br policy [ 0.49595846 -0.49595846]\n",
      "[[0.73199463 0.17384788 0.09415749]\n",
      " [0.33333333 0.33333333 0.33333333]]\n",
      "value of hypernet br policy [ 0.16716707 -0.16716707]\n",
      "[[0.72474325 0.18040058 0.0948562 ]\n",
      " [0.33333333 0.33333333 0.33333333]]\n",
      "[[0.33333333 0.33333333 0.33333333]\n",
      " [0.         1.         0.        ]]\n",
      "value of table br policy [-0.62988705  0.62988705]\n",
      "[[0.33333333 0.33333333 0.33333333]\n",
      " [0.72772574 0.03397785 0.23829642]]\n",
      "value of hypernet br policy [ 0.17056555 -0.17056555]\n",
      "[[0.33333333 0.33333333 0.33333333]\n",
      " [0.71179032 0.03464745 0.25356215]]\n",
      "[[0.         1.         0.        ]\n",
      " [0.33333333 0.33333333 0.33333333]]\n",
      "value of table br policy [ 0.45822817 -0.45822817]\n",
      "[[0.72823238 0.17165375 0.10011383]\n",
      " [0.33333333 0.33333333 0.33333333]]\n",
      "value of hypernet br policy [ 0.17028599 -0.17028599]\n",
      "[[0.72823238 0.17165375 0.10011383]\n",
      " [0.33333333 0.33333333 0.33333333]]\n",
      "[[0.33333333 0.33333333 0.33333333]\n",
      " [0.         1.         0.        ]]\n",
      "value of table br policy [-0.62811855  0.62811855]\n",
      "[[0.33333333 0.33333333 0.33333333]\n",
      " [0.71926242 0.03295583 0.24778171]]\n",
      "value of hypernet br policy [ 0.16866581 -0.16866581]\n"
     ]
    },
    {
     "name": "stderr",
     "output_type": "stream",
     "text": [
      "  5%|▌         | 5254/100000 [00:49<13:31, 116.69it/s]"
     ]
    },
    {
     "name": "stdout",
     "output_type": "stream",
     "text": [
      "[[0.33333333 0.33333333 0.33333333]\n",
      " [0.72235626 0.0540056  0.22363809]]\n",
      "[[0.         1.         0.        ]\n",
      " [0.33333333 0.33333333 0.33333333]]\n",
      "value of table br policy [ 0.49871817 -0.49871817]\n",
      "[[0.77968961 0.12479047 0.09551993]\n",
      " [0.33333333 0.33333333 0.33333333]]\n",
      "value of hypernet br policy [ 0.13065516 -0.13065516]\n",
      "[[0.77552783 0.1282721  0.09620001]\n",
      " [0.33333333 0.33333333 0.33333333]]\n",
      "[[0.33333333 0.33333333 0.33333333]\n",
      " [0.         1.         0.        ]]\n",
      "value of table br policy [-0.67932782  0.67932782]\n",
      "[[0.33333333 0.33333333 0.33333333]\n",
      " [0.7205534  0.05467925 0.22476733]]\n",
      "value of hypernet br policy [ 0.13144646 -0.13144646]\n",
      "[[0.33333333 0.33333333 0.33333333]\n",
      " [0.71063745 0.0553957  0.23396686]]\n",
      "[[0.         1.         0.        ]\n",
      " [0.33333333 0.33333333 0.33333333]]\n",
      "value of table br policy [ 0.47667059 -0.47667059]\n",
      "[[0.77803522 0.122187   0.09977776]\n",
      " [0.33333333 0.33333333 0.33333333]]\n",
      "value of hypernet br policy [ 0.13179904 -0.13179904]\n",
      "[[0.77803522 0.122187   0.09977776]\n",
      " [0.33333333 0.33333333 0.33333333]]\n",
      "[[0.33333333 0.33333333 0.33333333]\n",
      " [0.         1.         0.        ]]\n",
      "value of table br policy [-0.67825747  0.67825747]\n",
      "[[0.33333333 0.33333333 0.33333333]\n",
      " [0.71578985 0.05470853 0.22950163]]\n",
      "value of hypernet br policy [ 0.12945208 -0.12945208]\n"
     ]
    },
    {
     "name": "stderr",
     "output_type": "stream",
     "text": [
      "  5%|▌         | 5498/100000 [00:51<13:11, 119.34it/s]"
     ]
    },
    {
     "name": "stdout",
     "output_type": "stream",
     "text": [
      "[[0.33333333 0.33333333 0.33333333]\n",
      " [0.70739317 0.10981996 0.18278682]]\n",
      "[[0.         1.         0.        ]\n",
      " [0.33333333 0.33333333 0.33333333]]\n",
      "value of table br policy [ 0.52460635 -0.52460635]\n",
      "[[0.83047211 0.07361207 0.09591588]\n",
      " [0.33333333 0.33333333 0.33333333]]\n",
      "value of hypernet br policy [ 0.04189754 -0.04189754]\n",
      "[[0.82579261 0.07651148 0.09769588]\n",
      " [0.33333333 0.33333333 0.33333333]]\n",
      "[[0.33333333 0.33333333 0.33333333]\n",
      " [0.         1.         0.        ]]\n",
      "value of table br policy [-0.72809673  0.72809673]\n",
      "[[0.33333333 0.33333333 0.33333333]\n",
      " [0.70717853 0.10629819 0.1865233 ]]\n",
      "value of hypernet br policy [ 0.04738187 -0.04738187]\n"
     ]
    },
    {
     "name": "stderr",
     "output_type": "stream",
     "text": [
      "  6%|▌         | 5522/100000 [00:51<19:10, 82.12it/s] "
     ]
    },
    {
     "name": "stdout",
     "output_type": "stream",
     "text": [
      "[[0.33333333 0.33333333 0.33333333]\n",
      " [0.70745093 0.10632221 0.18622681]]\n",
      "[[0.         1.         0.        ]\n",
      " [0.33333333 0.33333333 0.33333333]]\n",
      "value of table br policy [ 0.52122411 -0.52122411]\n",
      "[[0.82347023 0.078502   0.09802775]\n",
      " [0.33333333 0.33333333 0.33333333]]\n",
      "value of hypernet br policy [ 0.04778891 -0.04778891]\n",
      "[[0.82347023 0.078502   0.09802775]\n",
      " [0.33333333 0.33333333 0.33333333]]\n",
      "[[0.33333333 0.33333333 0.33333333]\n",
      " [0.         1.         0.        ]]\n",
      "value of table br policy [-0.72544248  0.72544248]\n",
      "[[0.33333333 0.33333333 0.33333333]\n",
      " [0.70899409 0.10287001 0.18813586]]\n",
      "value of hypernet br policy [ 0.05168532 -0.05168532]\n"
     ]
    },
    {
     "name": "stderr",
     "output_type": "stream",
     "text": [
      "  6%|▌         | 5766/100000 [00:53<13:31, 116.08it/s]"
     ]
    },
    {
     "name": "stdout",
     "output_type": "stream",
     "text": [
      "[[0.33333333 0.33333333 0.33333333]\n",
      " [0.70674473 0.06759735 0.22565798]]\n",
      "[[0.         1.         0.        ]\n",
      " [0.33333333 0.33333333 0.33333333]]\n",
      "value of table br policy [ 0.48108675 -0.48108675]\n",
      "[[0.77769905 0.12398216 0.09831873]\n",
      " [0.33333333 0.33333333 0.33333333]]\n",
      "value of hypernet br policy [ 0.11972962 -0.11972962]\n",
      "[[0.78221452 0.12141174 0.09637368]\n",
      " [0.33333333 0.33333333 0.33333333]]\n",
      "[[0.33333333 0.33333333 0.33333333]\n",
      " [0.         1.         0.        ]]\n",
      "value of table br policy [-0.68584085  0.68584085]\n",
      "[[0.33333333 0.33333333 0.33333333]\n",
      " [0.70720816 0.06940141 0.22339043]]\n",
      "value of hypernet br policy [ 0.11772582 -0.11772582]\n",
      "[[0.33333333 0.33333333 0.33333333]\n",
      " [0.71904886 0.06825236 0.21269873]]\n",
      "[[0.         1.         0.        ]\n",
      " [0.33333333 0.33333333 0.33333333]]\n",
      "value of table br policy [ 0.50635013 -0.50635013]\n",
      "[[0.78000492 0.12660639 0.09338871]\n",
      " [0.33333333 0.33333333 0.33333333]]\n",
      "value of hypernet br policy [ 0.11599899 -0.11599899]\n",
      "[[0.78000492 0.12660639 0.09338871]\n",
      " [0.33333333 0.33333333 0.33333333]]\n",
      "[[0.33333333 0.33333333 0.33333333]\n",
      " [0.         1.         0.        ]]\n",
      "value of table br policy [-0.6866162  0.6866162]\n",
      "[[0.33333333 0.33333333 0.33333333]\n",
      " [0.7116583  0.07114367 0.217198  ]]\n",
      "value of hypernet br policy [ 0.11670809 -0.11670809]\n"
     ]
    },
    {
     "name": "stderr",
     "output_type": "stream",
     "text": [
      "  6%|▌         | 6005/100000 [00:56<14:49, 105.64it/s]"
     ]
    },
    {
     "name": "stdout",
     "output_type": "stream",
     "text": [
      "[[0.33333333 0.33333333 0.33333333]\n",
      " [0.70012188 0.08012801 0.21975011]]\n",
      "[[0.         1.         0.        ]\n",
      " [0.33333333 0.33333333 0.33333333]]\n",
      "value of table br policy [ 0.48037177 -0.48037177]\n",
      "[[0.78393441 0.11739593 0.09866961]\n",
      " [0.33333333 0.33333333 0.33333333]]\n",
      "value of hypernet br policy [ 0.10467371 -0.10467371]\n",
      "[[0.7833721  0.11783386 0.098794  ]\n",
      " [0.33333333 0.33333333 0.33333333]]\n",
      "[[0.33333333 0.33333333 0.33333333]\n",
      " [0.         1.         0.        ]]\n",
      "value of table br policy [-0.68457811  0.68457811]\n",
      "[[0.33333333 0.33333333 0.33333333]\n",
      " [0.69981921 0.08043867 0.21974215]]\n",
      "value of hypernet br policy [ 0.10450471 -0.10450471]\n",
      "[[0.33333333 0.33333333 0.33333333]\n",
      " [0.70062637 0.08032157 0.21905211]]\n",
      "[[0.         1.         0.        ]\n",
      " [0.33333333 0.33333333 0.33333333]]\n",
      "value of table br policy [ 0.48157427 -0.48157427]\n",
      "[[0.78324366 0.118036   0.09872028]\n",
      " [0.33333333 0.33333333 0.33333333]]\n",
      "value of hypernet br policy [ 0.10426625 -0.10426625]\n",
      "[[0.78324366 0.118036   0.09872028]\n",
      " [0.33333333 0.33333333 0.33333333]]\n",
      "[[0.33333333 0.33333333 0.33333333]\n",
      " [0.         1.         0.        ]]\n",
      "value of table br policy [-0.68452337  0.68452337]\n",
      "[[0.33333333 0.33333333 0.33333333]\n",
      " [0.70014286 0.08057075 0.21928643]]\n",
      "value of hypernet br policy [ 0.10424221 -0.10424221]\n"
     ]
    },
    {
     "name": "stderr",
     "output_type": "stream",
     "text": [
      "  6%|▋         | 6264/100000 [00:58<13:27, 116.13it/s]"
     ]
    },
    {
     "name": "stdout",
     "output_type": "stream",
     "text": [
      "[[0.33333333 0.33333333 0.33333333]\n",
      " [0.68653983 0.11788695 0.19557321]]\n",
      "[[0.         1.         0.        ]\n",
      " [0.33333333 0.33333333 0.33333333]]\n",
      "value of table br policy [ 0.49096662 -0.49096662]\n",
      "[[0.80317652 0.09450499 0.10231849]\n",
      " [0.33333333 0.33333333 0.33333333]]\n",
      "value of hypernet br policy [ 0.05061087 -0.05061087]\n",
      "[[0.80455428 0.09391036 0.10153538]\n",
      " [0.33333333 0.33333333 0.33333333]]\n",
      "[[0.33333333 0.33333333 0.33333333]\n",
      " [0.         1.         0.        ]]\n",
      "value of table br policy [-0.7030189  0.7030189]\n",
      "[[0.33333333 0.33333333 0.33333333]\n",
      " [0.68679035 0.11711827 0.19609135]]\n",
      "value of hypernet br policy [ 0.05177798 -0.05177798]\n",
      "[[0.33333333 0.33333333 0.33333333]\n",
      " [0.6856851  0.11738361 0.1969313 ]]\n",
      "[[0.         1.         0.        ]\n",
      " [0.33333333 0.33333333 0.33333333]]\n",
      "value of table br policy [ 0.4887538 -0.4887538]\n",
      "[[0.80403709 0.09408607 0.10187689]\n",
      " [0.33333333 0.33333333 0.33333333]]\n",
      "value of hypernet br policy [ 0.05204743 -0.05204743]\n",
      "[[0.80403709 0.09408607 0.10187689]\n",
      " [0.33333333 0.33333333 0.33333333]]\n",
      "[[0.33333333 0.33333333 0.33333333]\n",
      " [0.         1.         0.        ]]\n",
      "value of table br policy [-0.7021602  0.7021602]\n",
      "[[0.33333333 0.33333333 0.33333333]\n",
      " [0.68634212 0.11654244 0.19711548]]\n",
      "value of hypernet br policy [ 0.05276371 -0.05276371]\n"
     ]
    },
    {
     "name": "stderr",
     "output_type": "stream",
     "text": [
      "  7%|▋         | 6506/100000 [01:00<13:31, 115.16it/s]"
     ]
    },
    {
     "name": "stdout",
     "output_type": "stream",
     "text": [
      "[[0.33333333 0.33333333 0.33333333]\n",
      " [0.66110235 0.17219406 0.16670364]]\n",
      "[[0.         1.         0.        ]\n",
      " [0.33333333 0.33333333 0.33333333]]\n",
      "value of table br policy [ 0.49439871 -0.49439871]\n",
      "[[0.83487028 0.06657675 0.09855299]\n",
      " [0.33333333 0.33333333 0.33333333]]\n",
      "value of hypernet br policy [-0.0198517  0.0198517]\n",
      "[[0.82999891 0.0696228  0.10037822]\n",
      " [0.33333333 0.33333333 0.33333333]]\n",
      "[[0.33333333 0.33333333 0.33333333]\n",
      " [0.         1.         0.        ]]\n",
      "value of table br policy [-0.7296207  0.7296207]\n",
      "[[0.33333333 0.33333333 0.33333333]\n",
      " [0.66190958 0.16719773 0.1708927 ]]\n",
      "value of hypernet br policy [-0.0124055  0.0124055]\n",
      "[[0.33333333 0.33333333 0.33333333]\n",
      " [0.6495384  0.17024475 0.18021682]]\n",
      "[[0.         1.         0.        ]\n",
      " [0.33333333 0.33333333 0.33333333]]\n",
      "value of table br policy [ 0.46932158 -0.46932158]\n",
      "[[0.8286199  0.06694443 0.10443563]\n",
      " [0.33333333 0.33333333 0.33333333]]\n",
      "value of hypernet br policy [-0.01037382  0.01037382]\n",
      "[[0.8286199  0.06694443 0.10443563]\n",
      " [0.33333333 0.33333333 0.33333333]]\n",
      "[[0.33333333 0.33333333 0.33333333]\n",
      " [0.         1.         0.        ]]\n",
      "value of table br policy [-0.72418427  0.72418427]\n",
      "[[0.33333333 0.33333333 0.33333333]\n",
      " [0.6605953  0.16176501 0.17763975]]\n",
      "value of hypernet br policy [-0.00661034  0.00661034]\n"
     ]
    },
    {
     "name": "stderr",
     "output_type": "stream",
     "text": [
      "  7%|▋         | 6755/100000 [01:02<13:40, 113.58it/s]"
     ]
    },
    {
     "name": "stdout",
     "output_type": "stream",
     "text": [
      "[[0.33333333 0.33333333 0.33333333]\n",
      " [0.66657633 0.15580299 0.17762065]]\n",
      "[[0.         1.         0.        ]\n",
      " [0.33333333 0.33333333 0.33333333]]\n",
      "value of table br policy [ 0.48895568 -0.48895568]\n",
      "[[0.81990743 0.07885469 0.10123793]\n",
      " [0.33333333 0.33333333 0.33333333]]\n",
      "value of hypernet br policy [ 0.00473527 -0.00473527]\n",
      "[[0.81494051 0.08176336 0.10329609]\n",
      " [0.33333333 0.33333333 0.33333333]]\n",
      "[[0.33333333 0.33333333 0.33333333]\n",
      " [0.         1.         0.        ]]\n",
      "value of table br policy [-0.71164442  0.71164442]\n",
      "[[0.33333333 0.33333333 0.33333333]\n",
      " [0.66713893 0.1519509  0.18091023]]\n",
      "value of hypernet br policy [ 0.01013891 -0.01013891]\n",
      "[[0.33333333 0.33333333 0.33333333]\n",
      " [0.66961449 0.15158637 0.17879918]]\n",
      "[[0.         1.         0.        ]\n",
      " [0.33333333 0.33333333 0.33333333]]\n",
      "value of table br policy [ 0.49081531 -0.49081531]\n",
      "[[0.81289852 0.08430064 0.10280089]\n",
      " [0.33333333 0.33333333 0.33333333]]\n",
      "value of hypernet br policy [ 0.01024355 -0.01024355]\n",
      "[[0.81289852 0.08430064 0.10280089]\n",
      " [0.33333333 0.33333333 0.33333333]]\n",
      "[[0.33333333 0.33333333 0.33333333]\n",
      " [0.         1.         0.        ]]\n",
      "value of table br policy [-0.71009763  0.71009763]\n",
      "[[0.33333333 0.33333333 0.33333333]\n",
      " [0.67013478 0.14856659 0.18129858]]\n",
      "value of hypernet br policy [ 0.01419932 -0.01419932]\n"
     ]
    },
    {
     "name": "stderr",
     "output_type": "stream",
     "text": [
      "  7%|▋         | 7018/100000 [01:04<12:36, 122.85it/s]"
     ]
    },
    {
     "name": "stdout",
     "output_type": "stream",
     "text": [
      "[[0.33333333 0.33333333 0.33333333]\n",
      " [0.67434978 0.12774965 0.19790055]]\n",
      "[[0.         1.         0.        ]\n",
      " [0.33333333 0.33333333 0.33333333]]\n",
      "value of table br policy [ 0.47644924 -0.47644924]\n",
      "[[0.80393094 0.09694327 0.09912577]\n",
      " [0.33333333 0.33333333 0.33333333]]\n",
      "value of hypernet br policy [ 0.04840286 -0.04840286]\n",
      "[[0.7983346  0.10025852 0.10140681]\n",
      " [0.33333333 0.33333333 0.33333333]]\n",
      "[[0.33333333 0.33333333 0.33333333]\n",
      " [0.         1.         0.        ]]\n",
      "value of table br policy [-0.69692779  0.69692779]\n",
      "[[0.33333333 0.33333333 0.33333333]\n",
      " [0.67478377 0.12363656 0.20157969]]\n",
      "value of hypernet br policy [ 0.05377736 -0.05377736]\n",
      "[[0.33333333 0.33333333 0.33333333]\n",
      " [0.68234313 0.12240995 0.19524691]]\n",
      "[[0.         1.         0.        ]\n",
      " [0.33333333 0.33333333 0.33333333]]\n",
      "value of table br policy [ 0.48709622 -0.48709622]\n",
      "[[0.79480535 0.10607354 0.09912112]\n",
      " [0.33333333 0.33333333 0.33333333]]\n",
      "value of hypernet br policy [ 0.05405802 -0.05405802]\n",
      "[[0.79480535 0.10607354 0.09912112]\n",
      " [0.33333333 0.33333333 0.33333333]]\n",
      "[[0.33333333 0.33333333 0.33333333]\n",
      " [0.         1.         0.        ]]\n",
      "value of table br policy [-0.69568422  0.69568422]\n",
      "[[0.33333333 0.33333333 0.33333333]\n",
      " [0.67948252 0.12032315 0.20019427]]\n",
      "value of hypernet br policy [ 0.05889729 -0.05889729]\n"
     ]
    },
    {
     "name": "stderr",
     "output_type": "stream",
     "text": [
      "  7%|▋         | 7270/100000 [01:06<13:01, 118.70it/s]"
     ]
    },
    {
     "name": "stdout",
     "output_type": "stream",
     "text": [
      "[[0.33333333 0.33333333 0.33333333]\n",
      " [0.64394462 0.17926052 0.17679492]]\n",
      "[[0.         1.         0.        ]\n",
      " [0.33333333 0.33333333 0.33333333]]\n",
      "value of table br policy [ 0.4671497 -0.4671497]\n",
      "[[0.82347405 0.07451759 0.1020084 ]\n",
      " [0.33333333 0.33333333 0.33333333]]\n",
      "value of hypernet br policy [-0.01462118  0.01462118]\n",
      "[[0.81957346 0.07699514 0.10343142]\n",
      " [0.33333333 0.33333333 0.33333333]]\n",
      "[[0.33333333 0.33333333 0.33333333]\n",
      " [0.         1.         0.        ]]\n",
      "value of table br policy [-0.71614204  0.71614204]\n",
      "[[0.33333333 0.33333333 0.33333333]\n",
      " [0.64353782 0.1772671  0.17919515]]\n",
      "value of hypernet br policy [-0.01089474  0.01089474]\n",
      "[[0.33333333 0.33333333 0.33333333]\n",
      " [0.64999712 0.17609343 0.1739094 ]]\n",
      "[[0.         1.         0.        ]\n",
      " [0.33333333 0.33333333 0.33333333]]\n",
      "value of table br policy [ 0.47608772 -0.47608772]\n",
      "[[0.81758803 0.08032236 0.10208949]\n",
      " [0.33333333 0.33333333 0.33333333]]\n",
      "value of hypernet br policy [-0.01192574  0.01192574]\n",
      "[[0.81758803 0.08032236 0.10208949]\n",
      " [0.33333333 0.33333333 0.33333333]]\n",
      "[[0.33333333 0.33333333 0.33333333]\n",
      " [0.         1.         0.        ]]\n",
      "value of table br policy [-0.71549854  0.71549854]\n",
      "[[0.33333333 0.33333333 0.33333333]\n",
      " [0.64683926 0.17567909 0.17748168]]\n",
      "value of hypernet br policy [-0.00892682  0.00892682]\n"
     ]
    },
    {
     "name": "stderr",
     "output_type": "stream",
     "text": [
      "  8%|▊         | 7504/100000 [01:08<13:17, 115.98it/s]"
     ]
    },
    {
     "name": "stdout",
     "output_type": "stream",
     "text": [
      "[[0.33333333 0.33333333 0.33333333]\n",
      " [0.63329977 0.19504374 0.17165653]]\n",
      "[[0.         1.         0.        ]\n",
      " [0.33333333 0.33333333 0.33333333]]\n",
      "value of table br policy [ 0.46164323 -0.46164323]\n",
      "[[0.8199138  0.076576   0.10351017]\n",
      " [0.33333333 0.33333333 0.33333333]]\n",
      "value of hypernet br policy [-0.02918866  0.02918866]\n",
      "[[0.82338679 0.07492135 0.10169183]\n",
      " [0.33333333 0.33333333 0.33333333]]\n",
      "[[0.33333333 0.33333333 0.33333333]\n",
      " [0.         1.         0.        ]]\n",
      "value of table br policy [-0.72169495  0.72169495]\n",
      "[[0.33333333 0.33333333 0.33333333]\n",
      " [0.63293207 0.19662312 0.17044479]]\n",
      "value of hypernet br policy [-0.03127378  0.03127378]\n",
      "[[0.33333333 0.33333333 0.33333333]\n",
      " [0.63215047 0.19870588 0.16914365]]\n",
      "[[0.         1.         0.        ]\n",
      " [0.33333333 0.33333333 0.33333333]]\n",
      "value of table br policy [ 0.46300682 -0.46300682]\n",
      "[[0.82380682 0.07437178 0.10182148]\n",
      " [0.33333333 0.33333333 0.33333333]]\n",
      "value of hypernet br policy [-0.0340529  0.0340529]\n",
      "[[0.82380682 0.07437178 0.10182148]\n",
      " [0.33333333 0.33333333 0.33333333]]\n",
      "[[0.33333333 0.33333333 0.33333333]\n",
      " [0.         1.         0.        ]]\n",
      "value of table br policy [-0.72198534  0.72198534]\n",
      "[[0.33333333 0.33333333 0.33333333]\n",
      " [0.62956154 0.20198105 0.16845739]]\n",
      "value of hypernet br policy [-0.03686077  0.03686077]\n"
     ]
    },
    {
     "name": "stderr",
     "output_type": "stream",
     "text": [
      "  8%|▊         | 7757/100000 [01:11<12:30, 122.83it/s]"
     ]
    },
    {
     "name": "stdout",
     "output_type": "stream",
     "text": [
      "[[0.33333333 0.33333333 0.33333333]\n",
      " [0.61762851 0.22226189 0.16010962]]\n",
      "[[0.         1.         0.        ]\n",
      " [0.33333333 0.33333333 0.33333333]]\n",
      "value of table br policy [ 0.45751889 -0.45751889]\n",
      "[[0.82419598 0.07205193 0.10375213]\n",
      " [0.33333333 0.33333333 0.33333333]]\n",
      "value of hypernet br policy [-0.05928066  0.05928066]\n",
      "[[0.82400018 0.07209113 0.10390861]\n",
      " [0.33333333 0.33333333 0.33333333]]\n",
      "[[0.33333333 0.33333333 0.33333333]\n",
      " [0.         1.         0.        ]]\n",
      "value of table br policy [-0.72009157  0.72009157]\n",
      "[[0.33333333 0.33333333 0.33333333]\n",
      " [0.61716121 0.22307098 0.15976775]]\n",
      "value of hypernet br policy [-0.06013723  0.06013723]\n",
      "[[0.33333333 0.33333333 0.33333333]\n",
      " [0.61790955 0.22281855 0.15927187]]\n",
      "[[0.         1.         0.        ]\n",
      " [0.33333333 0.33333333 0.33333333]]\n",
      "value of table br policy [ 0.45863768 -0.45863768]\n",
      "[[0.82414132 0.07213219 0.10372648]\n",
      " [0.33333333 0.33333333 0.33333333]]\n",
      "value of hypernet br policy [-0.06027031  0.06027031]\n",
      "[[0.82414132 0.07213219 0.10372648]\n",
      " [0.33333333 0.33333333 0.33333333]]\n",
      "[[0.33333333 0.33333333 0.33333333]\n",
      " [0.         1.         0.        ]]\n",
      "value of table br policy [-0.72041484  0.72041484]\n",
      "[[0.33333333 0.33333333 0.33333333]\n",
      " [0.61703557 0.22370926 0.15925512]]\n",
      "value of hypernet br policy [-0.06089697  0.06089697]\n"
     ]
    },
    {
     "name": "stderr",
     "output_type": "stream",
     "text": [
      "  8%|▊         | 8018/100000 [01:13<13:01, 117.69it/s]"
     ]
    },
    {
     "name": "stdout",
     "output_type": "stream",
     "text": [
      "[[0.33333333 0.33333333 0.33333333]\n",
      " [0.61084241 0.22243516 0.16672251]]\n",
      "[[0.         1.         0.        ]\n",
      " [0.33333333 0.33333333 0.33333333]]\n",
      "value of table br policy [ 0.4441199 -0.4441199]\n",
      "[[0.8191883  0.06987102 0.11094057]\n",
      " [0.33333333 0.33333333 0.33333333]]\n",
      "value of hypernet br policy [-0.05769816  0.05769816]\n",
      "[[0.81722504 0.07116038 0.11161467]\n",
      " [0.33333333 0.33333333 0.33333333]]\n",
      "[[0.33333333 0.33333333 0.33333333]\n",
      " [0.         1.         0.        ]]\n",
      "value of table br policy [-0.70561037  0.70561037]\n",
      "[[0.33333333 0.33333333 0.33333333]\n",
      " [0.61182702 0.21923718 0.16893584]]\n",
      "value of hypernet br policy [-0.05341  0.05341]\n",
      "[[0.33333333 0.33333333 0.33333333]\n",
      " [0.60983843 0.21974888 0.17041269]]\n",
      "[[0.         1.         0.        ]\n",
      " [0.33333333 0.33333333 0.33333333]]\n",
      "value of table br policy [ 0.43942574 -0.43942574]\n",
      "[[0.81620103 0.07132207 0.11247697]\n",
      " [0.33333333 0.33333333 0.33333333]]\n",
      "value of hypernet br policy [-0.05280359  0.05280359]\n",
      "[[0.81620103 0.07132207 0.11247697]\n",
      " [0.33333333 0.33333333 0.33333333]]\n",
      "[[0.33333333 0.33333333 0.33333333]\n",
      " [0.         1.         0.        ]]\n",
      "value of table br policy [-0.70372406  0.70372406]\n",
      "[[0.33333333 0.33333333 0.33333333]\n",
      " [0.61325246 0.21581577 0.17093185]]\n",
      "value of hypernet br policy [-0.04978956  0.04978956]\n"
     ]
    },
    {
     "name": "stderr",
     "output_type": "stream",
     "text": [
      "  8%|▊         | 8254/100000 [01:15<13:33, 112.77it/s]"
     ]
    },
    {
     "name": "stdout",
     "output_type": "stream",
     "text": [
      "[[0.33333333 0.33333333 0.33333333]\n",
      " [0.56904709 0.28824025 0.14271259]]\n",
      "[[0.         1.         0.        ]\n",
      " [0.33333333 0.33333333 0.33333333]]\n",
      "value of table br policy [ 0.4263345 -0.4263345]\n",
      "[[0.82953155 0.05915273 0.11131573]\n",
      " [0.33333333 0.33333333 0.33333333]]\n",
      "value of hypernet br policy [-0.12675916  0.12675916]\n",
      "[[0.82817304 0.05898448 0.1128424 ]\n",
      " [0.33333333 0.33333333 0.33333333]]\n",
      "[[0.33333333 0.33333333 0.33333333]\n",
      " [0.         1.         0.        ]]\n",
      "value of table br policy [-0.71533064  0.71533064]\n",
      "[[0.33333333 0.33333333 0.33333333]\n",
      " [0.57212073 0.28459844 0.14328086]]\n",
      "value of hypernet br policy [-0.12418522  0.12418522]\n",
      "[[0.33333333 0.33333333 0.33333333]\n",
      " [0.57702118 0.28321797 0.13976085]]\n",
      "[[0.         1.         0.        ]\n",
      " [0.33333333 0.33333333 0.33333333]]\n",
      "value of table br policy [ 0.43726033 -0.43726033]\n",
      "[[0.82878149 0.06097268 0.11024588]\n",
      " [0.33333333 0.33333333 0.33333333]]\n",
      "value of hypernet br policy [-0.12462426  0.12462426]\n",
      "[[0.82878149 0.06097268 0.11024588]\n",
      " [0.33333333 0.33333333 0.33333333]]\n",
      "[[0.33333333 0.33333333 0.33333333]\n",
      " [0.         1.         0.        ]]\n",
      "value of table br policy [-0.7185356  0.7185356]\n",
      "[[0.33333333 0.33333333 0.33333333]\n",
      " [0.57377696 0.28440237 0.14182067]]\n",
      "value of hypernet br policy [-0.1237339  0.1237339]\n"
     ]
    },
    {
     "name": "stderr",
     "output_type": "stream",
     "text": [
      "  9%|▊         | 8513/100000 [01:17<13:28, 113.16it/s]"
     ]
    },
    {
     "name": "stdout",
     "output_type": "stream",
     "text": [
      "[[0.33333333 0.33333333 0.33333333]\n",
      " [0.61546302 0.21793142 0.16660555]]\n",
      "[[0.         1.         0.        ]\n",
      " [0.33333333 0.33333333 0.33333333]]\n",
      "value of table br policy [ 0.44885747 -0.44885747]\n",
      "[[0.81165045 0.08447982 0.10386968]\n",
      " [0.33333333 0.33333333 0.33333333]]\n",
      "value of hypernet br policy [-0.04503075  0.04503075]\n",
      "[[0.81707877 0.08173336 0.10118792]\n",
      " [0.33333333 0.33333333 0.33333333]]\n",
      "[[0.33333333 0.33333333 0.33333333]\n",
      " [0.         1.         0.        ]]\n",
      "value of table br policy [-0.71589085  0.71589085]\n",
      "[[0.33333333 0.33333333 0.33333333]\n",
      " [0.6122216  0.22497918 0.16279918]]\n",
      "value of hypernet br policy [-0.05325741  0.05325741]\n",
      "[[0.33333333 0.33333333 0.33333333]\n",
      " [0.60407835 0.22907601 0.16684557]]\n",
      "[[0.         1.         0.        ]\n",
      " [0.33333333 0.33333333 0.33333333]]\n",
      "value of table br policy [ 0.43723278 -0.43723278]\n",
      "[[0.81925625 0.07688884 0.10385487]\n",
      " [0.33333333 0.33333333 0.33333333]]\n",
      "value of hypernet br policy [-0.05631017  0.05631017]\n",
      "[[0.81925625 0.07688884 0.10385487]\n",
      " [0.33333333 0.33333333 0.33333333]]\n",
      "[[0.33333333 0.33333333 0.33333333]\n",
      " [0.         1.         0.        ]]\n",
      "value of table br policy [-0.71540137  0.71540137]\n",
      "[[0.33333333 0.33333333 0.33333333]\n",
      " [0.60405773 0.23441772 0.16152455]]\n",
      "value of hypernet br policy [-0.06408124  0.06408124]\n"
     ]
    },
    {
     "name": "stderr",
     "output_type": "stream",
     "text": [
      "  9%|▉         | 8764/100000 [01:19<13:11, 115.30it/s]"
     ]
    },
    {
     "name": "stdout",
     "output_type": "stream",
     "text": [
      "[[0.33333333 0.33333333 0.33333333]\n",
      " [0.53113818 0.33855021 0.13031167]]\n",
      "[[0.         1.         0.        ]\n",
      " [0.33333333 0.33333333 0.33333333]]\n",
      "value of table br policy [ 0.40082651 -0.40082651]\n",
      "[[0.83601427 0.05037752 0.11360832]\n",
      " [0.33333333 0.33333333 0.33333333]]\n",
      "value of hypernet br policy [-0.17577734  0.17577734]\n",
      "[[0.83464551 0.05041549 0.11493899]\n",
      " [0.33333333 0.33333333 0.33333333]]\n",
      "[[0.33333333 0.33333333 0.33333333]\n",
      " [0.         1.         0.        ]]\n",
      "value of table br policy [-0.71970652  0.71970652]\n",
      "[[0.33333333 0.33333333 0.33333333]\n",
      " [0.53296173 0.33648092 0.13055727]]\n",
      "value of hypernet br policy [-0.17416914  0.17416914]\n",
      "[[0.33333333 0.33333333 0.33333333]\n",
      " [0.53710288 0.33584443 0.12705261]]\n",
      "[[0.         1.         0.        ]\n",
      " [0.33333333 0.33333333 0.33333333]]\n",
      "value of table br policy [ 0.41005027 -0.41005027]\n",
      "[[0.83542061 0.05185351 0.11272587]\n",
      " [0.33333333 0.33333333 0.33333333]]\n",
      "value of hypernet br policy [-0.17585348  0.17585348]\n",
      "[[0.83542061 0.05185351 0.11272587]\n",
      " [0.33333333 0.33333333 0.33333333]]\n",
      "[[0.33333333 0.33333333 0.33333333]\n",
      " [0.         1.         0.        ]]\n",
      "value of table br policy [-0.72269474  0.72269474]\n",
      "[[0.33333333 0.33333333 0.33333333]\n",
      " [0.532709   0.33877122 0.12851971]]\n",
      "value of hypernet br policy [-0.17655162  0.17655162]\n"
     ]
    },
    {
     "name": "stderr",
     "output_type": "stream",
     "text": [
      "  9%|▉         | 9004/100000 [01:21<13:15, 114.36it/s]"
     ]
    },
    {
     "name": "stdout",
     "output_type": "stream",
     "text": [
      "[[0.33333333 0.33333333 0.33333333]\n",
      " [0.57059795 0.28823686 0.14116524]]\n",
      "[[0.         1.         0.        ]\n",
      " [0.33333333 0.33333333 0.33333333]]\n",
      "value of table br policy [ 0.42943271 -0.42943271]\n",
      "[[0.81728029 0.07049728 0.11222246]\n",
      " [0.33333333 0.33333333 0.33333333]]\n",
      "value of hypernet br policy [-0.12161215  0.12161215]\n",
      "[[0.81788087 0.07032008 0.11179909]\n",
      " [0.33333333 0.33333333 0.33333333]]\n",
      "[[0.33333333 0.33333333 0.33333333]\n",
      " [0.         1.         0.        ]]\n",
      "value of table br policy [-0.70608178  0.70608178]\n",
      "[[0.33333333 0.33333333 0.33333333]\n",
      " [0.57132387 0.28702292 0.14165327]]\n",
      "value of hypernet br policy [-0.12046517  0.12046517]\n",
      "[[0.33333333 0.33333333 0.33333333]\n",
      " [0.56490052 0.29225826 0.14284118]]\n",
      "[[0.         1.         0.        ]\n",
      " [0.33333333 0.33333333 0.33333333]]\n",
      "value of table br policy [ 0.42205934 -0.42205934]\n",
      "[[0.81784838 0.06858443 0.11356721]\n",
      " [0.33333333 0.33333333 0.33333333]]\n",
      "value of hypernet br policy [-0.12421705  0.12421705]\n",
      "[[0.81784838 0.06858443 0.11356721]\n",
      " [0.33333333 0.33333333 0.33333333]]\n",
      "[[0.33333333 0.33333333 0.33333333]\n",
      " [0.         1.         0.        ]]\n",
      "value of table br policy [-0.70428117  0.70428117]\n",
      "[[0.33333333 0.33333333 0.33333333]\n",
      " [0.56667089 0.29221565 0.1411135 ]]\n",
      "value of hypernet br policy [-0.12556115  0.12556115]\n"
     ]
    },
    {
     "name": "stderr",
     "output_type": "stream",
     "text": [
      "  9%|▉         | 9266/100000 [01:24<13:14, 114.20it/s]"
     ]
    },
    {
     "name": "stdout",
     "output_type": "stream",
     "text": [
      "[[0.33333333 0.33333333 0.33333333]\n",
      " [0.52301466 0.35395339 0.12303197]]\n",
      "[[0.         1.         0.        ]\n",
      " [0.33333333 0.33333333 0.33333333]]\n",
      "value of table br policy [ 0.39998269 -0.39998269]\n",
      "[[0.83085114 0.05362855 0.11552039]\n",
      " [0.33333333 0.33333333 0.33333333]]\n",
      "value of hypernet br policy [-0.18994085  0.18994085]\n",
      "[[0.83013999 0.0538283  0.11603171]\n",
      " [0.33333333 0.33333333 0.33333333]]\n",
      "[[0.33333333 0.33333333 0.33333333]\n",
      " [0.         1.         0.        ]]\n",
      "value of table br policy [-0.71410828  0.71410828]\n",
      "[[0.33333333 0.33333333 0.33333333]\n",
      " [0.52282113 0.35423368 0.12294517]]\n",
      "value of hypernet br policy [-0.1900387  0.1900387]\n",
      "[[0.33333333 0.33333333 0.33333333]\n",
      " [0.52944386 0.34739396 0.12316219]]\n",
      "[[0.         1.         0.        ]\n",
      " [0.33333333 0.33333333 0.33333333]]\n",
      "value of table br policy [ 0.40628167 -0.40628167]\n",
      "[[0.83026665 0.05522675 0.11450662]\n",
      " [0.33333333 0.33333333 0.33333333]]\n",
      "value of hypernet br policy [-0.18458047  0.18458047]\n",
      "[[0.83026665 0.05522675 0.11450662]\n",
      " [0.33333333 0.33333333 0.33333333]]\n",
      "[[0.33333333 0.33333333 0.33333333]\n",
      " [0.         1.         0.        ]]\n",
      "value of table br policy [-0.71576003  0.71576003]\n",
      "[[0.33333333 0.33333333 0.33333333]\n",
      " [0.53019297 0.34483588 0.12497108]]\n",
      "value of hypernet br policy [-0.18139193  0.18139193]\n"
     ]
    },
    {
     "name": "stderr",
     "output_type": "stream",
     "text": [
      " 10%|▉         | 9504/100000 [01:26<13:17, 113.52it/s]"
     ]
    },
    {
     "name": "stdout",
     "output_type": "stream",
     "text": [
      "[[0.33333333 0.33333333 0.33333333]\n",
      " [0.50281608 0.38476545 0.11241843]]\n",
      "[[0.         1.         0.        ]\n",
      " [0.33333333 0.33333333 0.33333333]]\n",
      "value of table br policy [ 0.39039765 -0.39039765]\n",
      "[[0.83273435 0.04836246 0.11890315]\n",
      " [0.33333333 0.33333333 0.33333333]]\n",
      "value of hypernet br policy [-0.22194872  0.22194872]\n",
      "[[0.8331632  0.04821438 0.11862236]\n",
      " [0.33333333 0.33333333 0.33333333]]\n",
      "[[0.33333333 0.33333333 0.33333333]\n",
      " [0.         1.         0.        ]]\n",
      "value of table br policy [-0.71454084  0.71454084]\n",
      "[[0.33333333 0.33333333 0.33333333]\n",
      " [0.50426513 0.38273823 0.11299662]]\n",
      "value of hypernet br policy [-0.22028983  0.22028983]\n",
      "[[0.33333333 0.33333333 0.33333333]\n",
      " [0.49814048 0.38579869 0.11606079]]\n",
      "[[0.         1.         0.        ]\n",
      " [0.33333333 0.33333333 0.33333333]]\n",
      "value of table br policy [ 0.3820797 -0.3820797]\n",
      "[[0.83255726 0.04677361 0.1206691 ]\n",
      " [0.33333333 0.33333333 0.33333333]]\n",
      "value of hypernet br policy [-0.22025719  0.22025719]\n",
      "[[0.83255726 0.04677361 0.1206691 ]\n",
      " [0.33333333 0.33333333 0.33333333]]\n",
      "[[0.33333333 0.33333333 0.33333333]\n",
      " [0.         1.         0.        ]]\n",
      "value of table br policy [-0.71188816  0.71188816]\n",
      "[[0.33333333 0.33333333 0.33333333]\n",
      " [0.50366038 0.38161749 0.11472213]]\n",
      "value of hypernet br policy [-0.21874042  0.21874042]\n"
     ]
    },
    {
     "name": "stderr",
     "output_type": "stream",
     "text": [
      " 10%|▉         | 9754/100000 [01:28<13:18, 113.00it/s]"
     ]
    },
    {
     "name": "stdout",
     "output_type": "stream",
     "text": [
      "[[0.33333333 0.33333333 0.33333333]\n",
      " [0.52127153 0.35307041 0.12565817]]\n",
      "[[0.         1.         0.        ]\n",
      " [0.33333333 0.33333333 0.33333333]]\n",
      "value of table br policy [ 0.39561336 -0.39561336]\n",
      "[[0.8249175  0.05649197 0.11859063]\n",
      " [0.33333333 0.33333333 0.33333333]]\n",
      "value of hypernet br policy [-0.18519443  0.18519443]\n",
      "[[0.82565671 0.05584428 0.11849899]\n",
      " [0.33333333 0.33333333 0.33333333]]\n",
      "[[0.33333333 0.33333333 0.33333333]\n",
      " [0.         1.         0.        ]]\n",
      "value of table br policy [-0.70715772  0.70715772]\n",
      "[[0.33333333 0.33333333 0.33333333]\n",
      " [0.5211072  0.35410362 0.12478917]]\n",
      "value of hypernet br policy [-0.18699268  0.18699268]\n",
      "[[0.33333333 0.33333333 0.33333333]\n",
      " [0.52683806 0.34969056 0.12347141]]\n",
      "[[0.         1.         0.        ]\n",
      " [0.33333333 0.33333333 0.33333333]]\n",
      "value of table br policy [ 0.40336666 -0.40336666]\n",
      "[[0.82640517 0.05715987 0.11643502]\n",
      " [0.33333333 0.33333333 0.33333333]]\n",
      "value of hypernet br policy [-0.18451846  0.18451846]\n",
      "[[0.82640517 0.05715987 0.11643502]\n",
      " [0.33333333 0.33333333 0.33333333]]\n",
      "[[0.33333333 0.33333333 0.33333333]\n",
      " [0.         1.         0.        ]]\n",
      "value of table br policy [-0.70997015  0.70997015]\n",
      "[[0.33333333 0.33333333 0.33333333]\n",
      " [0.52401465 0.35123363 0.12475167]]\n",
      "value of hypernet br policy [-0.1844618  0.1844618]\n"
     ]
    },
    {
     "name": "stderr",
     "output_type": "stream",
     "text": [
      " 10%|█         | 10006/100000 [01:30<13:25, 111.74it/s]"
     ]
    },
    {
     "name": "stdout",
     "output_type": "stream",
     "text": [
      "[[0.33333333 0.33333333 0.33333333]\n",
      " [0.5125612  0.36575344 0.12168542]]\n",
      "[[0.         1.         0.        ]\n",
      " [0.33333333 0.33333333 0.33333333]]\n",
      "value of table br policy [ 0.39087578 -0.39087578]\n",
      "[[0.82440233 0.05788448 0.11771317]\n",
      " [0.33333333 0.33333333 0.33333333]]\n",
      "value of hypernet br policy [-0.19586581  0.19586581]\n",
      "[[0.82412034 0.0578955  0.11798418]\n",
      " [0.33333333 0.33333333 0.33333333]]\n",
      "[[0.33333333 0.33333333 0.33333333]\n",
      " [0.         1.         0.        ]]\n",
      "value of table br policy [-0.70613617  0.70613617]\n",
      "[[0.33333333 0.33333333 0.33333333]\n",
      " [0.51471961 0.36278659 0.12249374]]\n",
      "value of hypernet br policy [-0.1932478  0.1932478]\n",
      "[[0.33333333 0.33333333 0.33333333]\n",
      " [0.51608771 0.36260483 0.12130751]]\n",
      "[[0.         1.         0.        ]\n",
      " [0.33333333 0.33333333 0.33333333]]\n",
      "value of table br policy [ 0.3947802 -0.3947802]\n",
      "[[0.82406372 0.05885592 0.11708024]\n",
      " [0.33333333 0.33333333 0.33333333]]\n",
      "value of hypernet br policy [-0.19357902  0.19357902]\n",
      "[[0.82406372 0.05885592 0.11708024]\n",
      " [0.33333333 0.33333333 0.33333333]]\n",
      "[[0.33333333 0.33333333 0.33333333]\n",
      " [0.         1.         0.        ]]\n",
      "value of table br policy [-0.70698348  0.70698348]\n",
      "[[0.33333333 0.33333333 0.33333333]\n",
      " [0.5158788  0.36169744 0.12242371]]\n",
      "value of hypernet br policy [-0.19207123  0.19207123]\n"
     ]
    },
    {
     "name": "stderr",
     "output_type": "stream",
     "text": [
      " 10%|█         | 10254/100000 [01:32<13:25, 111.44it/s]"
     ]
    },
    {
     "name": "stdout",
     "output_type": "stream",
     "text": [
      "[[0.33333333 0.33333333 0.33333333]\n",
      " [0.4967154  0.3898167  0.1134679 ]]\n",
      "[[0.         1.         0.        ]\n",
      " [0.33333333 0.33333333 0.33333333]]\n",
      "value of table br policy [ 0.38324749 -0.38324749]\n",
      "[[0.8282879  0.05375604 0.11795614]\n",
      " [0.33333333 0.33333333 0.33333333]]\n",
      "value of hypernet br policy [-0.22090386  0.22090386]\n",
      "[[0.82618141 0.05373155 0.12008706]\n",
      " [0.33333333 0.33333333 0.33333333]]\n",
      "[[0.33333333 0.33333333 0.33333333]\n",
      " [0.         1.         0.        ]]\n",
      "value of table br policy [-0.70609435  0.70609435]\n",
      "[[0.33333333 0.33333333 0.33333333]\n",
      " [0.50042212 0.38551578 0.11406203]]\n",
      "value of hypernet br policy [-0.21730909  0.21730909]\n",
      "[[0.33333333 0.33333333 0.33333333]\n",
      " [0.49839768 0.3884832  0.11311919]]\n",
      "[[0.         1.         0.        ]\n",
      " [0.33333333 0.33333333 0.33333333]]\n",
      "value of table br policy [ 0.38527849 -0.38527849]\n",
      "[[0.82712764 0.05369827 0.11917409]\n",
      " [0.33333333 0.33333333 0.33333333]]\n",
      "value of hypernet br policy [-0.22017135  0.22017135]\n",
      "[[0.82712764 0.05369827 0.11917409]\n",
      " [0.33333333 0.33333333 0.33333333]]\n",
      "[[0.33333333 0.33333333 0.33333333]\n",
      " [0.         1.         0.        ]]\n",
      "value of table br policy [-0.70795355  0.70795355]\n",
      "[[0.33333333 0.33333333 0.33333333]\n",
      " [0.49786806 0.38923362 0.11289831]]\n",
      "value of hypernet br policy [-0.22083877  0.22083877]\n"
     ]
    },
    {
     "name": "stderr",
     "output_type": "stream",
     "text": [
      " 11%|█         | 10519/100000 [01:34<12:46, 116.78it/s]"
     ]
    },
    {
     "name": "stdout",
     "output_type": "stream",
     "text": [
      "[[0.33333333 0.33333333 0.33333333]\n",
      " [0.48893061 0.40107149 0.10999791]]\n",
      "[[0.         1.         0.        ]\n",
      " [0.33333333 0.33333333 0.33333333]]\n",
      "value of table br policy [ 0.37893271 -0.37893271]\n",
      "[[0.82440323 0.05026913 0.12532759]\n",
      " [0.33333333 0.33333333 0.33333333]]\n",
      "value of hypernet br policy [-0.23192456  0.23192456]\n",
      "[[0.82801449 0.04870511 0.12328044]\n",
      " [0.33333333 0.33333333 0.33333333]]\n",
      "[[0.33333333 0.33333333 0.33333333]\n",
      " [0.         1.         0.        ]]\n",
      "value of table br policy [-0.70473405  0.70473405]\n",
      "[[0.33333333 0.33333333 0.33333333]\n",
      " [0.48627198 0.40594795 0.10778002]]\n",
      "value of hypernet br policy [-0.23835526  0.23835526]\n",
      "[[0.33333333 0.33333333 0.33333333]\n",
      " [0.48364076 0.4091863  0.10717294]]\n",
      "[[0.         1.         0.        ]\n",
      " [0.33333333 0.33333333 0.33333333]]\n",
      "value of table br policy [ 0.37646782 -0.37646782]\n",
      "[[0.82898331 0.04767485 0.12334184]\n",
      " [0.33333333 0.33333333 0.33333333]]\n",
      "value of hypernet br policy [-0.24159934  0.24159934]\n",
      "[[0.82898331 0.04767485 0.12334184]\n",
      " [0.33333333 0.33333333 0.33333333]]\n",
      "[[0.33333333 0.33333333 0.33333333]\n",
      " [0.         1.         0.        ]]\n",
      "value of table br policy [-0.70564146  0.70564146]\n",
      "[[0.33333333 0.33333333 0.33333333]\n",
      " [0.47803909 0.41688108 0.10507985]]\n",
      "value of hypernet br policy [-0.24824058  0.24824058]\n"
     ]
    },
    {
     "name": "stderr",
     "output_type": "stream",
     "text": [
      " 11%|█         | 10754/100000 [01:37<13:47, 107.86it/s]"
     ]
    },
    {
     "name": "stdout",
     "output_type": "stream",
     "text": [
      "[[0.33333333 0.33333333 0.33333333]\n",
      " [0.51610434 0.36184841 0.12204716]]\n",
      "[[0.         1.         0.        ]\n",
      " [0.33333333 0.33333333 0.33333333]]\n",
      "value of table br policy [ 0.39405718 -0.39405718]\n",
      "[[0.81716293 0.05778403 0.12505302]\n",
      " [0.33333333 0.33333333 0.33333333]]\n",
      "value of hypernet br policy [-0.19247665  0.19247665]\n",
      "[[0.81621277 0.05774715 0.12604006]\n",
      " [0.33333333 0.33333333 0.33333333]]\n",
      "[[0.33333333 0.33333333 0.33333333]\n",
      " [0.         1.         0.        ]]\n",
      "value of table br policy [-0.69017272  0.69017272]\n",
      "[[0.33333333 0.33333333 0.33333333]\n",
      " [0.5180335  0.35952967 0.12243677]]\n",
      "value of hypernet br policy [-0.19065151  0.19065151]\n",
      "[[0.33333333 0.33333333 0.33333333]\n",
      " [0.51920623 0.36057615 0.12021767]]\n",
      "[[0.         1.         0.        ]\n",
      " [0.33333333 0.33333333 0.33333333]]\n",
      "value of table br policy [ 0.39898856 -0.39898856]\n",
      "[[0.81670946 0.05861434 0.12467625]\n",
      " [0.33333333 0.33333333 0.33333333]]\n",
      "value of hypernet br policy [-0.192694  0.192694]\n",
      "[[0.81670946 0.05861434 0.12467625]\n",
      " [0.33333333 0.33333333 0.33333333]]\n",
      "[[0.33333333 0.33333333 0.33333333]\n",
      " [0.         1.         0.        ]]\n",
      "value of table br policy [-0.69203321  0.69203321]\n",
      "[[0.33333333 0.33333333 0.33333333]\n",
      " [0.51670182 0.36231181 0.12098636]]\n",
      "value of hypernet br policy [-0.19314695  0.19314695]\n"
     ]
    },
    {
     "name": "stderr",
     "output_type": "stream",
     "text": [
      " 11%|█         | 11013/100000 [01:39<14:06, 105.18it/s]"
     ]
    },
    {
     "name": "stdout",
     "output_type": "stream",
     "text": [
      "[[0.33333333 0.33333333 0.33333333]\n",
      " [0.44353953 0.46103168 0.09542881]]\n",
      "[[0.         1.         0.        ]\n",
      " [0.33333333 0.33333333 0.33333333]]\n",
      "value of table br policy [ 0.34811072 -0.34811072]\n",
      "[[0.82281929 0.04542068 0.13176003]\n",
      " [0.33333333 0.33333333 0.33333333]]\n",
      "value of hypernet br policy [-0.2827089  0.2827089]\n",
      "[[0.82393336 0.04483437 0.13123235]\n",
      " [0.33333333 0.33333333 0.33333333]]\n",
      "[[0.33333333 0.33333333 0.33333333]\n",
      " [0.         1.         0.        ]]\n",
      "value of table br policy [-0.69270101  0.69270101]\n",
      "[[0.33333333 0.33333333 0.33333333]\n",
      " [0.44268799 0.46270114 0.09461091]]\n",
      "value of hypernet br policy [-0.28504964  0.28504964]\n",
      "[[0.33333333 0.33333333 0.33333333]\n",
      " [0.43939748 0.46685991 0.09374259]]\n",
      "[[0.         1.         0.        ]\n",
      " [0.33333333 0.33333333 0.33333333]]\n",
      "value of table br policy [ 0.3456549 -0.3456549]\n",
      "[[0.82432836 0.04418832 0.13148338]\n",
      " [0.33333333 0.33333333 0.33333333]]\n",
      "value of hypernet br policy [-0.28868643  0.28868643]\n",
      "[[0.82432836 0.04418832 0.13148338]\n",
      " [0.33333333 0.33333333 0.33333333]]\n",
      "[[0.33333333 0.33333333 0.33333333]\n",
      " [0.         1.         0.        ]]\n",
      "value of table br policy [-0.69284499  0.69284499]\n",
      "[[0.33333333 0.33333333 0.33333333]\n",
      " [0.43567157 0.47188172 0.09244683]]\n",
      "value of hypernet br policy [-0.29285138  0.29285138]\n"
     ]
    },
    {
     "name": "stderr",
     "output_type": "stream",
     "text": [
      " 11%|█▏        | 11269/100000 [01:41<12:02, 122.77it/s]"
     ]
    },
    {
     "name": "stdout",
     "output_type": "stream",
     "text": [
      "[[0.33333333 0.33333333 0.33333333]\n",
      " [0.45793265 0.4455246  0.09654277]]\n",
      "[[0.         1.         0.        ]\n",
      " [0.33333333 0.33333333 0.33333333]]\n",
      "value of table br policy [ 0.36138988 -0.36138988]\n",
      "[[0.82973224 0.04392404 0.12634374]\n",
      " [0.33333333 0.33333333 0.33333333]]\n",
      "value of hypernet br policy [-0.27525546  0.27525546]\n",
      "[[0.82969153 0.0445242  0.12578417]\n",
      " [0.33333333 0.33333333 0.33333333]]\n",
      "[[0.33333333 0.33333333 0.33333333]\n",
      " [0.         1.         0.        ]]\n",
      "value of table br policy [-0.70390736  0.70390736]\n",
      "[[0.33333333 0.33333333 0.33333333]\n",
      " [0.45507541 0.44849187 0.09643278]]\n",
      "value of hypernet br policy [-0.27696027  0.27696027]\n",
      "[[0.33333333 0.33333333 0.33333333]\n",
      " [0.44992155 0.45149139 0.09858707]]\n",
      "[[0.         1.         0.        ]\n",
      " [0.33333333 0.33333333 0.33333333]]\n",
      "value of table br policy [ 0.35133447 -0.35133447]\n",
      "[[0.82815409 0.04298654 0.12885936]\n",
      " [0.33333333 0.33333333 0.33333333]]\n",
      "value of hypernet br policy [-0.27695421  0.27695421]\n",
      "[[0.82815409 0.04298654 0.12885936]\n",
      " [0.33333333 0.33333333 0.33333333]]\n",
      "[[0.33333333 0.33333333 0.33333333]\n",
      " [0.         1.         0.        ]]\n",
      "value of table br policy [-0.69929473  0.69929473]\n",
      "[[0.33333333 0.33333333 0.33333333]\n",
      " [0.45302022 0.45001903 0.09696072]]\n",
      "value of hypernet br policy [-0.27746765  0.27746765]\n"
     ]
    },
    {
     "name": "stderr",
     "output_type": "stream",
     "text": [
      " 12%|█▏        | 11504/100000 [01:43<13:39, 107.97it/s]"
     ]
    },
    {
     "name": "stdout",
     "output_type": "stream",
     "text": [
      "[[0.33333333 0.33333333 0.33333333]\n",
      " [0.49602446 0.39202014 0.11195543]]\n",
      "[[0.         1.         0.        ]\n",
      " [0.33333333 0.33333333 0.33333333]]\n",
      "value of table br policy [ 0.38406903 -0.38406903]\n",
      "[[0.81760168 0.056178   0.12622036]\n",
      " [0.33333333 0.33333333 0.33333333]]\n",
      "value of hypernet br policy [-0.2205326  0.2205326]\n",
      "[[0.82174224 0.05507299 0.12318471]\n",
      " [0.33333333 0.33333333 0.33333333]]\n",
      "[[0.33333333 0.33333333 0.33333333]\n",
      " [0.         1.         0.        ]]\n",
      "value of table br policy [-0.69855753  0.69855753]\n",
      "[[0.33333333 0.33333333 0.33333333]\n",
      " [0.49118644 0.39885324 0.10996024]]\n",
      "value of hypernet br policy [-0.22777436  0.22777436]\n",
      "[[0.33333333 0.33333333 0.33333333]\n",
      " [0.487459   0.40035513 0.11218592]]\n",
      "[[0.         1.         0.        ]\n",
      " [0.33333333 0.33333333 0.33333333]]\n",
      "value of table br policy [ 0.37527309 -0.37527309]\n",
      "[[0.821383   0.05315769 0.12545928]\n",
      " [0.33333333 0.33333333 0.33333333]]\n",
      "value of hypernet br policy [-0.22767663  0.22767663]\n",
      "[[0.821383   0.05315769 0.12545928]\n",
      " [0.33333333 0.33333333 0.33333333]]\n",
      "[[0.33333333 0.33333333 0.33333333]\n",
      " [0.         1.         0.        ]]\n",
      "value of table br policy [-0.69592372  0.69592372]\n",
      "[[0.33333333 0.33333333 0.33333333]\n",
      " [0.48689938 0.40339586 0.10970482]]\n",
      "value of hypernet br policy [-0.23165833  0.23165833]\n"
     ]
    },
    {
     "name": "stderr",
     "output_type": "stream",
     "text": [
      " 12%|█▏        | 11755/100000 [01:45<13:16, 110.85it/s]"
     ]
    },
    {
     "name": "stdout",
     "output_type": "stream",
     "text": [
      "[[0.33333333 0.33333333 0.33333333]\n",
      " [0.52446336 0.35644123 0.11909537]]\n",
      "[[0.         1.         0.        ]\n",
      " [0.33333333 0.33333333 0.33333333]]\n",
      "value of table br policy [ 0.40536799 -0.40536799]\n",
      "[[0.81228811 0.06158996 0.12612197]\n",
      " [0.33333333 0.33333333 0.33333333]]\n",
      "value of hypernet br policy [-0.1890179  0.1890179]\n",
      "[[0.81508321 0.06065654 0.12426025]\n",
      " [0.33333333 0.33333333 0.33333333]]\n",
      "[[0.33333333 0.33333333 0.33333333]\n",
      " [0.         1.         0.        ]]\n",
      "value of table br policy [-0.69082296  0.69082296]\n",
      "[[0.33333333 0.33333333 0.33333333]\n",
      " [0.52308005 0.35867968 0.11824023]]\n",
      "value of hypernet br policy [-0.19185041  0.19185041]\n",
      "[[0.33333333 0.33333333 0.33333333]\n",
      " [0.52192926 0.35838321 0.1196875 ]]\n",
      "[[0.         1.         0.        ]\n",
      " [0.33333333 0.33333333 0.33333333]]\n",
      "value of table br policy [ 0.40224177 -0.40224177]\n",
      "[[0.81505972 0.05990448 0.12503578]\n",
      " [0.33333333 0.33333333 0.33333333]]\n",
      "value of hypernet br policy [-0.19090428  0.19090428]\n",
      "[[0.81505972 0.05990448 0.12503578]\n",
      " [0.33333333 0.33333333 0.33333333]]\n",
      "[[0.33333333 0.33333333 0.33333333]\n",
      " [0.         1.         0.        ]]\n",
      "value of table br policy [-0.69002394  0.69002394]\n",
      "[[0.33333333 0.33333333 0.33333333]\n",
      " [0.52254528 0.35864088 0.11881381]]\n",
      "value of hypernet br policy [-0.19178197  0.19178197]\n"
     ]
    },
    {
     "name": "stderr",
     "output_type": "stream",
     "text": [
      " 12%|█▏        | 12011/100000 [01:48<13:29, 108.73it/s]"
     ]
    },
    {
     "name": "stdout",
     "output_type": "stream",
     "text": [
      "[[0.33333333 0.33333333 0.33333333]\n",
      " [0.4779318  0.41632324 0.10574504]]\n",
      "[[0.         1.         0.        ]\n",
      " [0.33333333 0.33333333 0.33333333]]\n",
      "value of table br policy [ 0.37218676 -0.37218676]\n",
      "[[0.81925535 0.05115005 0.12959464]\n",
      " [0.33333333 0.33333333 0.33333333]]\n",
      "value of hypernet br policy [-0.24338962  0.24338962]\n",
      "[[0.82015687 0.05074597 0.12909719]\n",
      " [0.33333333 0.33333333 0.33333333]]\n",
      "[[0.33333333 0.33333333 0.33333333]\n",
      " [0.         1.         0.        ]]\n",
      "value of table br policy [-0.69105968  0.69105968]\n",
      "[[0.33333333 0.33333333 0.33333333]\n",
      " [0.4793517  0.41462615 0.10602215]]\n",
      "value of hypernet br policy [-0.24251461  0.24251461]\n",
      "[[0.33333333 0.33333333 0.33333333]\n",
      " [0.48701826 0.40834764 0.10463411]]\n",
      "[[0.         1.         0.        ]\n",
      " [0.33333333 0.33333333 0.33333333]]\n",
      "value of table br policy [ 0.38238415 -0.38238415]\n",
      "[[0.82069457 0.05289757 0.12640785]\n",
      " [0.33333333 0.33333333 0.33333333]]\n",
      "value of hypernet br policy [-0.23897343  0.23897343]\n",
      "[[0.82069457 0.05289757 0.12640785]\n",
      " [0.33333333 0.33333333 0.33333333]]\n",
      "[[0.33333333 0.33333333 0.33333333]\n",
      " [0.         1.         0.        ]]\n",
      "value of table br policy [-0.69428672  0.69428672]\n",
      "[[0.33333333 0.33333333 0.33333333]\n",
      " [0.48635024 0.40637654 0.10727327]]\n",
      "value of hypernet br policy [-0.23552948  0.23552948]\n"
     ]
    },
    {
     "name": "stderr",
     "output_type": "stream",
     "text": [
      " 12%|█▏        | 12270/100000 [01:50<12:13, 119.61it/s]"
     ]
    },
    {
     "name": "stdout",
     "output_type": "stream",
     "text": [
      "[[0.33333333 0.33333333 0.33333333]\n",
      " [0.55949819 0.30496728 0.13553457]]\n",
      "[[0.         1.         0.        ]\n",
      " [0.33333333 0.33333333 0.33333333]]\n",
      "value of table br policy [ 0.42396362 -0.42396362]\n",
      "[[0.80393511 0.07428336 0.12178152]\n",
      " [0.33333333 0.33333333 0.33333333]]\n",
      "value of hypernet br policy [-0.13571663  0.13571663]\n",
      "[[0.80023676 0.07527375 0.12448955]\n",
      " [0.33333333 0.33333333 0.33333333]]\n",
      "[[0.33333333 0.33333333 0.33333333]\n",
      " [0.         1.         0.        ]]\n",
      "value of table br policy [-0.67574722  0.67574722]\n",
      "[[0.33333333 0.33333333 0.33333333]\n",
      " [0.5610401  0.30296865 0.13599129]]\n",
      "value of hypernet br policy [-0.1337536  0.1337536]\n",
      "[[0.33333333 0.33333333 0.33333333]\n",
      " [0.55814338 0.30500555 0.1368511 ]]\n",
      "[[0.         1.         0.        ]\n",
      " [0.33333333 0.33333333 0.33333333]]\n",
      "value of table br policy [ 0.42129228 -0.42129228]\n",
      "[[0.80097753 0.07421471 0.12480775]\n",
      " [0.33333333 0.33333333 0.33333333]]\n",
      "value of hypernet br policy [-0.13501541  0.13501541]\n",
      "[[0.80097753 0.07421471 0.12480775]\n",
      " [0.33333333 0.33333333 0.33333333]]\n",
      "[[0.33333333 0.33333333 0.33333333]\n",
      " [0.         1.         0.        ]]\n",
      "value of table br policy [-0.67616978  0.67616978]\n",
      "[[0.33333333 0.33333333 0.33333333]\n",
      " [0.55976272 0.30455136 0.13568594]]\n",
      "value of hypernet br policy [-0.13563703  0.13563703]\n"
     ]
    },
    {
     "name": "stderr",
     "output_type": "stream",
     "text": [
      " 13%|█▎        | 12514/100000 [01:52<13:48, 105.63it/s]"
     ]
    },
    {
     "name": "stdout",
     "output_type": "stream",
     "text": [
      "[[0.33333333 0.33333333 0.33333333]\n",
      " [0.50162715 0.38367212 0.11470076]]\n",
      "[[0.         1.         0.        ]\n",
      " [0.33333333 0.33333333 0.33333333]]\n",
      "value of table br policy [ 0.38692639 -0.38692639]\n",
      "[[0.81073558 0.05975054 0.12951389]\n",
      " [0.33333333 0.33333333 0.33333333]]\n",
      "value of hypernet br policy [-0.21022241  0.21022241]\n",
      "[[0.80912971 0.05963054 0.13123979]\n",
      " [0.33333333 0.33333333 0.33333333]]\n",
      "[[0.33333333 0.33333333 0.33333333]\n",
      " [0.         1.         0.        ]]\n",
      "value of table br policy [-0.67788993  0.67788993]\n",
      "[[0.33333333 0.33333333 0.33333333]\n",
      " [0.50245667 0.38331574 0.11422767]]\n",
      "value of hypernet br policy [-0.21021288  0.21021288]\n",
      "[[0.33333333 0.33333333 0.33333333]\n",
      " [0.50344527 0.37997603 0.11657869]]\n",
      "[[0.         1.         0.        ]\n",
      " [0.33333333 0.33333333 0.33333333]]\n",
      "value of table br policy [ 0.38686658 -0.38686658]\n",
      "[[0.8101964  0.05911569 0.13068792]\n",
      " [0.33333333 0.33333333 0.33333333]]\n",
      "value of hypernet br policy [-0.20666963  0.20666963]\n",
      "[[0.8101964  0.05911569 0.13068792]\n",
      " [0.33333333 0.33333333 0.33333333]]\n",
      "[[0.33333333 0.33333333 0.33333333]\n",
      " [0.         1.         0.        ]]\n",
      "value of table br policy [-0.67950848  0.67950848]\n",
      "[[0.33333333 0.33333333 0.33333333]\n",
      " [0.50637478 0.37751922 0.11610598]]\n",
      "value of hypernet br policy [-0.20556492  0.20556492]\n"
     ]
    },
    {
     "name": "stderr",
     "output_type": "stream",
     "text": [
      " 13%|█▎        | 12763/100000 [01:54<13:10, 110.32it/s]"
     ]
    },
    {
     "name": "stdout",
     "output_type": "stream",
     "text": [
      "[[0.33333333 0.33333333 0.33333333]\n",
      " [0.47237563 0.41882572 0.10879868]]\n",
      "[[0.         1.         0.        ]\n",
      " [0.33333333 0.33333333 0.33333333]]\n",
      "value of table br policy [ 0.36357696 -0.36357696]\n",
      "[[0.81548333 0.05442251 0.13009419]\n",
      " [0.33333333 0.33333333 0.33333333]]\n",
      "value of hypernet br policy [-0.24000165  0.24000165]\n",
      "[[0.81433749 0.05416471 0.13149783]\n",
      " [0.33333333 0.33333333 0.33333333]]\n",
      "[[0.33333333 0.33333333 0.33333333]\n",
      " [0.         1.         0.        ]]\n",
      "value of table br policy [-0.68283966  0.68283966]\n",
      "[[0.33333333 0.33333333 0.33333333]\n",
      " [0.47510102 0.41582939 0.10906961]]\n",
      "value of hypernet br policy [-0.2377741  0.2377741]\n",
      "[[0.33333333 0.33333333 0.33333333]\n",
      " [0.4646045  0.4252528  0.11014272]]\n",
      "[[0.         1.         0.        ]\n",
      " [0.33333333 0.33333333 0.33333333]]\n",
      "value of table br policy [ 0.35446177 -0.35446177]\n",
      "[[0.81465763 0.05175868 0.13358369]\n",
      " [0.33333333 0.33333333 0.33333333]]\n",
      "value of hypernet br policy [-0.2436171  0.2436171]\n",
      "[[0.81465763 0.05175868 0.13358369]\n",
      " [0.33333333 0.33333333 0.33333333]]\n",
      "[[0.33333333 0.33333333 0.33333333]\n",
      " [0.         1.         0.        ]]\n",
      "value of table br policy [-0.68107393  0.68107393]\n",
      "[[0.33333333 0.33333333 0.33333333]\n",
      " [0.46532783 0.42768633 0.10698585]]\n",
      "value of hypernet br policy [-0.24774208  0.24774208]\n"
     ]
    },
    {
     "name": "stderr",
     "output_type": "stream",
     "text": [
      " 13%|█▎        | 13014/100000 [01:57<12:37, 114.82it/s]"
     ]
    },
    {
     "name": "stdout",
     "output_type": "stream",
     "text": [
      "[[0.33333333 0.33333333 0.33333333]\n",
      " [0.32796279 0.61395431 0.05808293]]\n",
      "[[0.         0.         1.        ]\n",
      " [0.33333333 0.33333333 0.33333333]]\n",
      "value of table br policy [ 0.28599152 -0.28599152]\n",
      "[[0.82674682 0.03137248 0.14188063]\n",
      " [0.33333333 0.33333333 0.33333333]]\n",
      "value of hypernet br policy [-0.41052143  0.41052143]\n",
      "[[0.83219534 0.03024508 0.13755958]\n",
      " [0.33333333 0.33333333 0.33333333]]\n",
      "[[0.33333333 0.33333333 0.33333333]\n",
      " [0.         1.         0.        ]]\n",
      "value of table br policy [-0.69463576  0.69463576]\n",
      "[[0.33333333 0.33333333 0.33333333]\n",
      " [0.31690434 0.62826395 0.05483177]]\n",
      "value of hypernet br policy [-0.42645069  0.42645069]\n",
      "[[0.33333333 0.33333333 0.33333333]\n",
      " [0.31985575 0.62676901 0.05337525]]\n",
      "[[0.         0.         1.        ]\n",
      " [0.33333333 0.33333333 0.33333333]]\n",
      "value of table br policy [ 0.30691326 -0.30691326]\n",
      "[[0.8333106  0.03012152 0.13656792]\n",
      " [0.33333333 0.33333333 0.33333333]]\n",
      "value of hypernet br policy [-0.42787379  0.42787379]\n",
      "[[0.8333106  0.03012152 0.13656792]\n",
      " [0.33333333 0.33333333 0.33333333]]\n",
      "[[0.33333333 0.33333333 0.33333333]\n",
      " [0.         1.         0.        ]]\n",
      "value of table br policy [-0.69674268  0.69674268]\n",
      "[[0.33333333 0.33333333 0.33333333]\n",
      " [0.30612779 0.6422044  0.05166785]]\n",
      "value of hypernet br policy [-0.43853836  0.43853836]\n"
     ]
    },
    {
     "name": "stderr",
     "output_type": "stream",
     "text": [
      " 13%|█▎        | 13270/100000 [01:59<11:38, 124.15it/s]"
     ]
    },
    {
     "name": "stdout",
     "output_type": "stream",
     "text": [
      "[[0.33333333 0.33333333 0.33333333]\n",
      " [0.48569003 0.4039641  0.11034586]]\n",
      "[[0.         1.         0.        ]\n",
      " [0.33333333 0.33333333 0.33333333]]\n",
      "value of table br policy [ 0.37534417 -0.37534417]\n",
      "[[0.81203568 0.05674198 0.1312224 ]\n",
      " [0.33333333 0.33333333 0.33333333]]\n",
      "value of hypernet br policy [-0.22785499  0.22785499]\n",
      "[[0.81326073 0.05660205 0.13013719]\n",
      " [0.33333333 0.33333333 0.33333333]]\n",
      "[[0.33333333 0.33333333 0.33333333]\n",
      " [0.         1.         0.        ]]\n",
      "value of table br policy [-0.68312354  0.68312354]\n",
      "[[0.33333333 0.33333333 0.33333333]\n",
      " [0.48490605 0.40480986 0.11028405]]\n",
      "value of hypernet br policy [-0.2287454  0.2287454]\n",
      "[[0.33333333 0.33333333 0.33333333]\n",
      " [0.49070594 0.40033907 0.10895502]]\n",
      "[[0.         1.         0.        ]\n",
      " [0.33333333 0.33333333 0.33333333]]\n",
      "value of table br policy [ 0.38175092 -0.38175092]\n",
      "[[0.81310207 0.05829209 0.12860586]\n",
      " [0.33333333 0.33333333 0.33333333]]\n",
      "value of hypernet br policy [-0.22629362  0.22629362]\n",
      "[[0.81310207 0.05829209 0.12860586]\n",
      " [0.33333333 0.33333333 0.33333333]]\n",
      "[[0.33333333 0.33333333 0.33333333]\n",
      " [0.         1.         0.        ]]\n",
      "value of table br policy [-0.68449621  0.68449621]\n",
      "[[0.33333333 0.33333333 0.33333333]\n",
      " [0.48939756 0.39959919 0.11100323]]\n",
      "value of hypernet br policy [-0.22414918  0.22414918]\n"
     ]
    },
    {
     "name": "stderr",
     "output_type": "stream",
     "text": [
      " 14%|█▎        | 13520/100000 [02:01<11:38, 123.80it/s]"
     ]
    },
    {
     "name": "stdout",
     "output_type": "stream",
     "text": [
      "[[0.33333333 0.33333333 0.33333333]\n",
      " [0.49324131 0.39008781 0.11667082]]\n",
      "[[0.         1.         0.        ]\n",
      " [0.33333333 0.33333333 0.33333333]]\n",
      "value of table br policy [ 0.37657049 -0.37657049]\n",
      "[[0.80469036 0.06331255 0.13199705]\n",
      " [0.33333333 0.33333333 0.33333333]]\n",
      "value of hypernet br policy [-0.20979033  0.20979033]\n",
      "[[0.80449736 0.06304634 0.13245636]\n",
      " [0.33333333 0.33333333 0.33333333]]\n",
      "[[0.33333333 0.33333333 0.33333333]\n",
      " [0.         1.         0.        ]]\n",
      "value of table br policy [-0.672041  0.672041]\n",
      "[[0.33333333 0.33333333 0.33333333]\n",
      " [0.49463454 0.38858774 0.11677773]]\n",
      "value of hypernet br policy [-0.20889452  0.20889452]\n",
      "[[0.33333333 0.33333333 0.33333333]\n",
      " [0.49880844 0.38331407 0.11787742]]\n",
      "[[0.         1.         0.        ]\n",
      " [0.33333333 0.33333333 0.33333333]]\n",
      "value of table br policy [ 0.38093103 -0.38093103]\n",
      "[[0.80505866 0.06399644 0.13094486]\n",
      " [0.33333333 0.33333333 0.33333333]]\n",
      "value of hypernet br policy [-0.20443724  0.20443724]\n",
      "[[0.80505866 0.06399644 0.13094486]\n",
      " [0.33333333 0.33333333 0.33333333]]\n",
      "[[0.33333333 0.33333333 0.33333333]\n",
      " [0.         1.         0.        ]]\n",
      "value of table br policy [-0.6741138  0.6741138]\n",
      "[[0.33333333 0.33333333 0.33333333]\n",
      " [0.50140679 0.37929037 0.11930294]]\n",
      "value of hypernet br policy [-0.20084237  0.20084237]\n"
     ]
    },
    {
     "name": "stderr",
     "output_type": "stream",
     "text": [
      " 14%|█▍        | 13766/100000 [02:03<12:53, 111.52it/s]"
     ]
    },
    {
     "name": "stdout",
     "output_type": "stream",
     "text": [
      "[[0.33333333 0.33333333 0.33333333]\n",
      " [0.42258012 0.48910028 0.08831961]]\n",
      "[[0.         1.         0.        ]\n",
      " [0.33333333 0.33333333 0.33333333]]\n",
      "value of table br policy [ 0.33426051 -0.33426051]\n",
      "[[0.81188607 0.04630782 0.14180613]\n",
      " [0.33333333 0.33333333 0.33333333]]\n",
      "value of hypernet br policy [-0.3004764  0.3004764]\n",
      "[[0.81669599 0.04531925 0.13798469]\n",
      " [0.33333333 0.33333333 0.33333333]]\n",
      "[[0.33333333 0.33333333 0.33333333]\n",
      " [0.         1.         0.        ]]\n",
      "value of table br policy [-0.6787113  0.6787113]\n",
      "[[0.33333333 0.33333333 0.33333333]\n",
      " [0.41203752 0.50321674 0.08474574]]\n",
      "value of hypernet br policy [-0.31434963  0.31434963]\n",
      "[[0.33333333 0.33333333 0.33333333]\n",
      " [0.41274834 0.50349987 0.08375177]]\n",
      "[[0.         1.         0.        ]\n",
      " [0.33333333 0.33333333 0.33333333]]\n",
      "value of table br policy [ 0.32899657 -0.32899657]\n",
      "[[0.81618845 0.04459196 0.13921952]\n",
      " [0.33333333 0.33333333 0.33333333]]\n",
      "value of hypernet br policy [-0.31528856  0.31528856]\n",
      "[[0.81618845 0.04459196 0.13921952]\n",
      " [0.33333333 0.33333333 0.33333333]]\n",
      "[[0.33333333 0.33333333 0.33333333]\n",
      " [0.         1.         0.        ]]\n",
      "value of table br policy [-0.67696893  0.67696893]\n",
      "[[0.33333333 0.33333333 0.33333333]\n",
      " [0.40271267 0.51569879 0.08158859]]\n",
      "value of hypernet br policy [-0.32426631  0.32426631]\n"
     ]
    },
    {
     "name": "stderr",
     "output_type": "stream",
     "text": [
      " 14%|█▍        | 14013/100000 [02:05<12:59, 110.32it/s]"
     ]
    },
    {
     "name": "stdout",
     "output_type": "stream",
     "text": [
      "[[0.33333333 0.33333333 0.33333333]\n",
      " [0.40141562 0.51879942 0.07978494]]\n",
      "[[0.         1.         0.        ]\n",
      " [0.33333333 0.33333333 0.33333333]]\n",
      "value of table br policy [ 0.32163067 -0.32163067]\n",
      "[[0.81220609 0.04410161 0.14369233]\n",
      " [0.33333333 0.33333333 0.33333333]]\n",
      "value of hypernet br policy [-0.32551865  0.32551865]\n",
      "[[0.80870485 0.0446922  0.14660305]\n",
      " [0.33333333 0.33333333 0.33333333]]\n",
      "[[0.33333333 0.33333333 0.33333333]\n",
      " [0.         1.         0.        ]]\n",
      "value of table br policy [-0.66210181  0.66210181]\n",
      "[[0.33333333 0.33333333 0.33333333]\n",
      " [0.40451428 0.51481903 0.08066672]]\n",
      "value of hypernet br policy [-0.32045661  0.32045661]\n",
      "[[0.33333333 0.33333333 0.33333333]\n",
      " [0.41363242 0.50596344 0.08040413]]\n",
      "[[0.         1.         0.        ]\n",
      " [0.33333333 0.33333333 0.33333333]]\n",
      "value of table br policy [ 0.33322829 -0.33322829]\n",
      "[[0.81034791 0.04678154 0.14287053]\n",
      " [0.33333333 0.33333333 0.33333333]]\n",
      "value of hypernet br policy [-0.31607079  0.31607079]\n",
      "[[0.81034791 0.04678154 0.14287053]\n",
      " [0.33333333 0.33333333 0.33333333]]\n",
      "[[0.33333333 0.33333333 0.33333333]\n",
      " [0.         1.         0.        ]]\n",
      "value of table br policy [-0.66747738  0.66747738]\n",
      "[[0.33333333 0.33333333 0.33333333]\n",
      " [0.41680092 0.49983954 0.08335952]]\n",
      "value of hypernet br policy [-0.31003105  0.31003105]\n"
     ]
    },
    {
     "name": "stderr",
     "output_type": "stream",
     "text": [
      " 14%|█▍        | 14264/100000 [02:08<12:48, 111.55it/s]"
     ]
    },
    {
     "name": "stdout",
     "output_type": "stream",
     "text": [
      "[[0.33333333 0.33333333 0.33333333]\n",
      " [0.50614303 0.373741   0.12011594]]\n",
      "[[0.         1.         0.        ]\n",
      " [0.33333333 0.33333333 0.33333333]]\n",
      "value of table br policy [ 0.3860271 -0.3860271]\n",
      "[[0.79788893 0.06602955 0.13608147]\n",
      " [0.33333333 0.33333333 0.33333333]]\n",
      "value of hypernet br policy [-0.1948929  0.1948929]\n",
      "[[0.79902679 0.06598352 0.13498977]\n",
      " [0.33333333 0.33333333 0.33333333]]\n",
      "[[0.33333333 0.33333333 0.33333333]\n",
      " [0.         1.         0.        ]]\n",
      "value of table br policy [-0.66403702  0.66403702]\n",
      "[[0.33333333 0.33333333 0.33333333]\n",
      " [0.50276095 0.37822586 0.11901321]]\n",
      "value of hypernet br policy [-0.19860779  0.19860779]\n",
      "[[0.33333333 0.33333333 0.33333333]\n",
      " [0.50048953 0.37892991 0.12058054]]\n",
      "[[0.         1.         0.        ]\n",
      " [0.33333333 0.33333333 0.33333333]]\n",
      "value of table br policy [ 0.37990899 -0.37990899]\n",
      "[[0.79857093 0.06452832 0.13690081]\n",
      " [0.33333333 0.33333333 0.33333333]]\n",
      "value of hypernet br policy [-0.19843702  0.19843702]\n",
      "[[0.79857093 0.06452832 0.13690081]\n",
      " [0.33333333 0.33333333 0.33333333]]\n",
      "[[0.33333333 0.33333333 0.33333333]\n",
      " [0.         1.         0.        ]]\n",
      "value of table br policy [-0.66167012  0.66167012]\n",
      "[[0.33333333 0.33333333 0.33333333]\n",
      " [0.50022852 0.3810617  0.11870981]]\n",
      "value of hypernet br policy [-0.20120187  0.20120187]\n"
     ]
    },
    {
     "name": "stderr",
     "output_type": "stream",
     "text": [
      " 15%|█▍        | 14507/100000 [02:10<12:24, 114.87it/s]"
     ]
    },
    {
     "name": "stdout",
     "output_type": "stream",
     "text": [
      "[[0.33333333 0.33333333 0.33333333]\n",
      " [0.54153711 0.3240183  0.13444461]]\n",
      "[[0.         1.         0.        ]\n",
      " [0.33333333 0.33333333 0.33333333]]\n",
      "value of table br policy [ 0.4070925 -0.4070925]\n",
      "[[0.78985435 0.08084148 0.12930411]\n",
      " [0.33333333 0.33333333 0.33333333]]\n",
      "value of hypernet br policy [-0.14495172  0.14495172]\n",
      "[[0.78843868 0.08206745 0.12949391]\n",
      " [0.33333333 0.33333333 0.33333333]]\n",
      "[[0.33333333 0.33333333 0.33333333]\n",
      " [0.         1.         0.        ]]\n",
      "value of table br policy [-0.65894477  0.65894477]\n",
      "[[0.33333333 0.33333333 0.33333333]\n",
      " [0.54144907 0.32291603 0.13563493]]\n",
      "value of hypernet br policy [-0.14265423  0.14265423]\n",
      "[[0.33333333 0.33333333 0.33333333]\n",
      " [0.53954679 0.32455984 0.13589342]]\n",
      "[[0.         1.         0.        ]\n",
      " [0.33333333 0.33333333 0.33333333]]\n",
      "value of table br policy [ 0.40365337 -0.40365337]\n",
      "[[0.78769684 0.08166575 0.13063742]\n",
      " [0.33333333 0.33333333 0.33333333]]\n",
      "value of hypernet br policy [-0.14373263  0.14373263]\n",
      "[[0.78769684 0.08166575 0.13063742]\n",
      " [0.33333333 0.33333333 0.33333333]]\n",
      "[[0.33333333 0.33333333 0.33333333]\n",
      " [0.         1.         0.        ]]\n",
      "value of table br policy [-0.65705942  0.65705942]\n",
      "[[0.33333333 0.33333333 0.33333333]\n",
      " [0.54113084 0.32320166 0.13566749]]\n",
      "value of hypernet br policy [-0.14307731  0.14307731]\n"
     ]
    },
    {
     "name": "stderr",
     "output_type": "stream",
     "text": [
      " 15%|█▍        | 14751/100000 [02:12<11:59, 118.44it/s]"
     ]
    },
    {
     "name": "stdout",
     "output_type": "stream",
     "text": [
      "[[0.33333333 0.33333333 0.33333333]\n",
      " [0.55110258 0.3081952  0.14070213]]\n",
      "[[0.         1.         0.        ]\n",
      " [0.33333333 0.33333333 0.33333333]]\n",
      "value of table br policy [ 0.41040045 -0.41040045]\n",
      "[[0.78916472 0.08474414 0.12609111]\n",
      " [0.33333333 0.33333333 0.33333333]]\n",
      "value of hypernet br policy [-0.12802905  0.12802905]\n",
      "[[0.78747624 0.08536816 0.12715559]\n",
      " [0.33333333 0.33333333 0.33333333]]\n",
      "[[0.33333333 0.33333333 0.33333333]\n",
      " [0.         1.         0.        ]]\n",
      "value of table br policy [-0.66032065  0.66032065]\n",
      "[[0.33333333 0.33333333 0.33333333]\n",
      " [0.55142659 0.30758819 0.14098522]]\n",
      "value of hypernet br policy [-0.12716267  0.12716267]\n",
      "[[0.33333333 0.33333333 0.33333333]\n",
      " [0.55332774 0.30623463 0.14043763]]\n",
      "[[0.         1.         0.        ]\n",
      " [0.33333333 0.33333333 0.33333333]]\n",
      "value of table br policy [ 0.41289011 -0.41289011]\n",
      "[[0.78748882 0.08612279 0.1263884 ]\n",
      " [0.33333333 0.33333333 0.33333333]]\n",
      "value of hypernet br policy [-0.12623374  0.12623374]\n",
      "[[0.78748882 0.08612279 0.1263884 ]\n",
      " [0.33333333 0.33333333 0.33333333]]\n",
      "[[0.33333333 0.33333333 0.33333333]\n",
      " [0.         1.         0.        ]]\n",
      "value of table br policy [-0.66110042  0.66110042]\n",
      "[[0.33333333 0.33333333 0.33333333]\n",
      " [0.55330652 0.30538806 0.14130545]]\n",
      "value of hypernet br policy [-0.12506456  0.12506456]\n"
     ]
    },
    {
     "name": "stderr",
     "output_type": "stream",
     "text": [
      " 15%|█▌        | 15005/100000 [02:14<12:27, 113.65it/s]"
     ]
    },
    {
     "name": "stdout",
     "output_type": "stream",
     "text": [
      "[[0.33333333 0.33333333 0.33333333]\n",
      " [0.56093293 0.30004066 0.1390264 ]]\n",
      "[[0.         1.         0.        ]\n",
      " [0.33333333 0.33333333 0.33333333]]\n",
      "value of table br policy [ 0.42190653 -0.42190653]\n",
      "[[0.7833885  0.09385111 0.12276038]\n",
      " [0.33333333 0.33333333 0.33333333]]\n",
      "value of hypernet br policy [-0.11856755  0.11856755]\n",
      "[[0.78085363 0.09421639 0.12493004]\n",
      " [0.33333333 0.33333333 0.33333333]]\n",
      "[[0.33333333 0.33333333 0.33333333]\n",
      " [0.         1.         0.        ]]\n",
      "value of table br policy [-0.65592359  0.65592359]\n",
      "[[0.33333333 0.33333333 0.33333333]\n",
      " [0.56649536 0.29227519 0.1412295 ]]\n",
      "value of hypernet br policy [-0.1121359  0.1121359]\n",
      "[[0.33333333 0.33333333 0.33333333]\n",
      " [0.56155878 0.29678494 0.14165628]]\n",
      "[[0.         1.         0.        ]\n",
      " [0.33333333 0.33333333 0.33333333]]\n",
      "value of table br policy [ 0.4199025 -0.4199025]\n",
      "[[0.78178412 0.0934466  0.12476921]\n",
      " [0.33333333 0.33333333 0.33333333]]\n",
      "value of hypernet br policy [-0.11507428  0.11507428]\n",
      "[[0.78178412 0.0934466  0.12476921]\n",
      " [0.33333333 0.33333333 0.33333333]]\n",
      "[[0.33333333 0.33333333 0.33333333]\n",
      " [0.         1.         0.        ]]\n",
      "value of table br policy [-0.65701491  0.65701491]\n",
      "[[0.33333333 0.33333333 0.33333333]\n",
      " [0.56482381 0.29418933 0.14098689]]\n",
      "value of hypernet br policy [-0.11393197  0.11393197]\n"
     ]
    },
    {
     "name": "stderr",
     "output_type": "stream",
     "text": [
      " 15%|█▌        | 15258/100000 [02:16<13:37, 103.62it/s]"
     ]
    },
    {
     "name": "stdout",
     "output_type": "stream",
     "text": [
      "[[0.33333333 0.33333333 0.33333333]\n",
      " [0.56398541 0.29289913 0.14311543]]\n",
      "[[0.         1.         0.        ]\n",
      " [0.33333333 0.33333333 0.33333333]]\n",
      "value of table br policy [ 0.42086998 -0.42086998]\n",
      "[[0.77808189 0.09604238 0.12587573]\n",
      " [0.33333333 0.33333333 0.33333333]]\n",
      "value of hypernet br policy [-0.11024581  0.11024581]\n",
      "[[0.78470987 0.09391098 0.12137913]\n",
      " [0.33333333 0.33333333 0.33333333]]\n",
      "[[0.33333333 0.33333333 0.33333333]\n",
      " [0.         1.         0.        ]]\n",
      "value of table br policy [-0.66333074  0.66333074]\n",
      "[[0.33333333 0.33333333 0.33333333]\n",
      " [0.55538309 0.30588654 0.13873044]]\n",
      "value of hypernet br policy [-0.12232446  0.12232446]\n",
      "[[0.33333333 0.33333333 0.33333333]\n",
      " [0.55875266 0.30280504 0.13844228]]\n",
      "[[0.         1.         0.        ]\n",
      " [0.33333333 0.33333333 0.33333333]]\n",
      "value of table br policy [ 0.42031038 -0.42031038]\n",
      "[[0.78374708 0.09344184 0.12281108]\n",
      " [0.33333333 0.33333333 0.33333333]]\n",
      "value of hypernet br policy [-0.12097746  0.12097746]\n",
      "[[0.78374708 0.09344184 0.12281108]\n",
      " [0.33333333 0.33333333 0.33333333]]\n",
      "[[0.33333333 0.33333333 0.33333333]\n",
      " [0.         1.         0.        ]]\n",
      "value of table br policy [-0.660936  0.660936]\n",
      "[[0.33333333 0.33333333 0.33333333]\n",
      " [0.55237079 0.31010905 0.13752009]]\n",
      "value of hypernet br policy [-0.1262541  0.1262541]\n"
     ]
    },
    {
     "name": "stderr",
     "output_type": "stream",
     "text": [
      " 16%|█▌        | 15513/100000 [02:19<13:00, 108.31it/s]"
     ]
    },
    {
     "name": "stdout",
     "output_type": "stream",
     "text": [
      "[[0.33333333 0.33333333 0.33333333]\n",
      " [0.5505662  0.3150717  0.13436213]]\n",
      "[[0.         1.         0.        ]\n",
      " [0.33333333 0.33333333 0.33333333]]\n",
      "value of table br policy [ 0.41620407 -0.41620407]\n",
      "[[0.78219414 0.09267726 0.12512864]\n",
      " [0.33333333 0.33333333 0.33333333]]\n",
      "value of hypernet br policy [-0.13224442  0.13224442]\n",
      "[[0.77858257 0.09243789 0.12897955]\n",
      " [0.33333333 0.33333333 0.33333333]]\n",
      "[[0.33333333 0.33333333 0.33333333]\n",
      " [0.         1.         0.        ]]\n",
      "value of table br policy [-0.64960302  0.64960302]\n",
      "[[0.33333333 0.33333333 0.33333333]\n",
      " [0.55659693 0.30808571 0.13531731]]\n",
      "value of hypernet br policy [-0.12762513  0.12762513]\n",
      "[[0.33333333 0.33333333 0.33333333]\n",
      " [0.54511565 0.3194795  0.13540487]]\n",
      "[[0.         1.         0.        ]\n",
      " [0.33333333 0.33333333 0.33333333]]\n",
      "value of table br policy [ 0.40971078 -0.40971078]\n",
      "[[0.78086662 0.08895149 0.13018192]\n",
      " [0.33333333 0.33333333 0.33333333]]\n",
      "value of hypernet br policy [-0.1366671  0.1366671]\n",
      "[[0.78086662 0.08895149 0.13018192]\n",
      " [0.33333333 0.33333333 0.33333333]]\n",
      "[[0.33333333 0.33333333 0.33333333]\n",
      " [0.         1.         0.        ]]\n",
      "value of table br policy [-0.6506847  0.6506847]\n",
      "[[0.33333333 0.33333333 0.33333333]\n",
      " [0.54538167 0.3231833  0.13143501]]\n",
      "value of hypernet br policy [-0.14183488  0.14183488]\n"
     ]
    },
    {
     "name": "stderr",
     "output_type": "stream",
     "text": [
      " 16%|█▌        | 15765/100000 [02:21<13:20, 105.24it/s]"
     ]
    },
    {
     "name": "stdout",
     "output_type": "stream",
     "text": [
      "[[0.33333333 0.33333333 0.33333333]\n",
      " [0.55065978 0.30775994 0.14158024]]\n",
      "[[0.         1.         0.        ]\n",
      " [0.33333333 0.33333333 0.33333333]]\n",
      "value of table br policy [ 0.40907954 -0.40907954]\n",
      "[[0.77140945 0.10003293 0.12855765]\n",
      " [0.33333333 0.33333333 0.33333333]]\n",
      "value of hypernet br policy [-0.1184978  0.1184978]\n",
      "[[0.77510989 0.09909091 0.12579919]\n",
      " [0.33333333 0.33333333 0.33333333]]\n",
      "[[0.33333333 0.33333333 0.33333333]\n",
      " [0.         1.         0.        ]]\n",
      "value of table br policy [-0.64931069  0.64931069]\n",
      "[[0.33333333 0.33333333 0.33333333]\n",
      " [0.54698437 0.31290987 0.14010577]]\n",
      "value of hypernet br policy [-0.12307058  0.12307058]\n",
      "[[0.33333333 0.33333333 0.33333333]\n",
      " [0.54963779 0.31112373 0.13923851]]\n",
      "[[0.         1.         0.        ]\n",
      " [0.33333333 0.33333333 0.33333333]]\n",
      "value of table br policy [ 0.41039929 -0.41039929]\n",
      "[[0.77398336 0.09984388 0.12617271]\n",
      " [0.33333333 0.33333333 0.33333333]]\n",
      "value of hypernet br policy [-0.12215441  0.12215441]\n",
      "[[0.77398336 0.09984388 0.12617271]\n",
      " [0.33333333 0.33333333 0.33333333]]\n",
      "[[0.33333333 0.33333333 0.33333333]\n",
      " [0.         1.         0.        ]]\n",
      "value of table br policy [-0.64781065  0.64781065]\n",
      "[[0.33333333 0.33333333 0.33333333]\n",
      " [0.54677302 0.31332797 0.139899  ]]\n",
      "value of hypernet br policy [-0.12306165  0.12306165]\n"
     ]
    },
    {
     "name": "stderr",
     "output_type": "stream",
     "text": [
      " 16%|█▌        | 16013/100000 [02:23<13:06, 106.76it/s]"
     ]
    },
    {
     "name": "stdout",
     "output_type": "stream",
     "text": [
      "[[0.33333333 0.33333333 0.33333333]\n",
      " [0.55460083 0.30126837 0.1441308 ]]\n",
      "[[0.         1.         0.        ]\n",
      " [0.33333333 0.33333333 0.33333333]]\n",
      "value of table br policy [ 0.41047004 -0.41047004]\n",
      "[[0.76827919 0.10641444 0.12530632]\n",
      " [0.33333333 0.33333333 0.33333333]]\n",
      "value of hypernet br policy [-0.10878975  0.10878975]\n",
      "[[0.76133901 0.10846612 0.13019492]\n",
      " [0.33333333 0.33333333 0.33333333]]\n",
      "[[0.33333333 0.33333333 0.33333333]\n",
      " [0.         1.         0.        ]]\n",
      "value of table br policy [-0.63114409  0.63114409]\n",
      "[[0.33333333 0.33333333 0.33333333]\n",
      " [0.56093454 0.29194584 0.14711963]]\n",
      "value of hypernet br policy [-0.10039791  0.10039791]\n",
      "[[0.33333333 0.33333333 0.33333333]\n",
      " [0.55993038 0.29314789 0.14692174]]\n",
      "[[0.         1.         0.        ]\n",
      " [0.33333333 0.33333333 0.33333333]]\n",
      "value of table br policy [ 0.41300865 -0.41300865]\n",
      "[[0.76268578 0.10911072 0.12820348]\n",
      " [0.33333333 0.33333333 0.33333333]]\n",
      "value of hypernet br policy [-0.10066338  0.10066338]\n",
      "[[0.76268578 0.10911072 0.12820348]\n",
      " [0.33333333 0.33333333 0.33333333]]\n",
      "[[0.33333333 0.33333333 0.33333333]\n",
      " [0.         1.         0.        ]]\n",
      "value of table br policy [-0.63448229  0.63448229]\n",
      "[[0.33333333 0.33333333 0.33333333]\n",
      " [0.56369913 0.28865892 0.147642  ]]\n",
      "value of hypernet br policy [-0.09741642  0.09741642]\n"
     ]
    },
    {
     "name": "stderr",
     "output_type": "stream",
     "text": [
      " 16%|█▋        | 16263/100000 [02:25<13:27, 103.66it/s]"
     ]
    },
    {
     "name": "stdout",
     "output_type": "stream",
     "text": [
      "[[0.33333333 0.33333333 0.33333333]\n",
      " [0.59622252 0.22670378 0.1770736 ]]\n",
      "[[0.         1.         0.        ]\n",
      " [0.33333333 0.33333333 0.33333333]]\n",
      "value of table br policy [ 0.41914892 -0.41914892]\n",
      "[[0.75290751 0.13166758 0.11542484]\n",
      " [0.33333333 0.33333333 0.33333333]]\n",
      "value of hypernet br policy [-0.02483025  0.02483025]\n",
      "[[0.74670935 0.13323995 0.12005073]\n",
      " [0.33333333 0.33333333 0.33333333]]\n",
      "[[0.33333333 0.33333333 0.33333333]\n",
      " [0.         1.         0.        ]]\n",
      "value of table br policy [-0.62665862  0.62665862]\n",
      "[[0.33333333 0.33333333 0.33333333]\n",
      " [0.60204577 0.21816133 0.17979293]]\n",
      "value of hypernet br policy [-0.0184747  0.0184747]\n",
      "[[0.33333333 0.33333333 0.33333333]\n",
      " [0.60303205 0.21639593 0.18057205]]\n",
      "[[0.         1.         0.        ]\n",
      " [0.33333333 0.33333333 0.33333333]]\n",
      "value of table br policy [ 0.42246 -0.42246]\n",
      "[[0.74805456 0.13503657 0.11690892]\n",
      " [0.33333333 0.33333333 0.33333333]]\n",
      "value of hypernet br policy [-0.01495188  0.01495188]\n",
      "[[0.74805456 0.13503657 0.11690892]\n",
      " [0.33333333 0.33333333 0.33333333]]\n",
      "[[0.33333333 0.33333333 0.33333333]\n",
      " [0.         1.         0.        ]]\n",
      "value of table br policy [-0.63114565  0.63114565]\n",
      "[[0.33333333 0.33333333 0.33333333]\n",
      " [0.60686523 0.21098202 0.1821527 ]]\n",
      "value of hypernet br policy [-0.01049646  0.01049646]\n"
     ]
    },
    {
     "name": "stderr",
     "output_type": "stream",
     "text": [
      " 17%|█▋        | 16506/100000 [02:27<12:06, 114.99it/s]"
     ]
    },
    {
     "name": "stdout",
     "output_type": "stream",
     "text": [
      "[[0.33333333 0.33333333 0.33333333]\n",
      " [0.59937131 0.22743739 0.17319128]]\n",
      "[[0.         1.         0.        ]\n",
      " [0.33333333 0.33333333 0.33333333]]\n",
      "value of table br policy [ 0.42618003 -0.42618003]\n",
      "[[0.74945486 0.13543406 0.11511105]\n",
      " [0.33333333 0.33333333 0.33333333]]\n",
      "value of hypernet br policy [-0.02574942  0.02574942]\n",
      "[[0.75286317 0.13482571 0.11231106]\n",
      " [0.33333333 0.33333333 0.33333333]]\n",
      "[[0.33333333 0.33333333 0.33333333]\n",
      " [0.         1.         0.        ]]\n",
      "value of table br policy [-0.64055211  0.64055211]\n",
      "[[0.33333333 0.33333333 0.33333333]\n",
      " [0.59556854 0.23259078 0.17184067]]\n",
      "value of hypernet br policy [-0.02937353  0.02937353]\n",
      "[[0.33333333 0.33333333 0.33333333]\n",
      " [0.59714055 0.23153536 0.17132404]]\n",
      "[[0.         1.         0.        ]\n",
      " [0.33333333 0.33333333 0.33333333]]\n",
      "value of table br policy [ 0.42581651 -0.42581651]\n",
      "[[0.75144786 0.13507529 0.11347686]\n",
      " [0.33333333 0.33333333 0.33333333]]\n",
      "value of hypernet br policy [-0.02921611  0.02921611]\n",
      "[[0.75144786 0.13507529 0.11347686]\n",
      " [0.33333333 0.33333333 0.33333333]]\n",
      "[[0.33333333 0.33333333 0.33333333]\n",
      " [0.         1.         0.        ]]\n",
      "value of table br policy [-0.63797099  0.63797099]\n",
      "[[0.33333333 0.33333333 0.33333333]\n",
      " [0.59489727 0.23341301 0.1716897 ]]\n",
      "value of hypernet br policy [-0.03023706  0.03023706]\n"
     ]
    },
    {
     "name": "stderr",
     "output_type": "stream",
     "text": [
      " 17%|█▋        | 16763/100000 [02:30<13:12, 105.07it/s]"
     ]
    },
    {
     "name": "stdout",
     "output_type": "stream",
     "text": [
      "[[0.33333333 0.33333333 0.33333333]\n",
      " [0.57204652 0.27030945 0.15764397]]\n",
      "[[0.         1.         0.        ]\n",
      " [0.33333333 0.33333333 0.33333333]]\n",
      "value of table br policy [ 0.41440254 -0.41440254]\n",
      "[[0.76081759 0.11898654 0.12019582]\n",
      " [0.33333333 0.33333333 0.33333333]]\n",
      "value of hypernet br policy [-0.07267708  0.07267708]\n",
      "[[0.76456779 0.11696599 0.11846613]\n",
      " [0.33333333 0.33333333 0.33333333]]\n",
      "[[0.33333333 0.33333333 0.33333333]\n",
      " [0.         1.         0.        ]]\n",
      "value of table br policy [-0.64610166  0.64610166]\n",
      "[[0.33333333 0.33333333 0.33333333]\n",
      " [0.56934112 0.27563891 0.15501992]]\n",
      "value of hypernet br policy [-0.07855366  0.07855366]\n",
      "[[0.33333333 0.33333333 0.33333333]\n",
      " [0.57213706 0.27246466 0.15539828]]\n",
      "[[0.         1.         0.        ]\n",
      " [0.33333333 0.33333333 0.33333333]]\n",
      "value of table br policy [ 0.41673878 -0.41673878]\n",
      "[[0.76455307 0.11723816 0.1182088 ]\n",
      " [0.33333333 0.33333333 0.33333333]]\n",
      "value of hypernet br policy [-0.07606969  0.07606969]\n",
      "[[0.76455307 0.11723816 0.1182088 ]\n",
      " [0.33333333 0.33333333 0.33333333]]\n",
      "[[0.33333333 0.33333333 0.33333333]\n",
      " [0.         1.         0.        ]]\n",
      "value of table br policy [-0.64634427  0.64634427]\n",
      "[[0.33333333 0.33333333 0.33333333]\n",
      " [0.56974673 0.27476707 0.15548615]]\n",
      "value of hypernet br policy [-0.07749863  0.07749863]\n"
     ]
    },
    {
     "name": "stderr",
     "output_type": "stream",
     "text": [
      " 17%|█▋        | 17019/100000 [02:32<11:29, 120.27it/s]"
     ]
    },
    {
     "name": "stdout",
     "output_type": "stream",
     "text": [
      "[[0.33333333 0.33333333 0.33333333]\n",
      " [0.58672899 0.2427673  0.17050371]]\n",
      "[[0.         1.         0.        ]\n",
      " [0.33333333 0.33333333 0.33333333]]\n",
      "value of table br policy [ 0.41622528 -0.41622528]\n",
      "[[0.74254566 0.13929109 0.11816328]\n",
      " [0.33333333 0.33333333 0.33333333]]\n",
      "value of hypernet br policy [-0.03632619  0.03632619]\n",
      "[[0.73887306 0.14037912 0.12074771]\n",
      " [0.33333333 0.33333333 0.33333333]]\n",
      "[[0.33333333 0.33333333 0.33333333]\n",
      " [0.         1.         0.        ]]\n",
      "value of table br policy [-0.61812536  0.61812536]\n",
      "[[0.33333333 0.33333333 0.33333333]\n",
      " [0.58939666 0.23889008 0.17171329]]\n",
      "value of hypernet br policy [-0.03332396  0.03332396]\n",
      "[[0.33333333 0.33333333 0.33333333]\n",
      " [0.59713984 0.23239204 0.17046814]]\n",
      "[[0.         1.         0.        ]\n",
      " [0.33333333 0.33333333 0.33333333]]\n",
      "value of table br policy [ 0.4266717 -0.4266717]\n",
      "[[0.73806238 0.14537181 0.11656579]\n",
      " [0.33333333 0.33333333 0.33333333]]\n",
      "value of hypernet br policy [-0.02619478  0.02619478]\n",
      "[[0.73806238 0.14537181 0.11656579]\n",
      " [0.33333333 0.33333333 0.33333333]]\n",
      "[[0.33333333 0.33333333 0.33333333]\n",
      " [0.         1.         0.        ]]\n",
      "value of table br policy [-0.6214966  0.6214966]\n",
      "[[0.33333333 0.33333333 0.33333333]\n",
      " [0.59768659 0.2276233  0.17469007]]\n",
      "value of hypernet br policy [-0.02071298  0.02071298]\n"
     ]
    },
    {
     "name": "stderr",
     "output_type": "stream",
     "text": [
      " 17%|█▋        | 17255/100000 [02:34<12:06, 113.85it/s]"
     ]
    },
    {
     "name": "stdout",
     "output_type": "stream",
     "text": [
      "[[0.33333333 0.33333333 0.33333333]\n",
      " [0.60727346 0.21152356 0.18120302]]\n",
      "[[0.         1.         0.        ]\n",
      " [0.33333333 0.33333333 0.33333333]]\n",
      "value of table br policy [ 0.42607044 -0.42607044]\n",
      "[[0.72525477 0.15970457 0.1150406 ]\n",
      " [0.33333333 0.33333333 0.33333333]]\n",
      "value of hypernet br policy [ 0.00052797 -0.00052797]\n",
      "[[0.72034818 0.16236216 0.11728963]\n",
      " [0.33333333 0.33333333 0.33333333]]\n",
      "[[0.33333333 0.33333333 0.33333333]\n",
      " [0.         1.         0.        ]]\n",
      "value of table br policy [-0.60305855  0.60305855]\n",
      "[[0.33333333 0.33333333 0.33333333]\n",
      " [0.60956055 0.20641743 0.18402205]]\n",
      "value of hypernet br policy [ 0.00567437 -0.00567437]\n",
      "[[0.33333333 0.33333333 0.33333333]\n",
      " [0.61510485 0.20219527 0.18269992]]\n",
      "[[0.         1.         0.        ]\n",
      " [0.33333333 0.33333333 0.33333333]]\n",
      "value of table br policy [ 0.43240494 -0.43240494]\n",
      "[[0.71870637 0.16728199 0.11401166]\n",
      " [0.33333333 0.33333333 0.33333333]]\n",
      "value of hypernet br policy [ 0.01124561 -0.01124561]\n",
      "[[0.71870637 0.16728199 0.11401166]\n",
      " [0.33333333 0.33333333 0.33333333]]\n",
      "[[0.33333333 0.33333333 0.33333333]\n",
      " [0.         1.         0.        ]]\n",
      "value of table br policy [-0.60469471  0.60469471]\n",
      "[[0.33333333 0.33333333 0.33333333]\n",
      " [0.61639571 0.19704929 0.18655501]]\n",
      "value of hypernet br policy [ 0.01655192 -0.01655192]\n"
     ]
    },
    {
     "name": "stderr",
     "output_type": "stream",
     "text": [
      " 18%|█▊        | 17503/100000 [02:36<12:35, 109.22it/s]"
     ]
    },
    {
     "name": "stdout",
     "output_type": "stream",
     "text": [
      "[[0.33333333 0.33333333 0.33333333]\n",
      " [0.60880309 0.20744602 0.18375091]]\n",
      "[[0.         1.         0.        ]\n",
      " [0.33333333 0.33333333 0.33333333]]\n",
      "value of table br policy [ 0.42505218 -0.42505218]\n",
      "[[0.71654564 0.16911013 0.11434421]\n",
      " [0.33333333 0.33333333 0.33333333]]\n",
      "value of hypernet br policy [ 0.00900915 -0.00900915]\n",
      "[[0.71330726 0.17092834 0.11576439]\n",
      " [0.33333333 0.33333333 0.33333333]]\n",
      "[[0.33333333 0.33333333 0.33333333]\n",
      " [0.         1.         0.        ]]\n",
      "value of table br policy [-0.59754287  0.59754287]\n",
      "[[0.33333333 0.33333333 0.33333333]\n",
      " [0.61080164 0.20309664 0.18610169]]\n",
      "value of hypernet br policy [ 0.01327291 -0.01327291]\n",
      "[[0.33333333 0.33333333 0.33333333]\n",
      " [0.61211127 0.20218934 0.18569939]]\n",
      "[[0.         1.         0.        ]\n",
      " [0.33333333 0.33333333 0.33333333]]\n",
      "value of table br policy [ 0.42641188 -0.42641188]\n",
      "[[0.71270561 0.1729774  0.11431699]\n",
      " [0.33333333 0.33333333 0.33333333]]\n",
      "value of hypernet br policy [ 0.0151461 -0.0151461]\n",
      "[[0.71270561 0.1729774  0.11431699]\n",
      " [0.33333333 0.33333333 0.33333333]]\n",
      "[[0.33333333 0.33333333 0.33333333]\n",
      " [0.         1.         0.        ]]\n",
      "value of table br policy [-0.59838863  0.59838863]\n",
      "[[0.33333333 0.33333333 0.33333333]\n",
      " [0.61377853 0.19900367 0.18721789]]\n",
      "value of hypernet br policy [ 0.01796975 -0.01796975]\n"
     ]
    },
    {
     "name": "stderr",
     "output_type": "stream",
     "text": [
      " 18%|█▊        | 17756/100000 [02:39<11:57, 114.66it/s]"
     ]
    },
    {
     "name": "stdout",
     "output_type": "stream",
     "text": [
      "[[0.33333333 0.33333333 0.33333333]\n",
      " [0.59860301 0.21761973 0.18377724]]\n",
      "[[0.         1.         0.        ]\n",
      " [0.33333333 0.33333333 0.33333333]]\n",
      "value of table br policy [ 0.41482577 -0.41482577]\n",
      "[[0.72080249 0.16522764 0.11396986]\n",
      " [0.33333333 0.33333333 0.33333333]]\n",
      "value of hypernet br policy [ 0.00072632 -0.00072632]\n",
      "[[0.71436125 0.16881955 0.11681911]\n",
      " [0.33333333 0.33333333 0.33333333]]\n",
      "[[0.33333333 0.33333333 0.33333333]\n",
      " [0.         1.         0.        ]]\n",
      "value of table br policy [-0.59754214  0.59754214]\n",
      "[[0.33333333 0.33333333 0.33333333]\n",
      " [0.60137928 0.21121021 0.18741059]]\n",
      "value of hypernet br policy [ 0.00730528 -0.00730528]\n",
      "[[0.33333333 0.33333333 0.33333333]\n",
      " [0.5974443  0.21499667 0.18755907]]\n",
      "[[0.         1.         0.        ]\n",
      " [0.33333333 0.33333333 0.33333333]]\n",
      "value of table br policy [ 0.40988523 -0.40988523]\n",
      "[[0.71551806 0.16733609 0.11714586]\n",
      " [0.33333333 0.33333333 0.33333333]]\n",
      "value of hypernet br policy [ 0.00415434 -0.00415434]\n",
      "[[0.71551806 0.16733609 0.11714586]\n",
      " [0.33333333 0.33333333 0.33333333]]\n",
      "[[0.33333333 0.33333333 0.33333333]\n",
      " [0.         1.         0.        ]]\n",
      "value of table br policy [-0.5983722  0.5983722]\n",
      "[[0.33333333 0.33333333 0.33333333]\n",
      " [0.60089844 0.21283279 0.18626884]]\n",
      "value of hypernet br policy [ 0.00491522 -0.00491522]\n"
     ]
    },
    {
     "name": "stderr",
     "output_type": "stream",
     "text": [
      " 18%|█▊        | 18005/100000 [02:41<12:20, 110.73it/s]"
     ]
    },
    {
     "name": "stdout",
     "output_type": "stream",
     "text": [
      "[[0.33333333 0.33333333 0.33333333]\n",
      " [0.61339152 0.19389872 0.19270979]]\n",
      "[[0.         1.         0.        ]\n",
      " [0.33333333 0.33333333 0.33333333]]\n",
      "value of table br policy [ 0.42068173 -0.42068173]\n",
      "[[0.69983315 0.18944551 0.1107214 ]\n",
      " [0.33333333 0.33333333 0.33333333]]\n",
      "value of hypernet br policy [ 0.03241738 -0.03241738]\n",
      "[[0.69941956 0.19010253 0.11047795]\n",
      " [0.33333333 0.33333333 0.33333333]]\n",
      "[[0.33333333 0.33333333 0.33333333]\n",
      " [0.         1.         0.        ]]\n",
      "value of table br policy [-0.58894161  0.58894161]\n",
      "[[0.33333333 0.33333333 0.33333333]\n",
      " [0.6128549  0.19409014 0.193055  ]]\n",
      "value of hypernet br policy [ 0.03281676 -0.03281676]\n",
      "[[0.33333333 0.33333333 0.33333333]\n",
      " [0.61801469 0.19111909 0.19086625]]\n",
      "[[0.         1.         0.        ]\n",
      " [0.33333333 0.33333333 0.33333333]]\n",
      "value of table br policy [ 0.42714845 -0.42714845]\n",
      "[[0.69686985 0.19439135 0.10873879]\n",
      " [0.33333333 0.33333333 0.33333333]]\n",
      "value of hypernet br policy [ 0.03643766 -0.03643766]\n",
      "[[0.69686985 0.19439135 0.10873879]\n",
      " [0.33333333 0.33333333 0.33333333]]\n",
      "[[0.33333333 0.33333333 0.33333333]\n",
      " [0.         1.         0.        ]]\n",
      "value of table br policy [-0.58813106  0.58813106]\n",
      "[[0.33333333 0.33333333 0.33333333]\n",
      " [0.61598861 0.18986572 0.19414568]]\n",
      "value of hypernet br policy [ 0.03864911 -0.03864911]\n"
     ]
    },
    {
     "name": "stderr",
     "output_type": "stream",
     "text": [
      " 18%|█▊        | 18255/100000 [02:43<12:35, 108.24it/s]"
     ]
    },
    {
     "name": "stdout",
     "output_type": "stream",
     "text": [
      "[[0.33333333 0.33333333 0.33333333]\n",
      " [0.61846721 0.19112037 0.1904124 ]]\n",
      "[[0.         1.         0.        ]\n",
      " [0.33333333 0.33333333 0.33333333]]\n",
      "value of table br policy [ 0.42805481 -0.42805481]\n",
      "[[0.70168531 0.1877093  0.11060541]\n",
      " [0.33333333 0.33333333 0.33333333]]\n",
      "value of hypernet br policy [ 0.03258622 -0.03258622]\n",
      "[[0.69812691 0.19027007 0.11160304]\n",
      " [0.33333333 0.33333333 0.33333333]]\n",
      "[[0.33333333 0.33333333 0.33333333]\n",
      " [0.         1.         0.        ]]\n",
      "value of table br policy [-0.58652388  0.58652388]\n",
      "[[0.33333333 0.33333333 0.33333333]\n",
      " [0.61959523 0.18722747 0.19317734]]\n",
      "value of hypernet br policy [ 0.03703477 -0.03703477]\n",
      "[[0.33333333 0.33333333 0.33333333]\n",
      " [0.62054867 0.18625511 0.19319622]]\n",
      "[[0.         1.         0.        ]\n",
      " [0.33333333 0.33333333 0.33333333]]\n",
      "value of table br policy [ 0.42735244 -0.42735244]\n",
      "[[0.69727862 0.19212517 0.1105963 ]\n",
      " [0.33333333 0.33333333 0.33333333]]\n",
      "value of hypernet br policy [ 0.03891379 -0.03891379]\n",
      "[[0.69727862 0.19212517 0.1105963 ]\n",
      " [0.33333333 0.33333333 0.33333333]]\n",
      "[[0.33333333 0.33333333 0.33333333]\n",
      " [0.         1.         0.        ]]\n",
      "value of table br policy [-0.58668232  0.58668232]\n",
      "[[0.33333333 0.33333333 0.33333333]\n",
      " [0.62258899 0.18296801 0.194443  ]]\n",
      "value of hypernet br policy [ 0.04163844 -0.04163844]\n"
     ]
    },
    {
     "name": "stderr",
     "output_type": "stream",
     "text": [
      " 19%|█▊        | 18506/100000 [02:45<11:56, 113.81it/s]"
     ]
    },
    {
     "name": "stdout",
     "output_type": "stream",
     "text": [
      "[[0.33333333 0.33333333 0.33333333]\n",
      " [0.61336297 0.19875163 0.18788546]]\n",
      "[[0.         1.         0.        ]\n",
      " [0.33333333 0.33333333 0.33333333]]\n",
      "value of table br policy [ 0.4254775 -0.4254775]\n",
      "[[0.69461924 0.1922631  0.11311772]\n",
      " [0.33333333 0.33333333 0.33333333]]\n",
      "value of hypernet br policy [ 0.02735588 -0.02735588]\n",
      "[[0.69627219 0.19216795 0.11155984]\n",
      " [0.33333333 0.33333333 0.33333333]]\n",
      "[[0.33333333 0.33333333 0.33333333]\n",
      " [0.         1.         0.        ]]\n",
      "value of table br policy [-0.58471236  0.58471236]\n",
      "[[0.33333333 0.33333333 0.33333333]\n",
      " [0.61154008 0.20094335 0.18751654]]\n",
      "value of hypernet br policy [ 0.02632892 -0.02632892]\n",
      "[[0.33333333 0.33333333 0.33333333]\n",
      " [0.60960793 0.20258842 0.1878037 ]]\n",
      "[[0.         1.         0.        ]\n",
      " [0.33333333 0.33333333 0.33333333]]\n",
      "value of table br policy [ 0.42180423 -0.42180423]\n",
      "[[0.69630826 0.19033511 0.11335658]\n",
      " [0.33333333 0.33333333 0.33333333]]\n",
      "value of hypernet br policy [ 0.02385109 -0.02385109]\n",
      "[[0.69630826 0.19033511 0.11335658]\n",
      " [0.33333333 0.33333333 0.33333333]]\n",
      "[[0.33333333 0.33333333 0.33333333]\n",
      " [0.         1.         0.        ]]\n",
      "value of table br policy [-0.58295167  0.58295167]\n",
      "[[0.33333333 0.33333333 0.33333333]\n",
      " [0.60934252 0.20391771 0.18673979]]\n",
      "value of hypernet br policy [ 0.02251744 -0.02251744]\n"
     ]
    },
    {
     "name": "stderr",
     "output_type": "stream",
     "text": [
      " 19%|█▉        | 18754/100000 [02:47<11:50, 114.43it/s]"
     ]
    },
    {
     "name": "stdout",
     "output_type": "stream",
     "text": [
      "[[0.33333333 0.33333333 0.33333333]\n",
      " [0.60580629 0.19902655 0.19516714]]\n",
      "[[0.         1.         0.        ]\n",
      " [0.33333333 0.33333333 0.33333333]]\n",
      "value of table br policy [ 0.41063915 -0.41063915]\n",
      "[[0.69992816 0.18840839 0.11166345]\n",
      " [0.33333333 0.33333333 0.33333333]]\n",
      "value of hypernet br policy [ 0.02924412 -0.02924412]\n",
      "[[0.69617927 0.19124368 0.11257703]\n",
      " [0.33333333 0.33333333 0.33333333]]\n",
      "[[0.33333333 0.33333333 0.33333333]\n",
      " [0.         1.         0.        ]]\n",
      "value of table br policy [-0.58360224  0.58360224]\n",
      "[[0.33333333 0.33333333 0.33333333]\n",
      " [0.6067028  0.19518691 0.19811024]]\n",
      "value of hypernet br policy [ 0.03384867 -0.03384867]\n",
      "[[0.33333333 0.33333333 0.33333333]\n",
      " [0.6007328  0.20051739 0.19874987]]\n",
      "[[0.         1.         0.        ]\n",
      " [0.33333333 0.33333333 0.33333333]]\n",
      "value of table br policy [ 0.40198293 -0.40198293]\n",
      "[[0.69771153 0.18762085 0.11466754]\n",
      " [0.33333333 0.33333333 0.33333333]]\n",
      "value of hypernet br policy [ 0.02829544 -0.02829544]\n",
      "[[0.69771153 0.18762085 0.11466754]\n",
      " [0.33333333 0.33333333 0.33333333]]\n",
      "[[0.33333333 0.33333333 0.33333333]\n",
      " [0.         1.         0.        ]]\n",
      "value of table br policy [-0.58304399  0.58304399]\n",
      "[[0.33333333 0.33333333 0.33333333]\n",
      " [0.60393798 0.20005289 0.19600916]]\n",
      "value of hypernet br policy [ 0.02740209 -0.02740209]\n"
     ]
    },
    {
     "name": "stderr",
     "output_type": "stream",
     "text": [
      " 19%|█▉        | 19000/100000 [02:49<10:56, 123.35it/s]"
     ]
    },
    {
     "name": "stdout",
     "output_type": "stream",
     "text": [
      "[[0.33333333 0.33333333 0.33333333]\n",
      " [0.58942449 0.23292015 0.17765534]]\n",
      "[[0.         1.         0.        ]\n",
      " [0.33333333 0.33333333 0.33333333]]\n",
      "value of table br policy [ 0.41176915 -0.41176915]\n",
      "[[0.70714021 0.17519635 0.11766342]\n",
      " [0.33333333 0.33333333 0.33333333]]\n",
      "value of hypernet br policy [-0.00888704  0.00888704]\n"
     ]
    },
    {
     "name": "stderr",
     "output_type": "stream",
     "text": [
      " 19%|█▉        | 19013/100000 [02:50<20:52, 64.67it/s] "
     ]
    },
    {
     "name": "stdout",
     "output_type": "stream",
     "text": [
      "[[0.70050406 0.1781188  0.12137716]\n",
      " [0.33333333 0.33333333 0.33333333]]\n",
      "[[0.33333333 0.33333333 0.33333333]\n",
      " [0.         1.         0.        ]]\n",
      "value of table br policy [-0.5791269  0.5791269]\n",
      "[[0.33333333 0.33333333 0.33333333]\n",
      " [0.59360898 0.22540228 0.18098873]]\n",
      "value of hypernet br policy [-0.00230834  0.00230834]\n",
      "[[0.33333333 0.33333333 0.33333333]\n",
      " [0.591259   0.22691701 0.18182392]]\n",
      "[[0.         1.         0.        ]\n",
      " [0.33333333 0.33333333 0.33333333]]\n",
      "value of table br policy [ 0.40943508 -0.40943508]\n",
      "[[0.70204633 0.17759727 0.12035633]\n",
      " [0.33333333 0.33333333 0.33333333]]\n",
      "value of hypernet br policy [-0.00279375  0.00279375]\n",
      "[[0.70204633 0.17759727 0.12035633]\n",
      " [0.33333333 0.33333333 0.33333333]]\n",
      "[[0.33333333 0.33333333 0.33333333]\n",
      " [0.         1.         0.        ]]\n",
      "value of table br policy [-0.58169001  0.58169001]\n",
      "[[0.33333333 0.33333333 0.33333333]\n",
      " [0.59532475 0.22357416 0.18110107]]\n",
      "value of hypernet br policy [-0.00099562  0.00099562]\n"
     ]
    },
    {
     "name": "stderr",
     "output_type": "stream",
     "text": [
      " 19%|█▉        | 19255/100000 [02:52<12:45, 105.44it/s]"
     ]
    },
    {
     "name": "stdout",
     "output_type": "stream",
     "text": [
      "[[0.33333333 0.33333333 0.33333333]\n",
      " [0.59796637 0.21407466 0.18795888]]\n",
      "[[0.         1.         0.        ]\n",
      " [0.33333333 0.33333333 0.33333333]]\n",
      "value of table br policy [ 0.41000749 -0.41000749]\n",
      "[[0.70097804 0.18290193 0.11612003]\n",
      " [0.33333333 0.33333333 0.33333333]]\n",
      "value of hypernet br policy [ 0.01210706 -0.01210706]\n",
      "[[0.6970309  0.1845396  0.11842952]\n",
      " [0.33333333 0.33333333 0.33333333]]\n",
      "[[0.33333333 0.33333333 0.33333333]\n",
      " [0.         1.         0.        ]]\n",
      "value of table br policy [-0.57860138  0.57860138]\n",
      "[[0.33333333 0.33333333 0.33333333]\n",
      " [0.60014606 0.2102506  0.18960337]]\n",
      "value of hypernet br policy [ 0.0151945 -0.0151945]\n",
      "[[0.33333333 0.33333333 0.33333333]\n",
      " [0.59371579 0.2140564  0.19222778]]\n",
      "[[0.         1.         0.        ]\n",
      " [0.33333333 0.33333333 0.33333333]]\n",
      "value of table br policy [ 0.40148801 -0.40148801]\n",
      "[[0.70010781 0.18001488 0.11987726]\n",
      " [0.33333333 0.33333333 0.33333333]]\n",
      "value of hypernet br policy [ 0.0114789 -0.0114789]\n",
      "[[0.70010781 0.18001488 0.11987726]\n",
      " [0.33333333 0.33333333 0.33333333]]\n",
      "[[0.33333333 0.33333333 0.33333333]\n",
      " [0.         1.         0.        ]]\n",
      "value of table br policy [-0.58023055  0.58023055]\n",
      "[[0.33333333 0.33333333 0.33333333]\n",
      " [0.59806591 0.21343796 0.18849617]]\n",
      "value of hypernet br policy [ 0.01015856 -0.01015856]\n"
     ]
    },
    {
     "name": "stderr",
     "output_type": "stream",
     "text": [
      " 20%|█▉        | 19516/100000 [02:54<11:42, 114.55it/s]"
     ]
    },
    {
     "name": "stdout",
     "output_type": "stream",
     "text": [
      "[[0.33333333 0.33333333 0.33333333]\n",
      " [0.61176616 0.19748133 0.19075248]]\n",
      "[[0.         1.         0.        ]\n",
      " [0.33333333 0.33333333 0.33333333]]\n",
      "value of table br policy [ 0.42101368 -0.42101368]\n",
      "[[0.68208504 0.20399339 0.11392155]\n",
      " [0.33333333 0.33333333 0.33333333]]\n",
      "value of hypernet br policy [ 0.03409839 -0.03409839]\n",
      "[[0.68715835 0.20211504 0.11072652]\n",
      " [0.33333333 0.33333333 0.33333333]]\n",
      "[[0.33333333 0.33333333 0.33333333]\n",
      " [0.         1.         0.        ]]\n",
      "value of table br policy [-0.57643183  0.57643183]\n",
      "[[0.33333333 0.33333333 0.33333333]\n",
      " [0.60787302 0.20392515 0.18820183]]\n",
      "value of hypernet br policy [ 0.02928971 -0.02928971]\n",
      "[[0.33333333 0.33333333 0.33333333]\n",
      " [0.61268049 0.20086195 0.18645754]]\n",
      "[[0.         1.         0.        ]\n",
      " [0.33333333 0.33333333 0.33333333]]\n",
      "value of table br policy [ 0.42622295 -0.42622295]\n",
      "[[0.68432194 0.2048327  0.11084535]\n",
      " [0.33333333 0.33333333 0.33333333]]\n",
      "value of hypernet br policy [ 0.03179898 -0.03179898]\n",
      "[[0.68432194 0.2048327  0.11084535]\n",
      " [0.33333333 0.33333333 0.33333333]]\n",
      "[[0.33333333 0.33333333 0.33333333]\n",
      " [0.         1.         0.        ]]\n",
      "value of table br policy [-0.57347659  0.57347659]\n",
      "[[0.33333333 0.33333333 0.33333333]\n",
      " [0.60825336 0.20284729 0.18889937]]\n",
      "value of hypernet br policy [ 0.03141517 -0.03141517]\n"
     ]
    },
    {
     "name": "stderr",
     "output_type": "stream",
     "text": [
      " 20%|█▉        | 19767/100000 [02:56<11:35, 115.38it/s]"
     ]
    },
    {
     "name": "stdout",
     "output_type": "stream",
     "text": [
      "[[0.33333333 0.33333333 0.33333333]\n",
      " [0.61026716 0.18761644 0.20211643]]\n",
      "[[0.         1.         0.        ]\n",
      " [0.33333333 0.33333333 0.33333333]]\n",
      "value of table br policy [ 0.40815073 -0.40815073]\n",
      "[[0.67471904 0.21467647 0.1106045 ]\n",
      " [0.33333333 0.33333333 0.33333333]]\n",
      "value of hypernet br policy [ 0.05065671 -0.05065671]\n",
      "[[0.67131919 0.21740881 0.11127196]\n",
      " [0.33333333 0.33333333 0.33333333]]\n",
      "[[0.33333333 0.33333333 0.33333333]\n",
      " [0.         1.         0.        ]]\n",
      "value of table br policy [-0.56004723  0.56004723]\n",
      "[[0.33333333 0.33333333 0.33333333]\n",
      " [0.61037123 0.1852238  0.20440494]]\n",
      "value of hypernet br policy [ 0.05383032 -0.05383032]\n",
      "[[0.33333333 0.33333333 0.33333333]\n",
      " [0.60496289 0.18902238 0.20601478]]\n",
      "[[0.         1.         0.        ]\n",
      " [0.33333333 0.33333333 0.33333333]]\n",
      "value of table br policy [ 0.3989481 -0.3989481]\n",
      "[[0.67341399 0.21312337 0.11346266]\n",
      " [0.33333333 0.33333333 0.33333333]]\n",
      "value of hypernet br policy [ 0.04927437 -0.04927437]\n",
      "[[0.67341399 0.21312337 0.11346266]\n",
      " [0.33333333 0.33333333 0.33333333]]\n",
      "[[0.33333333 0.33333333 0.33333333]\n",
      " [0.         1.         0.        ]]\n",
      "value of table br policy [-0.55995134  0.55995134]\n",
      "[[0.33333333 0.33333333 0.33333333]\n",
      " [0.60853714 0.18849885 0.20296404]]\n",
      "value of hypernet br policy [ 0.0485195 -0.0485195]\n"
     ]
    },
    {
     "name": "stderr",
     "output_type": "stream",
     "text": [
      " 20%|██        | 20007/100000 [02:59<13:24, 99.44it/s] "
     ]
    },
    {
     "name": "stdout",
     "output_type": "stream",
     "text": [
      "[[0.33333333 0.33333333 0.33333333]\n",
      " [0.60042876 0.20764203 0.19192919]]\n",
      "[[0.         1.         0.        ]\n",
      " [0.33333333 0.33333333 0.33333333]]\n",
      "value of table br policy [ 0.40849957 -0.40849957]\n",
      "[[0.68373919 0.20120779 0.11505305]\n",
      " [0.33333333 0.33333333 0.33333333]]\n",
      "value of hypernet br policy [ 0.0262585 -0.0262585]\n",
      "[[0.68501079 0.201186   0.11380313]\n",
      " [0.33333333 0.33333333 0.33333333]]\n",
      "[[0.33333333 0.33333333 0.33333333]\n",
      " [0.         1.         0.        ]]\n",
      "value of table br policy [-0.57120766  0.57120766]\n",
      "[[0.33333333 0.33333333 0.33333333]\n",
      " [0.5990057  0.20924628 0.19174796]]\n",
      "value of hypernet br policy [ 0.02559218 -0.02559218]\n",
      "[[0.33333333 0.33333333 0.33333333]\n",
      " [0.60016334 0.20805824 0.19177841]]\n",
      "[[0.         1.         0.        ]\n",
      " [0.33333333 0.33333333 0.33333333]]\n",
      "value of table br policy [ 0.40838493 -0.40838493]\n",
      "[[0.68405205 0.20185252 0.11409547]\n",
      " [0.33333333 0.33333333 0.33333333]]\n",
      "value of hypernet br policy [ 0.02655986 -0.02655986]\n",
      "[[0.68405205 0.20185252 0.11409547]\n",
      " [0.33333333 0.33333333 0.33333333]]\n",
      "[[0.33333333 0.33333333 0.33333333]\n",
      " [0.         1.         0.        ]]\n",
      "value of table br policy [-0.56995658  0.56995658]\n",
      "[[0.33333333 0.33333333 0.33333333]\n",
      " [0.5997358  0.20782045 0.19244371]]\n",
      "value of hypernet br policy [ 0.02697868 -0.02697868]\n"
     ]
    },
    {
     "name": "stderr",
     "output_type": "stream",
     "text": [
      " 20%|██        | 20041/100000 [05:05<20:19, 65.57it/s]\n"
     ]
    },
    {
     "ename": "KeyboardInterrupt",
     "evalue": "",
     "output_type": "error",
     "traceback": [
      "\u001b[0;31m---------------------------------------------------------------------------\u001b[0m",
      "\u001b[0;31mKeyboardInterrupt\u001b[0m                         Traceback (most recent call last)",
      "\u001b[1;32m/home/tobias/studium/cmu/semester3/game_solving/project/code/notebooks/explore hypernet.ipynb Cell 21\u001b[0m line \u001b[0;36m1\n\u001b[0;32m----> <a href='vscode-notebook-cell:/home/tobias/studium/cmu/semester3/game_solving/project/code/notebooks/explore%20hypernet.ipynb#X26sZmlsZQ%3D%3D?line=0'>1</a>\u001b[0m policy_nets \u001b[39m=\u001b[39m trainer\u001b[39m.\u001b[39;49mtrain_simultaneous_br(nn_config)\n\u001b[1;32m      <a href='vscode-notebook-cell:/home/tobias/studium/cmu/semester3/game_solving/project/code/notebooks/explore%20hypernet.ipynb#X26sZmlsZQ%3D%3D?line=1'>2</a>\u001b[0m \u001b[39m# trainer.train_best_response(policy_nets, 0)\u001b[39;00m\n",
      "File \u001b[0;32m~/studium/cmu/semester3/game_solving/project/code/notebooks/../policy_gradient.py:326\u001b[0m, in \u001b[0;36mPolicyGradientHypernetTrainer.train_simultaneous_br\u001b[0;34m(self, opponent_config)\u001b[0m\n\u001b[1;32m    317\u001b[0m         res\u001b[39m.\u001b[39mappend(new_probs[action])\n\u001b[1;32m    318\u001b[0m \u001b[39mfor\u001b[39;00m (\n\u001b[1;32m    319\u001b[0m     state,\n\u001b[1;32m    320\u001b[0m     legal_actions,\n\u001b[0;32m   (...)\u001b[0m\n\u001b[1;32m    324\u001b[0m     opponent_net,\n\u001b[1;32m    325\u001b[0m ) \u001b[39min\u001b[39;00m batch:\n\u001b[0;32m--> 326\u001b[0m     new_probs \u001b[39m=\u001b[39m get_hypernet_probs(\n\u001b[1;32m    327\u001b[0m         policy_nets[train_player],\n\u001b[1;32m    328\u001b[0m         opponent_net,\n\u001b[1;32m    329\u001b[0m         \u001b[39mNone\u001b[39;49;00m,\n\u001b[1;32m    330\u001b[0m         train_player,\n\u001b[1;32m    331\u001b[0m         information_state_tensor\u001b[39m=\u001b[39;49mstate,\n\u001b[1;32m    332\u001b[0m         legal_actions_mask\u001b[39m=\u001b[39;49mlegal_actions,\n\u001b[1;32m    333\u001b[0m     )\n\u001b[1;32m    334\u001b[0m     ratio \u001b[39m=\u001b[39m new_probs[action] \u001b[39m/\u001b[39m orig_prob\u001b[39m.\u001b[39mdetach()\n\u001b[1;32m    335\u001b[0m     new_loss \u001b[39m=\u001b[39m \u001b[39m-\u001b[39mtorch\u001b[39m.\u001b[39mmin(\n\u001b[1;32m    336\u001b[0m         ratio \u001b[39m*\u001b[39m reward, torch\u001b[39m.\u001b[39mclip(ratio, \u001b[39m0.95\u001b[39m, \u001b[39m1.05\u001b[39m) \u001b[39m*\u001b[39m reward\n\u001b[1;32m    337\u001b[0m     )\n",
      "File \u001b[0;32m~/studium/cmu/semester3/game_solving/project/code/notebooks/../neural_policies.py:153\u001b[0m, in \u001b[0;36mget_hypernet_probs\u001b[0;34m(hypernet, input_net, state, player, information_state_tensor, legal_actions_mask)\u001b[0m\n\u001b[1;32m    151\u001b[0m \u001b[39mif\u001b[39;00m legal_actions_mask \u001b[39mis\u001b[39;00m \u001b[39mNone\u001b[39;00m:\n\u001b[1;32m    152\u001b[0m     legal_actions_mask \u001b[39m=\u001b[39m state\u001b[39m.\u001b[39mlegal_actions_mask(player)\n\u001b[0;32m--> 153\u001b[0m logits \u001b[39m=\u001b[39m hypernet(input_net, information_state_tensor)\n\u001b[1;32m    154\u001b[0m mask \u001b[39m=\u001b[39m torch\u001b[39m.\u001b[39mBoolTensor(legal_actions_mask)\n\u001b[1;32m    155\u001b[0m logits \u001b[39m=\u001b[39m logits\u001b[39m.\u001b[39mmasked_fill(\u001b[39m~\u001b[39mmask, \u001b[39mfloat\u001b[39m(\u001b[39m\"\u001b[39m\u001b[39m-inf\u001b[39m\u001b[39m\"\u001b[39m))\n",
      "File \u001b[0;32m~/bin/anaconda3/envs/game_solving/lib/python3.9/site-packages/torch/nn/modules/module.py:1518\u001b[0m, in \u001b[0;36mModule._wrapped_call_impl\u001b[0;34m(self, *args, **kwargs)\u001b[0m\n\u001b[1;32m   1516\u001b[0m     \u001b[39mreturn\u001b[39;00m \u001b[39mself\u001b[39m\u001b[39m.\u001b[39m_compiled_call_impl(\u001b[39m*\u001b[39margs, \u001b[39m*\u001b[39m\u001b[39m*\u001b[39mkwargs)  \u001b[39m# type: ignore[misc]\u001b[39;00m\n\u001b[1;32m   1517\u001b[0m \u001b[39melse\u001b[39;00m:\n\u001b[0;32m-> 1518\u001b[0m     \u001b[39mreturn\u001b[39;00m \u001b[39mself\u001b[39;49m\u001b[39m.\u001b[39;49m_call_impl(\u001b[39m*\u001b[39;49margs, \u001b[39m*\u001b[39;49m\u001b[39m*\u001b[39;49mkwargs)\n",
      "File \u001b[0;32m~/bin/anaconda3/envs/game_solving/lib/python3.9/site-packages/torch/nn/modules/module.py:1527\u001b[0m, in \u001b[0;36mModule._call_impl\u001b[0;34m(self, *args, **kwargs)\u001b[0m\n\u001b[1;32m   1522\u001b[0m \u001b[39m# If we don't have any hooks, we want to skip the rest of the logic in\u001b[39;00m\n\u001b[1;32m   1523\u001b[0m \u001b[39m# this function, and just call forward.\u001b[39;00m\n\u001b[1;32m   1524\u001b[0m \u001b[39mif\u001b[39;00m \u001b[39mnot\u001b[39;00m (\u001b[39mself\u001b[39m\u001b[39m.\u001b[39m_backward_hooks \u001b[39mor\u001b[39;00m \u001b[39mself\u001b[39m\u001b[39m.\u001b[39m_backward_pre_hooks \u001b[39mor\u001b[39;00m \u001b[39mself\u001b[39m\u001b[39m.\u001b[39m_forward_hooks \u001b[39mor\u001b[39;00m \u001b[39mself\u001b[39m\u001b[39m.\u001b[39m_forward_pre_hooks\n\u001b[1;32m   1525\u001b[0m         \u001b[39mor\u001b[39;00m _global_backward_pre_hooks \u001b[39mor\u001b[39;00m _global_backward_hooks\n\u001b[1;32m   1526\u001b[0m         \u001b[39mor\u001b[39;00m _global_forward_hooks \u001b[39mor\u001b[39;00m _global_forward_pre_hooks):\n\u001b[0;32m-> 1527\u001b[0m     \u001b[39mreturn\u001b[39;00m forward_call(\u001b[39m*\u001b[39;49margs, \u001b[39m*\u001b[39;49m\u001b[39m*\u001b[39;49mkwargs)\n\u001b[1;32m   1529\u001b[0m \u001b[39mtry\u001b[39;00m:\n\u001b[1;32m   1530\u001b[0m     result \u001b[39m=\u001b[39m \u001b[39mNone\u001b[39;00m\n",
      "File \u001b[0;32m~/studium/cmu/semester3/game_solving/project/code/notebooks/../neural_policies.py:103\u001b[0m, in \u001b[0;36mHyperNetworkNNOutput.forward\u001b[0;34m(self, in_model, x)\u001b[0m\n\u001b[1;32m     99\u001b[0m \u001b[39mdef\u001b[39;00m \u001b[39mforward\u001b[39m(\u001b[39mself\u001b[39m, in_model, x):\n\u001b[1;32m    100\u001b[0m \u001b[39m    \u001b[39m\u001b[39m\"\"\"\u001b[39;00m\n\u001b[1;32m    101\u001b[0m \u001b[39m    forward pass of both the hypernetwork and the output network\u001b[39;00m\n\u001b[1;32m    102\u001b[0m \u001b[39m    \"\"\"\u001b[39;00m\n\u001b[0;32m--> 103\u001b[0m     out_nn \u001b[39m=\u001b[39m \u001b[39mself\u001b[39;49m\u001b[39m.\u001b[39;49mmodel_output(in_model)\n\u001b[1;32m    104\u001b[0m     action_logits \u001b[39m=\u001b[39m out_nn(x)\n\u001b[1;32m    105\u001b[0m     \u001b[39mreturn\u001b[39;00m action_logits\n",
      "File \u001b[0;32m~/studium/cmu/semester3/game_solving/project/code/notebooks/../neural_policies.py:90\u001b[0m, in \u001b[0;36mHyperNetworkNNOutput.model_output\u001b[0;34m(self, in_model)\u001b[0m\n\u001b[1;32m     89\u001b[0m \u001b[39mdef\u001b[39;00m \u001b[39mmodel_output\u001b[39m(\u001b[39mself\u001b[39m, in_model):\n\u001b[0;32m---> 90\u001b[0m     out_nn_weights \u001b[39m=\u001b[39m \u001b[39mself\u001b[39;49m\u001b[39m.\u001b[39;49mmodel_weight_output(in_model)\n\u001b[1;32m     91\u001b[0m     weight_norm \u001b[39m=\u001b[39m torch\u001b[39m.\u001b[39mlinalg\u001b[39m.\u001b[39mnorm(out_nn_weights, \u001b[39mord\u001b[39m\u001b[39m=\u001b[39m\u001b[39m1\u001b[39m)\n\u001b[1;32m     92\u001b[0m     max_norm \u001b[39m=\u001b[39m out_nn_weights\u001b[39m.\u001b[39mnumel() \u001b[39m*\u001b[39m \u001b[39m2\u001b[39m\n",
      "File \u001b[0;32m~/studium/cmu/semester3/game_solving/project/code/notebooks/../neural_policies.py:87\u001b[0m, in \u001b[0;36mHyperNetworkNNOutput.model_weight_output\u001b[0;34m(self, in_model)\u001b[0m\n\u001b[1;32m     85\u001b[0m out_nn_weights \u001b[39m=\u001b[39m \u001b[39mself\u001b[39m\u001b[39m.\u001b[39m_model(model_weights\u001b[39m.\u001b[39mdetach())\n\u001b[1;32m     86\u001b[0m out_nn_weights[:\u001b[39m3\u001b[39m] \u001b[39m=\u001b[39m \u001b[39m0\u001b[39m\n\u001b[0;32m---> 87\u001b[0m \u001b[39mreturn\u001b[39;00m out_nn_weights\n",
      "File \u001b[0;32m~/studium/cmu/semester3/game_solving/project/code/notebooks/../neural_policies.py:87\u001b[0m, in \u001b[0;36mHyperNetworkNNOutput.model_weight_output\u001b[0;34m(self, in_model)\u001b[0m\n\u001b[1;32m     85\u001b[0m out_nn_weights \u001b[39m=\u001b[39m \u001b[39mself\u001b[39m\u001b[39m.\u001b[39m_model(model_weights\u001b[39m.\u001b[39mdetach())\n\u001b[1;32m     86\u001b[0m out_nn_weights[:\u001b[39m3\u001b[39m] \u001b[39m=\u001b[39m \u001b[39m0\u001b[39m\n\u001b[0;32m---> 87\u001b[0m \u001b[39mreturn\u001b[39;00m out_nn_weights\n",
      "File \u001b[0;32m_pydevd_bundle/pydevd_cython.pyx:1600\u001b[0m, in \u001b[0;36m_pydevd_bundle.pydevd_cython.trace_dispatch\u001b[0;34m()\u001b[0m\n",
      "File \u001b[0;32m_pydevd_bundle/pydevd_cython.pyx:1457\u001b[0m, in \u001b[0;36m_pydevd_bundle.pydevd_cython.SafeCallWrapper.__call__\u001b[0;34m()\u001b[0m\n",
      "File \u001b[0;32m_pydevd_bundle/pydevd_cython.pyx:1834\u001b[0m, in \u001b[0;36m_pydevd_bundle.pydevd_cython.ThreadTracer.__call__\u001b[0;34m()\u001b[0m\n",
      "File \u001b[0;32m_pydevd_bundle/pydevd_cython.pyx:1152\u001b[0m, in \u001b[0;36m_pydevd_bundle.pydevd_cython.PyDBFrame.trace_dispatch\u001b[0;34m()\u001b[0m\n",
      "File \u001b[0;32m_pydevd_bundle/pydevd_cython.pyx:1135\u001b[0m, in \u001b[0;36m_pydevd_bundle.pydevd_cython.PyDBFrame.trace_dispatch\u001b[0;34m()\u001b[0m\n",
      "File \u001b[0;32m_pydevd_bundle/pydevd_cython.pyx:312\u001b[0m, in \u001b[0;36m_pydevd_bundle.pydevd_cython.PyDBFrame.do_wait_suspend\u001b[0;34m()\u001b[0m\n",
      "File \u001b[0;32m~/bin/anaconda3/envs/game_solving/lib/python3.9/site-packages/debugpy/_vendored/pydevd/pydevd.py:2070\u001b[0m, in \u001b[0;36mPyDB.do_wait_suspend\u001b[0;34m(self, thread, frame, event, arg, exception_type)\u001b[0m\n\u001b[1;32m   2067\u001b[0m             from_this_thread\u001b[39m.\u001b[39mappend(frame_custom_thread_id)\n\u001b[1;32m   2069\u001b[0m     \u001b[39mwith\u001b[39;00m \u001b[39mself\u001b[39m\u001b[39m.\u001b[39m_threads_suspended_single_notification\u001b[39m.\u001b[39mnotify_thread_suspended(thread_id, thread, stop_reason):\n\u001b[0;32m-> 2070\u001b[0m         keep_suspended \u001b[39m=\u001b[39m \u001b[39mself\u001b[39;49m\u001b[39m.\u001b[39;49m_do_wait_suspend(thread, frame, event, arg, suspend_type, from_this_thread, frames_tracker)\n\u001b[1;32m   2072\u001b[0m frames_list \u001b[39m=\u001b[39m \u001b[39mNone\u001b[39;00m\n\u001b[1;32m   2074\u001b[0m \u001b[39mif\u001b[39;00m keep_suspended:\n\u001b[1;32m   2075\u001b[0m     \u001b[39m# This means that we should pause again after a set next statement.\u001b[39;00m\n",
      "File \u001b[0;32m~/bin/anaconda3/envs/game_solving/lib/python3.9/site-packages/debugpy/_vendored/pydevd/pydevd.py:2106\u001b[0m, in \u001b[0;36mPyDB._do_wait_suspend\u001b[0;34m(self, thread, frame, event, arg, suspend_type, from_this_thread, frames_tracker)\u001b[0m\n\u001b[1;32m   2103\u001b[0m         \u001b[39mself\u001b[39m\u001b[39m.\u001b[39m_call_input_hook()\n\u001b[1;32m   2105\u001b[0m     \u001b[39mself\u001b[39m\u001b[39m.\u001b[39mprocess_internal_commands()\n\u001b[0;32m-> 2106\u001b[0m     time\u001b[39m.\u001b[39;49msleep(\u001b[39m0.01\u001b[39;49m)\n\u001b[1;32m   2108\u001b[0m \u001b[39mself\u001b[39m\u001b[39m.\u001b[39mcancel_async_evaluation(get_current_thread_id(thread), \u001b[39mstr\u001b[39m(\u001b[39mid\u001b[39m(frame)))\n\u001b[1;32m   2110\u001b[0m \u001b[39m# process any stepping instructions\u001b[39;00m\n",
      "\u001b[0;31mKeyboardInterrupt\u001b[0m: "
     ]
    }
   ],
   "source": [
    "policy_nets = trainer.train_simultaneous_br(nn_config)\n",
    "# trainer.train_best_response(policy_nets, 0)"
   ]
  },
  {
   "cell_type": "code",
   "execution_count": null,
   "id": "3bf78ec6",
   "metadata": {},
   "outputs": [],
   "source": [
    "ind = -1\n",
    "nn_config\n",
    "game\n",
    "input_nets[0]"
   ]
  },
  {
   "cell_type": "code",
   "execution_count": null,
   "id": "4e75f8cc",
   "metadata": {},
   "outputs": [],
   "source": [
    "# nn_policy = neural_policies.create_policy_net(game, nn_config)\n",
    "ind = ind + 1\n",
    "nn_player = 1\n",
    "nn_policy = input_nets[ind]\n",
    "nn_tab_policy = neural_policies.nn_to_tabular_policy(game, nn_policy, nn_player)\n",
    "# br_pol = main.tabular_br(game, 1-nn_player, nn_tab_policy)\n",
    "print(nn_tab_policy.action_probability_array)\n",
    "\n",
    "# main.policy_gradient_br(\n",
    "#     game, nn_config, reinforce_config, nn_player, nn_policy, nn_tab_policy\n",
    "# )\n",
    "\n",
    "br = main.compute_best_response_tabular_policy(game, nn_tab_policy, 1-nn_player)\n",
    "print(br.action_probability_array)\n",
    "policies = [nn_tab_policy, br] if nn_player == 0 else [br, nn_tab_policy]\n",
    "combined_policy = main.combine_tabular_policies(game, *policies)\n",
    "print(\"value of table br policy\", main.policy_value(game, combined_policy))\n",
    "\n",
    "nn_br = neural_policies.nn_to_tabular_policy(game, policy_nets[1-nn_player], 1-nn_player, nn_policy)\n",
    "print(nn_br.action_probability_array)\n",
    "policies = [nn_tab_policy, nn_br] if nn_player == 0 else [nn_br, nn_tab_policy]\n",
    "combined_policy = main.combine_tabular_policies(game, *policies)\n",
    "print(\"value of hypernet br policy\", main.policy_value(game, combined_policy))"
   ]
  },
  {
   "cell_type": "code",
   "execution_count": null,
   "id": "61530746",
   "metadata": {},
   "outputs": [],
   "source": [
    "pnout = policy_nets[1].model_output(input_nets[ind])\n",
    "[print(x) for x in pnout.parameters()]"
   ]
  },
  {
   "cell_type": "code",
   "execution_count": null,
   "id": "5df964a4",
   "metadata": {},
   "outputs": [],
   "source": [
    "pnout\n",
    "game.information_state_tensor_shape()"
   ]
  },
  {
   "cell_type": "code",
   "execution_count": null,
   "id": "3f05b4bd",
   "metadata": {},
   "outputs": [],
   "source": [
    "g2 = pyspiel.load_game(\"leduc_poker\")\n",
    "g2.information_state_tensor_shape()\n",
    "s = game.new_initial_state()\n",
    "s.information_state_tensor(1)"
   ]
  },
  {
   "cell_type": "code",
   "execution_count": null,
   "id": "88051cf4",
   "metadata": {},
   "outputs": [],
   "source": []
  },
  {
   "cell_type": "code",
   "execution_count": null,
   "id": "ff3df514",
   "metadata": {},
   "outputs": [],
   "source": []
  },
  {
   "cell_type": "markdown",
   "id": "6ee421d7",
   "metadata": {},
   "source": [
    "# test setting weights"
   ]
  },
  {
   "cell_type": "code",
   "execution_count": null,
   "id": "9c9c05d1",
   "metadata": {},
   "outputs": [],
   "source": [
    "import neural_policies\n",
    "importlib.reload(neural_policies)\n",
    "import torch.nn as nn"
   ]
  },
  {
   "cell_type": "code",
   "execution_count": null,
   "id": "2ed76a06",
   "metadata": {},
   "outputs": [],
   "source": [
    "mlp = neural_policies.create_policy_net(game, nn_config)"
   ]
  },
  {
   "cell_type": "code",
   "execution_count": null,
   "id": "211ac4c1",
   "metadata": {},
   "outputs": [],
   "source": [
    "new_weights = torch.ones_like(mlp.get_weights(), requires_grad=True)"
   ]
  },
  {
   "cell_type": "code",
   "execution_count": null,
   "id": "0b838d98",
   "metadata": {},
   "outputs": [],
   "source": [
    "new_weights.requires_grad, new_weights.grad"
   ]
  },
  {
   "cell_type": "code",
   "execution_count": null,
   "id": "7c3ee988",
   "metadata": {},
   "outputs": [],
   "source": [
    "mlp.set_weights(new_weights)"
   ]
  },
  {
   "cell_type": "code",
   "execution_count": null,
   "id": "9a4cd11c",
   "metadata": {},
   "outputs": [],
   "source": [
    "mlp.network[0].weight.grad"
   ]
  },
  {
   "cell_type": "code",
   "execution_count": null,
   "id": "be16b878",
   "metadata": {},
   "outputs": [],
   "source": [
    "res = mlp.forward(torch.zeros(1))"
   ]
  },
  {
   "cell_type": "code",
   "execution_count": null,
   "id": "73bdc21a",
   "metadata": {},
   "outputs": [],
   "source": [
    "loss = res.sum()\n",
    "loss.backward()"
   ]
  },
  {
   "cell_type": "code",
   "execution_count": null,
   "id": "b0b041f4",
   "metadata": {},
   "outputs": [],
   "source": [
    "mlp.network[0].weight.grad"
   ]
  },
  {
   "cell_type": "code",
   "execution_count": null,
   "id": "6cf42995",
   "metadata": {},
   "outputs": [],
   "source": [
    "new_weights.grad"
   ]
  },
  {
   "cell_type": "code",
   "execution_count": null,
   "id": "8c8e83cc",
   "metadata": {},
   "outputs": [],
   "source": []
  },
  {
   "cell_type": "code",
   "execution_count": null,
   "id": "82efd974",
   "metadata": {},
   "outputs": [],
   "source": [
    "linear = nn.Linear(2, 2)\n",
    "linear.weight.grad"
   ]
  },
  {
   "cell_type": "code",
   "execution_count": null,
   "id": "b9323c69",
   "metadata": {},
   "outputs": [],
   "source": [
    "new_weights = torch.ones(8, requires_grad=True)\n",
    "# linear.weight = nn.Parameter(new_weights)\n",
    "linear.weight.requires_grad = False\n",
    "linear.weight.copy_(new_weights[:4].view(linear.weight.shape))"
   ]
  },
  {
   "cell_type": "code",
   "execution_count": null,
   "id": "e57a1cb4",
   "metadata": {},
   "outputs": [],
   "source": [
    "inp = torch.ones(2, requires_grad=True)\n",
    "loss = linear(inp).sum()"
   ]
  },
  {
   "cell_type": "code",
   "execution_count": null,
   "id": "d0e14a42",
   "metadata": {},
   "outputs": [],
   "source": [
    "loss.backward()"
   ]
  },
  {
   "cell_type": "code",
   "execution_count": null,
   "id": "1e07c314",
   "metadata": {},
   "outputs": [],
   "source": [
    "inp.grad\n",
    "linear.weight.grad"
   ]
  },
  {
   "cell_type": "code",
   "execution_count": null,
   "id": "180d528f",
   "metadata": {},
   "outputs": [],
   "source": [
    "new_weights.grad"
   ]
  },
  {
   "cell_type": "code",
   "execution_count": null,
   "id": "ce8ae9ca",
   "metadata": {},
   "outputs": [],
   "source": []
  }
 ],
 "metadata": {
  "kernelspec": {
   "display_name": "Python 3 (ipykernel)",
   "language": "python",
   "name": "python3"
  },
  "language_info": {
   "codemirror_mode": {
    "name": "ipython",
    "version": 3
   },
   "file_extension": ".py",
   "mimetype": "text/x-python",
   "name": "python",
   "nbconvert_exporter": "python",
   "pygments_lexer": "ipython3",
   "version": "3.9.18"
  }
 },
 "nbformat": 4,
 "nbformat_minor": 5
}
